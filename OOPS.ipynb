{
 "cells": [
  {
   "cell_type": "code",
   "execution_count": 2,
   "id": "e25218a4",
   "metadata": {},
   "outputs": [
    {
     "name": "stdout",
     "output_type": "stream",
     "text": [
      "4\n",
      "4\n"
     ]
    }
   ],
   "source": [
    "# Class vs instance variables\n",
    "# Create a class Car with a class variable wheels = 4. Create two objects and verify that both share the same value.\n",
    "\n",
    "class car:\n",
    "    wheels = 4\n",
    "\n",
    "car1 = car()\n",
    "car2 = car()\n",
    "\n",
    "print(car1.wheels)\n",
    "print(car2.wheels)"
   ]
  },
  {
   "cell_type": "code",
   "execution_count": null,
   "id": "affc9327",
   "metadata": {},
   "outputs": [
    {
     "data": {
      "text/plain": [
       "'AAA'"
      ]
     },
     "execution_count": 7,
     "metadata": {},
     "output_type": "execute_result"
    }
   ],
   "source": [
    "# Create a class Student with a class variable school_name and an instance variable name. Show how changing school_name affects all objects, but changing name affects only one object.\n",
    "\n",
    "class student:\n",
    "    schoolname = \"SSS\"\n",
    "    def __init__(self, name):\n",
    "        self.name = name\n",
    "\n",
    "student1 = student(\"Mohan\")\n",
    "student1.schoolname\n",
    "student1.schoolname = \"AAA\"\n",
    "student1.schoolname"
   ]
  },
  {
   "cell_type": "code",
   "execution_count": 10,
   "id": "7e12e0da",
   "metadata": {},
   "outputs": [
    {
     "data": {
      "text/plain": [
       "'Mohan incs'"
      ]
     },
     "execution_count": 10,
     "metadata": {},
     "output_type": "execute_result"
    }
   ],
   "source": [
    "# Create a class Employee with a class variable company = \"ABC Corp\". For one instance, override company as an instance variable. Print both to show the difference.\n",
    "\n",
    "class employee:\n",
    "    company = \"ABC corp\"\n",
    "    \n",
    "    def __init__(self, company):\n",
    "        self.company = company\n",
    "\n",
    "employee.company\n",
    "\n",
    "emp1 = employee(\"Mohan incs\")\n",
    "\n",
    "emp1.company"
   ]
  },
  {
   "cell_type": "code",
   "execution_count": 16,
   "id": "fb1d3853",
   "metadata": {},
   "outputs": [
    {
     "name": "stdout",
     "output_type": "stream",
     "text": [
      "'1958' by 'Mohan1'\n",
      "'1959' by 'Mohan2'\n",
      "4\n"
     ]
    }
   ],
   "source": [
    "# Create a class Book with a class variable count that tracks how many instances of Book have been created.\n",
    "\n",
    "class book:\n",
    "    count = 0\n",
    "\n",
    "    def __init__(self, title, author):\n",
    "        self.title = title\n",
    "        self.author = author\n",
    "\n",
    "        book.count += 1\n",
    "\n",
    "    def display(self):\n",
    "        return f\"'{self.title}' by '{self.author}'\"\n",
    "    \n",
    "b1 = book(\"1958\", \"Mohan1\")\n",
    "b2 = book(\"1959\", \"Mohan2\")\n",
    "b3 = book(\"1960\", \"Mohan3\")\n",
    "b4 = book(\"1961\", \"Mohan4\")\n",
    "\n",
    "print(b1.display())\n",
    "print(b2.display())\n",
    "print(book.count)\n",
    "\n"
   ]
  },
  {
   "cell_type": "code",
   "execution_count": null,
   "id": "9485cea8",
   "metadata": {},
   "outputs": [],
   "source": []
  }
 ],
 "metadata": {
  "kernelspec": {
   "display_name": "churn-env",
   "language": "python",
   "name": "python3"
  },
  "language_info": {
   "codemirror_mode": {
    "name": "ipython",
    "version": 3
   },
   "file_extension": ".py",
   "mimetype": "text/x-python",
   "name": "python",
   "nbconvert_exporter": "python",
   "pygments_lexer": "ipython3",
   "version": "3.10.18"
  }
 },
 "nbformat": 4,
 "nbformat_minor": 5
}
