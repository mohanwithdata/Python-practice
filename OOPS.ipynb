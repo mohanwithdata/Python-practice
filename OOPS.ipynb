{
 "cells": [
  {
   "cell_type": "code",
   "execution_count": 2,
   "id": "e25218a4",
   "metadata": {},
   "outputs": [
    {
     "name": "stdout",
     "output_type": "stream",
     "text": [
      "4\n",
      "4\n"
     ]
    }
   ],
   "source": [
    "# Class vs instance variables\n",
    "# Create a class Car with a class variable wheels = 4. Create two objects and verify that both share the same value.\n",
    "\n",
    "class car:\n",
    "    wheels = 4\n",
    "\n",
    "car1 = car()\n",
    "car2 = car()\n",
    "\n",
    "print(car1.wheels)\n",
    "print(car2.wheels)"
   ]
  },
  {
   "cell_type": "code",
   "execution_count": null,
   "id": "affc9327",
   "metadata": {},
   "outputs": [
    {
     "data": {
      "text/plain": [
       "'AAA'"
      ]
     },
     "execution_count": 7,
     "metadata": {},
     "output_type": "execute_result"
    }
   ],
   "source": [
    "# Create a class Student with a class variable school_name and an instance variable name. Show how changing school_name affects all objects, but changing name affects only one object.\n",
    "\n",
    "class student:\n",
    "    schoolname = \"SSS\"\n",
    "    def __init__(self, name):\n",
    "        self.name = name\n",
    "\n",
    "student1 = student(\"Mohan\")\n",
    "student1.schoolname\n",
    "student1.schoolname = \"AAA\"\n",
    "student1.schoolname"
   ]
  },
  {
   "cell_type": "code",
   "execution_count": 10,
   "id": "7e12e0da",
   "metadata": {},
   "outputs": [
    {
     "data": {
      "text/plain": [
       "'Mohan incs'"
      ]
     },
     "execution_count": 10,
     "metadata": {},
     "output_type": "execute_result"
    }
   ],
   "source": [
    "# Create a class Employee with a class variable company = \"ABC Corp\". For one instance, override company as an instance variable. Print both to show the difference.\n",
    "\n",
    "class employee:\n",
    "    company = \"ABC corp\"\n",
    "    \n",
    "    def __init__(self, company):\n",
    "        self.company = company\n",
    "\n",
    "employee.company\n",
    "\n",
    "emp1 = employee(\"Mohan incs\")\n",
    "\n",
    "emp1.company"
   ]
  },
  {
   "cell_type": "code",
   "execution_count": 16,
   "id": "fb1d3853",
   "metadata": {},
   "outputs": [
    {
     "name": "stdout",
     "output_type": "stream",
     "text": [
      "'1958' by 'Mohan1'\n",
      "'1959' by 'Mohan2'\n",
      "4\n"
     ]
    }
   ],
   "source": [
    "# Create a class Book with a class variable count that tracks how many instances of Book have been created.\n",
    "\n",
    "class book:\n",
    "    count = 0\n",
    "\n",
    "    def __init__(self, title, author):\n",
    "        self.title = title\n",
    "        self.author = author\n",
    "\n",
    "        book.count += 1\n",
    "\n",
    "    def display(self):\n",
    "        return f\"'{self.title}' by '{self.author}'\"\n",
    "    \n",
    "b1 = book(\"1958\", \"Mohan1\")\n",
    "b2 = book(\"1959\", \"Mohan2\")\n",
    "b3 = book(\"1960\", \"Mohan3\")\n",
    "b4 = book(\"1961\", \"Mohan4\")\n",
    "\n",
    "print(b1.display())\n",
    "print(b2.display())\n",
    "print(book.count)\n",
    "\n"
   ]
  },
  {
   "cell_type": "code",
   "execution_count": 6,
   "id": "9485cea8",
   "metadata": {},
   "outputs": [
    {
     "name": "stdout",
     "output_type": "stream",
     "text": [
      "Initial Tax Rate: 0.05\n",
      "Initial Tax Rate: 1050.0\n",
      "Initial Tax Rate: 2100.0\n"
     ]
    }
   ],
   "source": [
    "# Create a class Order with a class variable tax_rate and an instance variable amount. Show how changing tax_rate affects all orders.\n",
    "\n",
    "class order:\n",
    "    taxrate = 0.05\n",
    "\n",
    "    def __init__(self, amount):\n",
    "        self.amount = amount\n",
    "\n",
    "    def totalwithtax(self):\n",
    "        return self.amount * (1 + order.taxrate)\n",
    "    \n",
    "o1 = order(1000)\n",
    "o2 = order(2000)\n",
    "\n",
    "print(\"Initial Tax Rate:\", order.taxrate)\n",
    "print(\"Initial Tax Rate:\", o1.totalwithtax())\n",
    "print(\"Initial Tax Rate:\", o2.totalwithtax())"
   ]
  },
  {
   "cell_type": "code",
   "execution_count": 7,
   "id": "befd8d1d",
   "metadata": {},
   "outputs": [
    {
     "data": {
      "text/plain": [
       "['book 1', 'book 2']"
      ]
     },
     "execution_count": 7,
     "metadata": {},
     "output_type": "execute_result"
    }
   ],
   "source": [
    "# Create a class Library with a class variable books = []. Add books using instances and show how all instances share the same list (pitfall of mutable class variables).\n",
    "\n",
    "class library:\n",
    "    books = []\n",
    "\n",
    "    def __init__(self, name):\n",
    "        self.name = name\n",
    "\n",
    "    def addbook(self, book):\n",
    "        library.books.append(book)\n",
    "\n",
    "lib1 = library(\"library 1\")\n",
    "lib2 = library(\"library 2\")\n",
    "\n",
    "lib1.addbook(\"book 1\")\n",
    "lib1.addbook(\"book 2\")\n",
    "\n",
    "lib1.books"
   ]
  },
  {
   "cell_type": "code",
   "execution_count": 10,
   "id": "b1025d84",
   "metadata": {},
   "outputs": [
    {
     "name": "stdout",
     "output_type": "stream",
     "text": [
      "['book 1', 'book 2']\n",
      "['Book 1', 'Book 2']\n"
     ]
    }
   ],
   "source": [
    "# Modify the Library class so that each instance has its own list of books, avoiding the shared mutable problem.\n",
    "\n",
    "class library:\n",
    "    def __init__(self, name):\n",
    "        self.name = name\n",
    "        self.books = []\n",
    "\n",
    "    def addbook(self, book):\n",
    "        self.books.append(book)\n",
    "\n",
    "lib1 = library(\"library 1\")\n",
    "\n",
    "lib2 = library(\"library 2\")\n",
    "\n",
    "lib1.addbook(\"book 1\")\n",
    "lib1.addbook(\"book 2\")\n",
    "lib2.addbook(\"Book 1\")\n",
    "lib2.addbook(\"Book 2\")\n",
    "\n",
    "print(lib1.books)\n",
    "print(lib2.books)"
   ]
  },
  {
   "cell_type": "code",
   "execution_count": 13,
   "id": "9d785b4c",
   "metadata": {},
   "outputs": [
    {
     "name": "stdout",
     "output_type": "stream",
     "text": [
      "Animal\n",
      "Animal\n",
      "Animal\n"
     ]
    }
   ],
   "source": [
    "# Create a base class Animal with a class variable kingdom = \"Animalia\". Inherit Dog and Cat classes. Show how class variables behave across inheritance.\n",
    "\n",
    "class animal:\n",
    "    kingdom = \"Animal\"\n",
    "\n",
    "class dog(animal):\n",
    "    pass\n",
    "\n",
    "class cat(animal):\n",
    "    pass\n",
    "\n",
    "print(animal.kingdom)\n",
    "print(dog.kingdom)\n",
    "print(cat.kingdom)"
   ]
  },
  {
   "cell_type": "code",
   "execution_count": 14,
   "id": "79e64f7b",
   "metadata": {},
   "outputs": [
    {
     "name": "stdout",
     "output_type": "stream",
     "text": [
      "User 1: id=1, name=alice\n",
      "User 1: id=2, name=bob\n",
      "User 1: id=3, name=charlie\n"
     ]
    }
   ],
   "source": [
    "# Create a class User with a class variable next_id that auto-increments each time a new user object is created.\n",
    "\n",
    "class user:\n",
    "    nextid = 1\n",
    "\n",
    "    def __init__(self, name):\n",
    "        self.id = user.nextid\n",
    "        self.name = name\n",
    "        user.nextid += 1\n",
    "\n",
    "u1 = user(\"alice\")\n",
    "u2 = user(\"bob\")\n",
    "u3 = user(\"charlie\")\n",
    "\n",
    "print(f\"User 1: id={u1.id}, name={u1.name}\")\n",
    "print(f\"User 1: id={u2.id}, name={u2.name}\")\n",
    "print(f\"User 1: id={u3.id}, name={u3.name}\")"
   ]
  },
  {
   "cell_type": "code",
   "execution_count": 19,
   "id": "9e3c7476",
   "metadata": {},
   "outputs": [
    {
     "name": "stdout",
     "output_type": "stream",
     "text": [
      "Deposited 200. New Balance: 700\n",
      "Withdraw 100. New Balance: 900\n",
      "Bank: Global Bank Account: 102 Balance: 900\n"
     ]
    }
   ],
   "source": [
    "# Create a class BankAccount: Class variable → bank_name (shared across accounts). Instance variables → account_number, balance. Demonstrate deposits, withdrawals, and show the difference between class & instance variables.\n",
    "\n",
    "class bankaccount:\n",
    "    bankname = \"Global Bank\"\n",
    "\n",
    "    def __init__(self, accountnumber, balance=0):\n",
    "        self.accountnumber = accountnumber\n",
    "        self.balance = balance\n",
    "\n",
    "    def deposit(self, amount):\n",
    "        if amount > 0:\n",
    "            self.balance += amount\n",
    "            print(f\"Deposited {amount}. New Balance: {self.balance}\")\n",
    "        else:\n",
    "            print(\"Deposit amount must be positive.\")\n",
    "\n",
    "    def withdraw(self, amount):\n",
    "        if 0 < amount <= self.balance:\n",
    "            self.balance -= amount\n",
    "            print(f\"Withdraw {amount}. New Balance: {self.balance}\")\n",
    "        else:\n",
    "            print(\"Insufficient balance or invalid amount.\")\n",
    "\n",
    "    def displayaccountinfo(self):\n",
    "        print(f\"Bank: {bankaccount.bankname}\",\n",
    "              f\"Account: {self.accountnumber}\",\n",
    "              f\"Balance: {self.balance}\",)\n",
    "        \n",
    "acc1 = bankaccount(101, 500)\n",
    "acc2 = bankaccount(102, 1000)\n",
    "\n",
    "acc1.deposit(200)\n",
    "acc2.withdraw(100)\n",
    "\n",
    "acc2.displayaccountinfo()"
   ]
  },
  {
   "cell_type": "code",
   "execution_count": null,
   "id": "e1254bba",
   "metadata": {},
   "outputs": [],
   "source": []
  },
  {
   "cell_type": "code",
   "execution_count": null,
   "id": "edcab202",
   "metadata": {},
   "outputs": [],
   "source": []
  }
 ],
 "metadata": {
  "kernelspec": {
   "display_name": "Python 3",
   "language": "python",
   "name": "python3"
  },
  "language_info": {
   "codemirror_mode": {
    "name": "ipython",
    "version": 3
   },
   "file_extension": ".py",
   "mimetype": "text/x-python",
   "name": "python",
   "nbconvert_exporter": "python",
   "pygments_lexer": "ipython3",
   "version": "3.13.6"
  }
 },
 "nbformat": 4,
 "nbformat_minor": 5
}
