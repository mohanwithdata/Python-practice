{
 "cells": [
  {
   "cell_type": "code",
   "execution_count": 2,
   "id": "e25218a4",
   "metadata": {},
   "outputs": [
    {
     "name": "stdout",
     "output_type": "stream",
     "text": [
      "4\n",
      "4\n"
     ]
    }
   ],
   "source": [
    "# Class vs instance variables\n",
    "# Create a class Car with a class variable wheels = 4. Create two objects and verify that both share the same value.\n",
    "\n",
    "class car:\n",
    "    wheels = 4\n",
    "\n",
    "car1 = car()\n",
    "car2 = car()\n",
    "\n",
    "print(car1.wheels)\n",
    "print(car2.wheels)"
   ]
  },
  {
   "cell_type": "code",
   "execution_count": null,
   "id": "affc9327",
   "metadata": {},
   "outputs": [
    {
     "data": {
      "text/plain": [
       "'AAA'"
      ]
     },
     "execution_count": 7,
     "metadata": {},
     "output_type": "execute_result"
    }
   ],
   "source": [
    "# Create a class Student with a class variable school_name and an instance variable name. Show how changing school_name affects all objects, but changing name affects only one object.\n",
    "\n",
    "class student:\n",
    "    schoolname = \"SSS\"\n",
    "    def __init__(self, name):\n",
    "        self.name = name\n",
    "\n",
    "student1 = student(\"Mohan\")\n",
    "student1.schoolname\n",
    "student1.schoolname = \"AAA\"\n",
    "student1.schoolname"
   ]
  },
  {
   "cell_type": "code",
   "execution_count": 10,
   "id": "7e12e0da",
   "metadata": {},
   "outputs": [
    {
     "data": {
      "text/plain": [
       "'Mohan incs'"
      ]
     },
     "execution_count": 10,
     "metadata": {},
     "output_type": "execute_result"
    }
   ],
   "source": [
    "# Create a class Employee with a class variable company = \"ABC Corp\". For one instance, override company as an instance variable. Print both to show the difference.\n",
    "\n",
    "class employee:\n",
    "    company = \"ABC corp\"\n",
    "    \n",
    "    def __init__(self, company):\n",
    "        self.company = company\n",
    "\n",
    "employee.company\n",
    "\n",
    "emp1 = employee(\"Mohan incs\")\n",
    "\n",
    "emp1.company"
   ]
  },
  {
   "cell_type": "code",
   "execution_count": 16,
   "id": "fb1d3853",
   "metadata": {},
   "outputs": [
    {
     "name": "stdout",
     "output_type": "stream",
     "text": [
      "'1958' by 'Mohan1'\n",
      "'1959' by 'Mohan2'\n",
      "4\n"
     ]
    }
   ],
   "source": [
    "# Create a class Book with a class variable count that tracks how many instances of Book have been created.\n",
    "\n",
    "class book:\n",
    "    count = 0\n",
    "\n",
    "    def __init__(self, title, author):\n",
    "        self.title = title\n",
    "        self.author = author\n",
    "\n",
    "        book.count += 1\n",
    "\n",
    "    def display(self):\n",
    "        return f\"'{self.title}' by '{self.author}'\"\n",
    "    \n",
    "b1 = book(\"1958\", \"Mohan1\")\n",
    "b2 = book(\"1959\", \"Mohan2\")\n",
    "b3 = book(\"1960\", \"Mohan3\")\n",
    "b4 = book(\"1961\", \"Mohan4\")\n",
    "\n",
    "print(b1.display())\n",
    "print(b2.display())\n",
    "print(book.count)\n",
    "\n"
   ]
  },
  {
   "cell_type": "code",
   "execution_count": 6,
   "id": "9485cea8",
   "metadata": {},
   "outputs": [
    {
     "name": "stdout",
     "output_type": "stream",
     "text": [
      "Initial Tax Rate: 0.05\n",
      "Initial Tax Rate: 1050.0\n",
      "Initial Tax Rate: 2100.0\n"
     ]
    }
   ],
   "source": [
    "# Create a class Order with a class variable tax_rate and an instance variable amount. Show how changing tax_rate affects all orders.\n",
    "\n",
    "class order:\n",
    "    taxrate = 0.05\n",
    "\n",
    "    def __init__(self, amount):\n",
    "        self.amount = amount\n",
    "\n",
    "    def totalwithtax(self):\n",
    "        return self.amount * (1 + order.taxrate)\n",
    "    \n",
    "o1 = order(1000)\n",
    "o2 = order(2000)\n",
    "\n",
    "print(\"Initial Tax Rate:\", order.taxrate)\n",
    "print(\"Initial Tax Rate:\", o1.totalwithtax())\n",
    "print(\"Initial Tax Rate:\", o2.totalwithtax())"
   ]
  },
  {
   "cell_type": "code",
   "execution_count": 7,
   "id": "befd8d1d",
   "metadata": {},
   "outputs": [
    {
     "data": {
      "text/plain": [
       "['book 1', 'book 2']"
      ]
     },
     "execution_count": 7,
     "metadata": {},
     "output_type": "execute_result"
    }
   ],
   "source": [
    "# Create a class Library with a class variable books = []. Add books using instances and show how all instances share the same list (pitfall of mutable class variables).\n",
    "\n",
    "class library:\n",
    "    books = []\n",
    "\n",
    "    def __init__(self, name):\n",
    "        self.name = name\n",
    "\n",
    "    def addbook(self, book):\n",
    "        library.books.append(book)\n",
    "\n",
    "lib1 = library(\"library 1\")\n",
    "lib2 = library(\"library 2\")\n",
    "\n",
    "lib1.addbook(\"book 1\")\n",
    "lib1.addbook(\"book 2\")\n",
    "\n",
    "lib1.books"
   ]
  },
  {
   "cell_type": "code",
   "execution_count": 10,
   "id": "b1025d84",
   "metadata": {},
   "outputs": [
    {
     "name": "stdout",
     "output_type": "stream",
     "text": [
      "['book 1', 'book 2']\n",
      "['Book 1', 'Book 2']\n"
     ]
    }
   ],
   "source": [
    "# Modify the Library class so that each instance has its own list of books, avoiding the shared mutable problem.\n",
    "\n",
    "class library:\n",
    "    def __init__(self, name):\n",
    "        self.name = name\n",
    "        self.books = []\n",
    "\n",
    "    def addbook(self, book):\n",
    "        self.books.append(book)\n",
    "\n",
    "lib1 = library(\"library 1\")\n",
    "\n",
    "lib2 = library(\"library 2\")\n",
    "\n",
    "lib1.addbook(\"book 1\")\n",
    "lib1.addbook(\"book 2\")\n",
    "lib2.addbook(\"Book 1\")\n",
    "lib2.addbook(\"Book 2\")\n",
    "\n",
    "print(lib1.books)\n",
    "print(lib2.books)"
   ]
  },
  {
   "cell_type": "code",
   "execution_count": 13,
   "id": "9d785b4c",
   "metadata": {},
   "outputs": [
    {
     "name": "stdout",
     "output_type": "stream",
     "text": [
      "Animal\n",
      "Animal\n",
      "Animal\n"
     ]
    }
   ],
   "source": [
    "# Create a base class Animal with a class variable kingdom = \"Animalia\". Inherit Dog and Cat classes. Show how class variables behave across inheritance.\n",
    "\n",
    "class animal:\n",
    "    kingdom = \"Animal\"\n",
    "\n",
    "class dog(animal):\n",
    "    pass\n",
    "\n",
    "class cat(animal):\n",
    "    pass\n",
    "\n",
    "print(animal.kingdom)\n",
    "print(dog.kingdom)\n",
    "print(cat.kingdom)"
   ]
  },
  {
   "cell_type": "code",
   "execution_count": 14,
   "id": "79e64f7b",
   "metadata": {},
   "outputs": [
    {
     "name": "stdout",
     "output_type": "stream",
     "text": [
      "User 1: id=1, name=alice\n",
      "User 1: id=2, name=bob\n",
      "User 1: id=3, name=charlie\n"
     ]
    }
   ],
   "source": [
    "# Create a class User with a class variable next_id that auto-increments each time a new user object is created.\n",
    "\n",
    "class user:\n",
    "    nextid = 1\n",
    "\n",
    "    def __init__(self, name):\n",
    "        self.id = user.nextid\n",
    "        self.name = name\n",
    "        user.nextid += 1\n",
    "\n",
    "u1 = user(\"alice\")\n",
    "u2 = user(\"bob\")\n",
    "u3 = user(\"charlie\")\n",
    "\n",
    "print(f\"User 1: id={u1.id}, name={u1.name}\")\n",
    "print(f\"User 1: id={u2.id}, name={u2.name}\")\n",
    "print(f\"User 1: id={u3.id}, name={u3.name}\")"
   ]
  },
  {
   "cell_type": "code",
   "execution_count": 19,
   "id": "9e3c7476",
   "metadata": {},
   "outputs": [
    {
     "name": "stdout",
     "output_type": "stream",
     "text": [
      "Deposited 200. New Balance: 700\n",
      "Withdraw 100. New Balance: 900\n",
      "Bank: Global Bank Account: 102 Balance: 900\n"
     ]
    }
   ],
   "source": [
    "# Create a class BankAccount: Class variable → bank_name (shared across accounts). Instance variables → account_number, balance. Demonstrate deposits, withdrawals, and show the difference between class & instance variables.\n",
    "\n",
    "class bankaccount:\n",
    "    bankname = \"Global Bank\"\n",
    "\n",
    "    def __init__(self, accountnumber, balance=0):\n",
    "        self.accountnumber = accountnumber\n",
    "        self.balance = balance\n",
    "\n",
    "    def deposit(self, amount):\n",
    "        if amount > 0:\n",
    "            self.balance += amount\n",
    "            print(f\"Deposited {amount}. New Balance: {self.balance}\")\n",
    "        else:\n",
    "            print(\"Deposit amount must be positive.\")\n",
    "\n",
    "    def withdraw(self, amount):\n",
    "        if 0 < amount <= self.balance:\n",
    "            self.balance -= amount\n",
    "            print(f\"Withdraw {amount}. New Balance: {self.balance}\")\n",
    "        else:\n",
    "            print(\"Insufficient balance or invalid amount.\")\n",
    "\n",
    "    def displayaccountinfo(self):\n",
    "        print(f\"Bank: {bankaccount.bankname}\",\n",
    "              f\"Account: {self.accountnumber}\",\n",
    "              f\"Balance: {self.balance}\",)\n",
    "        \n",
    "acc1 = bankaccount(101, 500)\n",
    "acc2 = bankaccount(102, 1000)\n",
    "\n",
    "acc1.deposit(200)\n",
    "acc2.withdraw(100)\n",
    "\n",
    "acc2.displayaccountinfo()"
   ]
  },
  {
   "cell_type": "code",
   "execution_count": 2,
   "id": "e1254bba",
   "metadata": {},
   "outputs": [
    {
     "data": {
      "text/plain": [
       "25"
      ]
     },
     "execution_count": 2,
     "metadata": {},
     "output_type": "execute_result"
    }
   ],
   "source": [
    "# Create a class Person with __init__ to initialize name and age. Create multiple objects and print their attributes.\n",
    "\n",
    "class person:\n",
    "    def __init__(self, name, age):\n",
    "        self.name = name\n",
    "        self.age = age\n",
    "\n",
    "p1 = person(\"Mohan\", 25)\n",
    "\n",
    "p1.name\n",
    "p1.age"
   ]
  },
  {
   "cell_type": "code",
   "execution_count": 10,
   "id": "edcab202",
   "metadata": {},
   "outputs": [
    {
     "name": "stdout",
     "output_type": "stream",
     "text": [
      "Person Name Mohan, age 24\n"
     ]
    }
   ],
   "source": [
    "# Extend Person by adding __str__ so that printing an object shows \"Person(Name=John, Age=30)\" instead of the default memory address.\n",
    "\n",
    "class Person:\n",
    "    def __init__(self, name, age):\n",
    "        self.name = name\n",
    "        self.age = age\n",
    "\n",
    "    def __str__(self):\n",
    "        return f\"Person Name {self.name}, age {self.age}\"\n",
    "    \n",
    "p = Person(\"Mohan\", 24)\n",
    "\n",
    "print(p)"
   ]
  },
  {
   "cell_type": "code",
   "execution_count": 13,
   "id": "346a4235",
   "metadata": {},
   "outputs": [
    {
     "name": "stdout",
     "output_type": "stream",
     "text": [
      "1984 by Mohan\n"
     ]
    },
    {
     "data": {
      "text/plain": [
       "Book 1984, Mohan"
      ]
     },
     "execution_count": 13,
     "metadata": {},
     "output_type": "execute_result"
    }
   ],
   "source": [
    "# Create a class Book with title and author. Implement both __str__ (user-friendly) and __repr__ (developer-friendly). Show the difference when using print(book) vs just typing book in the interpreter.\n",
    "\n",
    "class book:\n",
    "    def __init__(self, title, author):\n",
    "        self.title = title\n",
    "        self.author = author\n",
    "\n",
    "    def __str__(self):\n",
    "        return f\"{self.title} by {self.author}\"\n",
    "    \n",
    "    def __repr__(self):\n",
    "        return f\"Book {self.title}, {self.author}\"\n",
    "    \n",
    "book1 = book(\"1984\", \"Mohan\")\n",
    "\n",
    "print(book1)\n",
    "\n",
    "book1"
   ]
  },
  {
   "cell_type": "code",
   "execution_count": 15,
   "id": "fbfa1ebe",
   "metadata": {},
   "outputs": [
    {
     "name": "stdout",
     "output_type": "stream",
     "text": [
      "student 1, Mohan\n",
      "student 2, Balor\n",
      "student 3, Finn\n"
     ]
    }
   ],
   "source": [
    "# Create a class Student with a class variable next_id = 1. Use __init__ to auto-assign unique IDs to each student.\n",
    "\n",
    "class students:\n",
    "    nextid = 1\n",
    "\n",
    "    def __init__(self, name):\n",
    "        self.name = name\n",
    "        self.id = students.nextid\n",
    "        students.nextid += 1\n",
    "\n",
    "    def __str__(self):\n",
    "        return f\"student {self.id}, {self.name}\"\n",
    "    \n",
    "s1 = students(\"Mohan\")\n",
    "s2 = students(\"Balor\")\n",
    "s3 = students(\"Finn\")\n",
    "\n",
    "\n",
    "print(s1)\n",
    "print(s2)\n",
    "print(s3)"
   ]
  },
  {
   "cell_type": "code",
   "execution_count": 16,
   "id": "e22a93d2",
   "metadata": {},
   "outputs": [
    {
     "name": "stdout",
     "output_type": "stream",
     "text": [
      "Open file: sample.txt\n",
      "Written: Hello, World\n",
      "Closed file: sample.txt\n",
      "End of program.\n"
     ]
    }
   ],
   "source": [
    "# Create a class FileHandler that opens a file in __init__ and closes it in __del__. Demonstrate how the destructor is called when the object is deleted.\n",
    "\n",
    "class filehandler:\n",
    "    def __init__(self, filename, mode):\n",
    "        self.filename = filename\n",
    "        self.mode = mode\n",
    "        self.file = open(filename, mode)\n",
    "        print(f\"Open file: {self.filename}\")\n",
    "\n",
    "    def write(self, text):\n",
    "        if 'w' in self.mode or 'a' in self.mode:\n",
    "            self.file.write(text + \"\\n\")\n",
    "            print(f\"Written: {text}\")\n",
    "        else:\n",
    "            print(\"File not opened in write mode\")\n",
    "\n",
    "    def __del__(self):\n",
    "        if hasattr(self, \"file\") and not self.file.closed:\n",
    "            self.file.close()\n",
    "            print(f\"Closed file: {self.filename}\")\n",
    "\n",
    "handler = filehandler(\"sample.txt\", \"w\")\n",
    "handler.write(\"Hello, World\")\n",
    "\n",
    "del handler\n",
    "\n",
    "print(\"End of program.\")"
   ]
  },
  {
   "cell_type": "code",
   "execution_count": 18,
   "id": "828031b0",
   "metadata": {},
   "outputs": [
    {
     "name": "stdout",
     "output_type": "stream",
     "text": [
      "Vector 2D 3, 4\n",
      "[Vector 2D 3, 4, Vector 2D 1, -2, Vector 2D 0, 0]\n"
     ]
    }
   ],
   "source": [
    "# Create a class Vector2D(x, y) and implement __repr__ so that it shows \"Vector2D(3, 4)\". Create a list of vectors and print it — check that __repr__ is used.\n",
    "\n",
    "class vector2d:\n",
    "    def __init__(self, x, y):\n",
    "        self.x = x\n",
    "        self.y = y\n",
    "\n",
    "    def __repr__(self):\n",
    "        return f\"Vector 2D {self.x}, {self.y}\"\n",
    "    \n",
    "\n",
    "v1 = vector2d(3, 4)\n",
    "v2 = vector2d(1, -2)\n",
    "v3 = vector2d(0, 0)\n",
    "\n",
    "print(v1)\n",
    "\n",
    "vectors = [v1, v2, v3]\n",
    "\n",
    "print(vectors)"
   ]
  },
  {
   "cell_type": "code",
   "execution_count": 22,
   "id": "ca78c883",
   "metadata": {},
   "outputs": [
    {
     "name": "stdout",
     "output_type": "stream",
     "text": [
      "Alice earns $50000\n",
      "[Employee Alice earns $50000, Employee Mohan earns $100000]\n"
     ]
    }
   ],
   "source": [
    "# Create a class Employee where __repr__ returns \"Employee('Alice', 50000)\" and __str__ returns \"Alice earns $50000\". Show the difference in printing a list of employees vs printing one employee.\n",
    "\n",
    "class employee:\n",
    "    def __init__(self, name, salary):\n",
    "        self.name = name\n",
    "        self.salary = salary\n",
    "\n",
    "    def __repr__(self):\n",
    "        return f\"Employee {self.name} earns ${self.salary}\"\n",
    "    \n",
    "    def __str__(self):\n",
    "        return f\"{self.name} earns ${self.salary}\"\n",
    "    \n",
    "e1 = employee(\"Alice\", 50000)\n",
    "e2 = employee(\"Mohan\", 100000)\n",
    "\n",
    "\n",
    "print(e1)\n",
    "\n",
    "employees = [e1, e2]\n",
    "\n",
    "print(employees)"
   ]
  },
  {
   "cell_type": "code",
   "execution_count": 23,
   "id": "fb1d9700",
   "metadata": {},
   "outputs": [
    {
     "name": "stdout",
     "output_type": "stream",
     "text": [
      "Object created\n",
      "Object created\n",
      "Inside function, object exist\n",
      "Object destroyed\n",
      "Object destroyed\n"
     ]
    }
   ],
   "source": [
    "# Create a class Tracker that prints \"Object created\" in __init__ and \"Object destroyed\" in __del__. Test by creating and deleting objects inside a function.\n",
    "\n",
    "class tracker:\n",
    "    def __init__(self):\n",
    "        print(\"Object created\")\n",
    "\n",
    "    def __del__(self):\n",
    "        print(\"Object destroyed\")\n",
    "\n",
    "def createanddestroy():\n",
    "    t1 = tracker()\n",
    "    t2 = tracker()\n",
    "    print(\"Inside function, object exist\")\n",
    "\n",
    "createanddestroy()\n"
   ]
  },
  {
   "cell_type": "code",
   "execution_count": 25,
   "id": "201e3e74",
   "metadata": {},
   "outputs": [
    {
     "name": "stdout",
     "output_type": "stream",
     "text": [
      "Using print():\n",
      "3 + 4i\n",
      "5 + -2i\n"
     ]
    }
   ],
   "source": [
    "# Create a class ComplexNumber(real, imag) and implement: __str__ → \"a + bi\" format, __repr__ → \"ComplexNumber(a, b)\", Demonstrate in both print() and interactive mode.\n",
    "\n",
    "class complexnumber:\n",
    "    def __init__(self, real, imag):\n",
    "        self.real = real\n",
    "        self.imag = imag\n",
    "    \n",
    "    def __str__(self):\n",
    "        return f\"{self.real} + {self.imag}i\"\n",
    "    \n",
    "    def __repr__(self):\n",
    "        return f\"complexnumber {self.real}, {self.imag}\"\n",
    "    \n",
    "c1 = complexnumber(3, 4)\n",
    "c2 = complexnumber(5, -2)\n",
    "\n",
    "print(\"Using print():\")\n",
    "print(c1)\n",
    "print(c2)"
   ]
  },
  {
   "cell_type": "code",
   "execution_count": 27,
   "id": "f0e34eff",
   "metadata": {},
   "outputs": [
    {
     "name": "stdout",
     "output_type": "stream",
     "text": [
      "using print(): \n",
      "Alice <alice@gamil.com>\n",
      "Bob <bob@gamil.com>\n",
      "\n",
      "Interactive mode (repr)\n",
      "[Userrow 1, alice, alice@gamil.com, Userrow 1, bob, bob@gamil.com]\n",
      "User Row Deleted: alice\n",
      "User Row Deleted: bob\n"
     ]
    }
   ],
   "source": [
    "# Create a class UserRow(id, username, email) such that: __init__ initializes values, __repr__ returns a developer string like \"UserRow(1, 'alice', 'alice@mail.com')\", __str__ returns a user-friendly string like \"Alice <alice@mail.com>\", __del__ prints \"UserRow deleted: alice\" when the object is destroyed.\n",
    "\n",
    "class userrow:\n",
    "    def __init__(self, id, username, email):\n",
    "        self.id = id\n",
    "        self.username = username\n",
    "        self.email = email\n",
    "\n",
    "    def __repr__(self):\n",
    "        return f\"Userrow {self.id}, {self.username}, {self.email}\"\n",
    "    \n",
    "    def __str__(self):\n",
    "        return f\"{self.username.capitalize()} <{self.email}>\"\n",
    "    \n",
    "    def __del__(self):\n",
    "        print(f\"User Row Deleted: {self.username}\")\n",
    "\n",
    "def testuser():\n",
    "    u1 = userrow(1, \"alice\", \"alice@gamil.com\")\n",
    "    u2 = userrow(1, \"bob\", \"bob@gamil.com\")\n",
    "\n",
    "    print(\"using print(): \")\n",
    "    print(u1)\n",
    "    print(u2)\n",
    "\n",
    "    print(\"\\nInteractive mode (repr)\")\n",
    "    print([u1, u2])\n",
    "\n",
    "testuser()"
   ]
  },
  {
   "cell_type": "code",
   "execution_count": 30,
   "id": "1627a1e9",
   "metadata": {},
   "outputs": [
    {
     "name": "stdout",
     "output_type": "stream",
     "text": [
      "Some generic animal sound\n",
      "woof\n"
     ]
    }
   ],
   "source": [
    "# Create a base class Animal with a method speak(). Inherit Dog and override speak() to print \"Woof\".\n",
    "\n",
    "class animal:\n",
    "    def speak(self):\n",
    "        print(\"Some generic animal sound\")\n",
    "\n",
    "class dog(animal):\n",
    "    def speak(self):\n",
    "        print(\"woof\")\n",
    "\n",
    "a = animal()\n",
    "a.speak()\n",
    "\n",
    "d = dog()\n",
    "\n",
    "d.speak()"
   ]
  },
  {
   "cell_type": "code",
   "execution_count": 1,
   "id": "b1d46793",
   "metadata": {},
   "outputs": [
    {
     "name": "stdout",
     "output_type": "stream",
     "text": [
      "Person: Mohan, 30\n",
      "student: Bob, 20, ID: s123\n"
     ]
    }
   ],
   "source": [
    "# Create a base class Person with attributes name and age. Inherit Student and add student_id. Use super().__init__ to reuse the base constructor.\n",
    "\n",
    "class person:\n",
    "    def __init__(self, name, age):\n",
    "        self.name = name\n",
    "        self.age = age\n",
    "\n",
    "class student(person):\n",
    "    def __init__(self, name, age, studentid):\n",
    "        super().__init__(name, age)\n",
    "        self.studentid = studentid\n",
    "\n",
    "p = person(\"Mohan\", 30)\n",
    "\n",
    "print(f\"Person: {p.name}, {p.age}\")\n",
    "\n",
    "s = student(\"Bob\", 20, \"s123\")\n",
    "\n",
    "print(f\"student: {s.name}, {s.age}, ID: {s.studentid}\")"
   ]
  },
  {
   "cell_type": "code",
   "execution_count": 2,
   "id": "05591166",
   "metadata": {},
   "outputs": [
    {
     "name": "stdout",
     "output_type": "stream",
     "text": [
      "rectangle area: 20.00\n",
      "circle area: 28.27\n"
     ]
    }
   ],
   "source": [
    "# Create a base class Shape with a method area(). Inherit Rectangle and Circle that override area() with actual formulas.\n",
    "\n",
    "import math\n",
    "\n",
    "class shape:\n",
    "    def area(self):\n",
    "        raise NotImplementedError(\"Subclass must implement area()\")\n",
    "    \n",
    "class rectangle(shape):\n",
    "    def __init__(self, width, height):\n",
    "        self.width = width\n",
    "        self.height = height\n",
    "    \n",
    "    def area(self):\n",
    "        return self.width * self.height\n",
    "    \n",
    "class circle(shape):\n",
    "    def __init__(self, radius):\n",
    "        self.radius = radius\n",
    "\n",
    "    def area(self):\n",
    "        return math.pi * (self.radius ** 2)\n",
    "    \n",
    "shapes = [rectangle(4,5), circle(3)]\n",
    "\n",
    "for shape in shapes:\n",
    "    print(f\"{shape.__class__.__name__} area: {shape.area():.2f}\")\n",
    "    "
   ]
  },
  {
   "cell_type": "code",
   "execution_count": 3,
   "id": "686e2b93",
   "metadata": {},
   "outputs": [
    {
     "name": "stdout",
     "output_type": "stream",
     "text": [
      "writing a book..\n",
      "singing a song..\n"
     ]
    }
   ],
   "source": [
    "# Create classes Writer and Singer. Create a class AuthorSinger that inherits from both and can write() and sing().\n",
    "\n",
    "class writer:\n",
    "    def write(self):\n",
    "        print(\"writing a book..\")\n",
    "\n",
    "class singer:\n",
    "    def sing(self):\n",
    "        print(\"singing a song..\")\n",
    "\n",
    "class authorsinger(writer, singer):\n",
    "    pass\n",
    "\n",
    "person = authorsinger()\n",
    "\n",
    "person.write()\n",
    "person.sing()"
   ]
  },
  {
   "cell_type": "code",
   "execution_count": 5,
   "id": "be8b7658",
   "metadata": {},
   "outputs": [
    {
     "ename": "TypeError",
     "evalue": "Cannot create a consistent method resolution order (MRO) for bases B, C",
     "output_type": "error",
     "traceback": [
      "\u001b[31m---------------------------------------------------------------------------\u001b[39m",
      "\u001b[31mTypeError\u001b[39m                                 Traceback (most recent call last)",
      "\u001b[36mCell\u001b[39m\u001b[36m \u001b[39m\u001b[32mIn[5]\u001b[39m\u001b[32m, line 12\u001b[39m\n\u001b[32m      9\u001b[39m \u001b[38;5;28;01mclass\u001b[39;00m\u001b[38;5;250m \u001b[39m\u001b[34;01mC\u001b[39;00m(B):\n\u001b[32m     10\u001b[39m     \u001b[38;5;28;01mpass\u001b[39;00m\n\u001b[32m---> \u001b[39m\u001b[32m12\u001b[39m \u001b[38;5;28;43;01mclass\u001b[39;49;00m\u001b[38;5;250;43m \u001b[39;49m\u001b[34;43;01mD\u001b[39;49;00m\u001b[43m(\u001b[49m\u001b[43mB\u001b[49m\u001b[43m,\u001b[49m\u001b[43m \u001b[49m\u001b[43mC\u001b[49m\u001b[43m)\u001b[49m\u001b[43m:\u001b[49m\n\u001b[32m     13\u001b[39m \u001b[43m    \u001b[49m\u001b[38;5;28;43;01mpass\u001b[39;49;00m\n\u001b[32m     15\u001b[39m \u001b[38;5;28mprint\u001b[39m(d.mro())\n",
      "\u001b[31mTypeError\u001b[39m: Cannot create a consistent method resolution order (MRO) for bases B, C"
     ]
    }
   ],
   "source": [
    "# Create classes A → B → C and another D that inherits from both B and C. Print D.mro() to understand Python’s MRO.\n",
    "\n",
    "class A:\n",
    "    pass\n",
    "\n",
    "class B(A):\n",
    "    pass\n",
    "\n",
    "class C(B):\n",
    "    pass\n",
    "\n",
    "class D(B, C):\n",
    "    pass\n",
    "\n",
    "print(d.mro())\n"
   ]
  },
  {
   "cell_type": "code",
   "execution_count": 6,
   "id": "b8a35325",
   "metadata": {},
   "outputs": [
    {
     "name": "stdout",
     "output_type": "stream",
     "text": [
      "Connecting to database...\n",
      "[LOG]: Saving data: User info\n",
      "Data 'User info' save successfully.\n",
      "Disconnecting from database\n"
     ]
    }
   ],
   "source": [
    "# Create a class LoggerMixin with a log() method. Create a class Database and make DatabaseLogger inherit from both Database and LoggerMixin.\n",
    "\n",
    "class loggermixin:\n",
    "    def log(self, message):\n",
    "        print(f\"[LOG]: {message}\")\n",
    "\n",
    "class database:\n",
    "    def connect(self):\n",
    "        print(\"Connecting to database...\")\n",
    "\n",
    "    def disconnect(self):\n",
    "        print(\"Disconnecting from database\")\n",
    "\n",
    "class databaselogger(database, loggermixin):\n",
    "    def save(self, data):\n",
    "        self.log(f\"Saving data: {data}\")\n",
    "        print(f\"Data '{data}' save successfully.\")\n",
    "\n",
    "db = databaselogger()\n",
    "\n",
    "db.connect()\n",
    "db.save(\"User info\")\n",
    "\n",
    "db.disconnect()"
   ]
  },
  {
   "cell_type": "code",
   "execution_count": 13,
   "id": "0fe0ca9f",
   "metadata": {},
   "outputs": [
    {
     "name": "stdout",
     "output_type": "stream",
     "text": [
      "Is Alive: True\n",
      "Has Cells: True\n",
      "Has Hair: True\n",
      "Name: Buddy\n"
     ]
    }
   ],
   "source": [
    "# Create a base class LivingBeing. Inherit Animal, then Mammal, then Dog. Show how attributes/methods are passed down through the chain.\n",
    "\n",
    "class livingbeing:\n",
    "    def __init__(self):\n",
    "        self.isalive = True\n",
    "\n",
    "    def breathe(self):\n",
    "        print(\"Living being is breathing..\")\n",
    "\n",
    "class animal(livingbeing):\n",
    "    def __init__(self):\n",
    "        super().__init__()\n",
    "        self.hascells = True\n",
    "\n",
    "    def move(self):\n",
    "        print(\"Animal is moving..\")\n",
    "\n",
    "class mammal(animal):\n",
    "    def __init__(self):\n",
    "        super().__init__()\n",
    "        self.hashair = True\n",
    "\n",
    "    def feedyoung(self):\n",
    "        print(\"Mammal is feeding its young with milk...\")\n",
    "\n",
    "class dog(mammal):\n",
    "    def __init__(self, name):\n",
    "        super().__init__()\n",
    "        self.name = name\n",
    "\n",
    "    def speak(self):\n",
    "        print(f\"{self.name} says woof!\")\n",
    "\n",
    "dog1 = dog(\"Buddy\")\n",
    "\n",
    "print(\"Is Alive:\", dog1.isalive)\n",
    "print(\"Has Cells:\", dog1.hascells)\n",
    "print(\"Has Hair:\", dog1.hashair)\n",
    "print(\"Name:\", dog1.name)"
   ]
  },
  {
   "cell_type": "code",
   "execution_count": 20,
   "id": "6731d242",
   "metadata": {},
   "outputs": [
    {
     "name": "stdout",
     "output_type": "stream",
     "text": [
      "Vehicle initialized\n",
      "Car initialized\n",
      "Electriccar initialized\n"
     ]
    }
   ],
   "source": [
    "# Create classes Vehicle → Car → ElectricCar. Each should have its own __init__ printing a message. Use super() to chain constructor calls.\n",
    "\n",
    "class vehicle:\n",
    "    def __init__(self):\n",
    "        print(\"Vehicle initialized\")\n",
    "\n",
    "class car(vehicle):\n",
    "    def __init__(self):\n",
    "        super().__init__()\n",
    "        print(\"Car initialized\")\n",
    "\n",
    "class electriccar(car):\n",
    "        def __init__(self):\n",
    "            super().__init__()\n",
    "            print(\"Electriccar initialized\")\n",
    "\n",
    "ev = electriccar()"
   ]
  },
  {
   "cell_type": "code",
   "execution_count": 4,
   "id": "59ae7fd1",
   "metadata": {},
   "outputs": [
    {
     "name": "stdout",
     "output_type": "stream",
     "text": [
      "alice earns: 50000.00\n",
      "bob earns: 84000.00\n",
      "Charlie earns: 150000.00\n"
     ]
    }
   ],
   "source": [
    "# Create a base class Employee with calculate_salary(). Inherit Manager and Director classes that override salary calculation. Call them polymorphically in a loop.\n",
    "\n",
    "class employee:\n",
    "    def __init__(self, name, basesalary):\n",
    "        self.name = name\n",
    "        self.basesalary = basesalary\n",
    "    \n",
    "    def calculatesalary(self):\n",
    "        return self.basesalary\n",
    "    \n",
    "class manager(employee):\n",
    "    def calculatesalary(self):\n",
    "        return self.basesalary * 1.2\n",
    "    \n",
    "class director(employee):\n",
    "    def calculatesalary(self):\n",
    "        return self.basesalary * 1.5\n",
    "    \n",
    "employees = [\n",
    "    employee(\"alice\", 50000),\n",
    "    manager(\"bob\", 70000),\n",
    "    director(\"Charlie\", 100000)\n",
    "]\n",
    "\n",
    "\n",
    "for emp in employees:\n",
    "    print(f\"{emp.name} earns: {emp.calculatesalary():.2f}\")\n",
    "        "
   ]
  },
  {
   "cell_type": "code",
   "execution_count": 11,
   "id": "946d3b84",
   "metadata": {},
   "outputs": [
    {
     "ename": "TypeError",
     "evalue": "student.__init__() missing 1 required positional argument: 'studentid'",
     "output_type": "error",
     "traceback": [
      "\u001b[31m---------------------------------------------------------------------------\u001b[39m",
      "\u001b[31mTypeError\u001b[39m                                 Traceback (most recent call last)",
      "\u001b[36mCell\u001b[39m\u001b[36m \u001b[39m\u001b[32mIn[11]\u001b[39m\u001b[32m, line 35\u001b[39m\n\u001b[32m     32\u001b[39m         \u001b[38;5;28mself\u001b[39m.studentid = studentid\n\u001b[32m     33\u001b[39m         \u001b[38;5;28mprint\u001b[39m(\u001b[33m\"\u001b[39m\u001b[33mIntern __init__ called\u001b[39m\u001b[33m\"\u001b[39m)\n\u001b[32m---> \u001b[39m\u001b[32m35\u001b[39m Intern = \u001b[43mintern\u001b[49m\u001b[43m(\u001b[49m\u001b[33;43m\"\u001b[39;49m\u001b[33;43mAlice\u001b[39;49m\u001b[33;43m\"\u001b[39;49m\u001b[43m,\u001b[49m\u001b[43m \u001b[49m\u001b[33;43m\"\u001b[39;49m\u001b[33;43mE123\u001b[39;49m\u001b[33;43m\"\u001b[39;49m\u001b[43m,\u001b[49m\u001b[43m \u001b[49m\u001b[33;43m\"\u001b[39;49m\u001b[33;43mS456\u001b[39;49m\u001b[33;43m\"\u001b[39;49m\u001b[43m)\u001b[49m\n",
      "\u001b[36mCell\u001b[39m\u001b[36m \u001b[39m\u001b[32mIn[11]\u001b[39m\u001b[32m, line 31\u001b[39m, in \u001b[36mintern.__init__\u001b[39m\u001b[34m(self, name, employeeid, studentid)\u001b[39m\n\u001b[32m     30\u001b[39m \u001b[38;5;28;01mdef\u001b[39;00m\u001b[38;5;250m \u001b[39m\u001b[34m__init__\u001b[39m(\u001b[38;5;28mself\u001b[39m, name, employeeid, studentid):\n\u001b[32m---> \u001b[39m\u001b[32m31\u001b[39m     \u001b[38;5;28;43msuper\u001b[39;49m\u001b[43m(\u001b[49m\u001b[43m)\u001b[49m\u001b[43m.\u001b[49m\u001b[34;43m__init__\u001b[39;49m\u001b[43m(\u001b[49m\u001b[43mname\u001b[49m\u001b[43m,\u001b[49m\u001b[43m \u001b[49m\u001b[43memployeeid\u001b[49m\u001b[43m)\u001b[49m\n\u001b[32m     32\u001b[39m     \u001b[38;5;28mself\u001b[39m.studentid = studentid\n\u001b[32m     33\u001b[39m     \u001b[38;5;28mprint\u001b[39m(\u001b[33m\"\u001b[39m\u001b[33mIntern __init__ called\u001b[39m\u001b[33m\"\u001b[39m)\n",
      "\u001b[36mCell\u001b[39m\u001b[36m \u001b[39m\u001b[32mIn[11]\u001b[39m\u001b[32m, line 13\u001b[39m, in \u001b[36memployee.__init__\u001b[39m\u001b[34m(self, name, employeeid)\u001b[39m\n\u001b[32m     12\u001b[39m \u001b[38;5;28;01mdef\u001b[39;00m\u001b[38;5;250m \u001b[39m\u001b[34m__init__\u001b[39m(\u001b[38;5;28mself\u001b[39m, name, employeeid):\n\u001b[32m---> \u001b[39m\u001b[32m13\u001b[39m     \u001b[38;5;28;43msuper\u001b[39;49m\u001b[43m(\u001b[49m\u001b[43m)\u001b[49m\u001b[43m.\u001b[49m\u001b[34;43m__init__\u001b[39;49m\u001b[43m(\u001b[49m\u001b[43mname\u001b[49m\u001b[43m)\u001b[49m\n\u001b[32m     14\u001b[39m     \u001b[38;5;28mself\u001b[39m.employeeid = employeeid\n\u001b[32m     15\u001b[39m     \u001b[38;5;28mprint\u001b[39m(\u001b[33m\"\u001b[39m\u001b[33mEmployee __init__ called\u001b[39m\u001b[33m\"\u001b[39m)\n",
      "\u001b[31mTypeError\u001b[39m: student.__init__() missing 1 required positional argument: 'studentid'"
     ]
    }
   ],
   "source": [
    "# Create classes: Person (base), Employee(Person), Student(Person), Intern(Employee, Student), Demonstrate how attributes from both parents are inherited and how Python resolves conflicts.\n",
    "\n",
    "class person:\n",
    "    def __init__(self, name):\n",
    "        self.name = name\n",
    "        print(\"Person __init__ called\")\n",
    "    \n",
    "    def getrole(self):\n",
    "        return \"I am a Person\"\n",
    "    \n",
    "class employee(person):\n",
    "    def __init__(self, name, employeeid):\n",
    "        super().__init__(name)\n",
    "        self.employeeid = employeeid\n",
    "        print(\"Employee __init__ called\")\n",
    "\n",
    "    def getrole(self):\n",
    "        return \"I am an Employee\"\n",
    "    \n",
    "class student(person):\n",
    "    def __init__(self, name, studentid):\n",
    "        super().__init__(name)\n",
    "        self.studentid = studentid\n",
    "        print(\"Intern __init__ called\")\n",
    "    \n",
    "    def getrole(self):\n",
    "        return \"I am a student\"\n",
    "\n",
    "class intern(employee, student):\n",
    "    def __init__(self, name, employeeid, studentid):\n",
    "        super().__init__(name, employeeid)\n",
    "        self.studentid = studentid\n",
    "        print(\"Intern __init__ called\")\n",
    "\n",
    "Intern = intern(\"Alice\", \"E123\", \"S456\")\n",
    "\n"
   ]
  },
  {
   "cell_type": "code",
   "execution_count": 2,
   "id": "0b7e92dc",
   "metadata": {},
   "outputs": [
    {
     "name": "stdout",
     "output_type": "stream",
     "text": [
      "Dog says: woof!\n",
      "cat says: Meow!\n",
      "Animal makes a sound\n"
     ]
    }
   ],
   "source": [
    "# Create a base class Animal with a method speak(). Inherit Dog and Cat classes that override speak() to print different sounds.\n",
    "\n",
    "\n",
    "class animal:\n",
    "    def speak(self):\n",
    "        print(\"Animal makes a sound\")\n",
    "\n",
    "class dog(animal):\n",
    "    def speak(self):\n",
    "        print(\"Dog says: woof!\")\n",
    "\n",
    "class cat(animal):\n",
    "    def speak(self):\n",
    "        print(\"cat says: Meow!\")\n",
    "\n",
    "animals = [dog(), cat(), animal()]\n",
    "\n",
    "for animal in animals:\n",
    "    animal.speak()"
   ]
  },
  {
   "cell_type": "code",
   "execution_count": 13,
   "id": "51d4aacd",
   "metadata": {},
   "outputs": [
    {
     "name": "stdout",
     "output_type": "stream",
     "text": [
      "Employee Name: Mohan, ID: E101\n",
      "Employee Name: bob, ID: M202\n"
     ]
    }
   ],
   "source": [
    "# Create a class Employee with get_role(). Inherit Manager and override get_role() to include \"Manager\" and extra details.\n",
    "\n",
    "class employee:\n",
    "    def __init__(self, name, empid):\n",
    "        self.name = name\n",
    "        self.empid = empid\n",
    "    \n",
    "    def getrole(self):\n",
    "        return f\"Employee Name: {self.name}, ID: {self.empid}\"\n",
    "    \n",
    "class manager(employee):\n",
    "    def __init__(self, name, empid, department):\n",
    "        super().__init__(name, empid)\n",
    "        self.department = department\n",
    "\n",
    "    def getrole(self):\n",
    "        return f\"Employee Name: {self.name}, ID: {self.empid}\"\n",
    "\n",
    "emp = employee(\"Mohan\", \"E101\")\n",
    "mgr = manager(\"bob\",\"M202\",\"sales\")\n",
    "\n",
    "print(emp.getrole())\n",
    "print(mgr.getrole())"
   ]
  },
  {
   "cell_type": "code",
   "execution_count": 17,
   "id": "810352b9",
   "metadata": {},
   "outputs": [
    {
     "name": "stdout",
     "output_type": "stream",
     "text": [
      "Book: 1948 by Mohan\n"
     ]
    }
   ],
   "source": [
    "# Create a class Book with attributes title, author. Override __str__ to display \"Book: <title> by <author>\".\n",
    "\n",
    "\n",
    "class book:\n",
    "    def __init__(self, title, author):\n",
    "        self.title = title\n",
    "        self.author = author\n",
    "\n",
    "    def __str__(self):\n",
    "        return f\"Book: {self.title} by {self.author}\"\n",
    "    \n",
    "b1 = book(\"1948\", \"Mohan\")\n",
    "\n",
    "print(b1)"
   ]
  },
  {
   "cell_type": "code",
   "execution_count": 20,
   "id": "a7579079",
   "metadata": {},
   "outputs": [
    {
     "name": "stdout",
     "output_type": "stream",
     "text": [
      "Vector(3, 4)\n",
      "Vector(4, 6)\n"
     ]
    }
   ],
   "source": [
    "# Create a class Vector(x, y) and overload the + operator to add two vectors.\n",
    "\n",
    "class vector:\n",
    "    def __init__(self, x, y):\n",
    "        self.x = x\n",
    "        self.y = y\n",
    "\n",
    "    def __add__(self, other):\n",
    "        return vector(self.x + other.x, self.y + other.y)\n",
    "    \n",
    "    def __str__(self):\n",
    "        return f\"Vector({self.x}, {self.y})\"\n",
    "    \n",
    "v1 = vector(3,4)\n",
    "v2 = vector(1, 2)\n",
    "\n",
    "result = v1 + v2\n",
    "\n",
    "print(v1)\n",
    "print(result)"
   ]
  },
  {
   "cell_type": "code",
   "execution_count": 21,
   "id": "5d52a2a5",
   "metadata": {},
   "outputs": [
    {
     "name": "stdout",
     "output_type": "stream",
     "text": [
      "Bob has higher marks\n"
     ]
    }
   ],
   "source": [
    "# Create a class Student with marks attribute. Overload the > operator to compare students based on marks.\n",
    "\n",
    "class student:\n",
    "    def __init__(self, name, marks):\n",
    "        self.name = name\n",
    "        self.marks = marks\n",
    "\n",
    "    def __gt__(self, other):\n",
    "        return self.marks > other.marks\n",
    "    \n",
    "    def __str__(self):\n",
    "        return f\"{self.name} ({self.marks})\"\n",
    "    \n",
    "s1 = student(\"Alice\", 85)\n",
    "s2 = student(\"Bob\", 90)\n",
    "\n",
    "if s1 > s2:\n",
    "    print(f\"{s1.name} has higher marks\")\n",
    "else:\n",
    "    print(f\"{s2.name} has higher marks\")"
   ]
  },
  {
   "cell_type": "code",
   "execution_count": 25,
   "id": "c90a604f",
   "metadata": {},
   "outputs": [
    {
     "name": "stdout",
     "output_type": "stream",
     "text": [
      "Playlist: My fav, Songs: ['A', 'B', 'C']\n",
      "Numbers of songs 3\n"
     ]
    }
   ],
   "source": [
    "# Create a class Playlist that stores songs in a list. Overload __len__ to return the number of songs.\n",
    "\n",
    "class playlist:\n",
    "    def __init__(self, name):\n",
    "        self.name = name\n",
    "        self.songs = []\n",
    "\n",
    "    def addsong(self, song):\n",
    "        self.songs.append(song)\n",
    "    \n",
    "    def __len__(self):\n",
    "        return len(self.songs)\n",
    "    \n",
    "    def __str__(self):\n",
    "        return f\"Playlist: {self.name}, Songs: {self.songs}\"\n",
    "    \n",
    "playlist1 = playlist(\"My fav\")\n",
    "\n",
    "playlist1.addsong(\"A\")\n",
    "playlist1.addsong(\"B\")\n",
    "playlist1.addsong(\"C\")\n",
    "\n",
    "print(playlist1)\n",
    "\n",
    "print(\"Numbers of songs\", len(playlist1))"
   ]
  },
  {
   "cell_type": "code",
   "execution_count": null,
   "id": "87624d2e",
   "metadata": {},
   "outputs": [
    {
     "name": "stdout",
     "output_type": "stream",
     "text": [
      "5\n"
     ]
    }
   ],
   "source": [
    "# Create a class MathOps with a method add(). Make it behave like an overloaded method using *args (e.g., add(2,3) → 5, add(2,3,4) → 9).\n",
    "\n",
    "class mathops:\n",
    "    def add(self, *args):\n",
    "        return sum(args)\n",
    "    \n",
    "maths = mathops()\n",
    "\n",
    "print(maths.add(2, 3))"
   ]
  },
  {
   "cell_type": "code",
   "execution_count": 30,
   "id": "f05eecef",
   "metadata": {},
   "outputs": [
    {
     "name": "stdout",
     "output_type": "stream",
     "text": [
      "True\n",
      "False\n",
      "False\n",
      "False\n"
     ]
    }
   ],
   "source": [
    "# Create a class Point(x, y) and overload == and != operators to compare two points.\n",
    "\n",
    "class point:\n",
    "    def __init__(self, x, y):\n",
    "        self.x = x\n",
    "        self.y = y\n",
    "\n",
    "    def __eq__(self, other):\n",
    "        if isinstance(other, point):\n",
    "            return self.x == other.x and self.y == other.y\n",
    "        return False\n",
    "    \n",
    "    def __ne__(self, other):\n",
    "        return not self.__eq__(other)\n",
    "    \n",
    "p1 = point(2, 3)\n",
    "p2 = point(2, 3)\n",
    "p3 = point(4, 5)\n",
    "\n",
    "print(p1 == p2)\n",
    "print(p1 != p2)\n",
    "print(p1 == p3)\n",
    "print(p1 != p2)"
   ]
  },
  {
   "cell_type": "code",
   "execution_count": 31,
   "id": "24c6b9c4",
   "metadata": {},
   "outputs": [
    {
     "name": "stdout",
     "output_type": "stream",
     "text": [
      "circle Area: 78.54\n",
      "rectangle Area: 20.00\n",
      "circle Area: 28.27\n",
      "rectangle Area: 20.00\n"
     ]
    }
   ],
   "source": [
    "# Create a base class Shape with area(). Inherit Circle and Rectangle and override area(). Store them in a list and call area() polymorphically.\n",
    "\n",
    "import math\n",
    "\n",
    "class shape:\n",
    "    def area(self):\n",
    "        raise NotImplementedError(\"Subclasses must implement this method\")\n",
    "    \n",
    "class circle:\n",
    "    def __init__(self, radius):\n",
    "        self.radius = radius\n",
    "\n",
    "    def area(self):\n",
    "        return math.pi * (self.radius ** 2)\n",
    "    \n",
    "class rectangle(shape):\n",
    "    def __init__(self, width, height):\n",
    "        self.width = width\n",
    "        self.height = height\n",
    "\n",
    "    def area(self):\n",
    "        return self.width * self.height\n",
    "    \n",
    "shapes = [\n",
    "    circle(5),\n",
    "    rectangle(4, 5),\n",
    "    circle(3),\n",
    "    rectangle(10, 2)\n",
    "]\n",
    "\n",
    "for shape in shapes:\n",
    "    print(f\"{shape.__class__.__name__} Area: {shape.area():.2f}\")"
   ]
  },
  {
   "cell_type": "code",
   "execution_count": 35,
   "id": "1e6e421a",
   "metadata": {},
   "outputs": [
    {
     "name": "stdout",
     "output_type": "stream",
     "text": [
      "3 + 4i\n",
      "4 + 2i\n",
      "2 + 6i\n"
     ]
    }
   ],
   "source": [
    "# Create a class ComplexNumber(real, imag) that overloads: + for addition, - for subtraction, __str__ for string representation like \"a + bi\"\n",
    "\n",
    "class complexnumber:\n",
    "    def __init__(self, real, imag):\n",
    "        self.real = real\n",
    "        self.imag = imag\n",
    "\n",
    "    def __add__(self, other):\n",
    "        return complexnumber(self.real + other.real, self.imag + other.imag)\n",
    "    \n",
    "    def __sub__(self, other):\n",
    "        return complexnumber(self.real - other.real, self.imag - other.imag)\n",
    "    \n",
    "    def __str__(self):\n",
    "        sign = '+' if self.imag >= 0 else '-'\n",
    "        return f\"{self.real} {sign} {abs(self.imag)}i\"\n",
    "    \n",
    "c1 = complexnumber(3, 4)\n",
    "c2 = complexnumber(1, -2)\n",
    "\n",
    "print(c1)\n",
    "\n",
    "print(c1 + c2)\n",
    "print(c1 - c2)"
   ]
  },
  {
   "cell_type": "code",
   "execution_count": 38,
   "id": "525056c2",
   "metadata": {},
   "outputs": [
    {
     "name": "stdout",
     "output_type": "stream",
     "text": [
      "current age:  25\n",
      "Updated age:  30\n",
      "Age must be positive.\n"
     ]
    }
   ],
   "source": [
    "# Create a class Person with a private attribute __age. Provide getter and setter methods to access and modify it.\n",
    "\n",
    "class person:\n",
    "    def __init__(self, age):\n",
    "        self.__age = age\n",
    "    \n",
    "    def getage(self):\n",
    "        return self.__age\n",
    "    \n",
    "    def setage(self, age):\n",
    "        if age > 0:\n",
    "            self.__age = age\n",
    "        else:\n",
    "            print(\"Age must be positive.\")\n",
    "\n",
    "p = person(25)\n",
    "\n",
    "print(\"current age: \", p.getage())\n",
    "\n",
    "p.setage(30)\n",
    "\n",
    "print(\"Updated age: \", p.getage())\n",
    "\n",
    "p.setage(-5)"
   ]
  },
  {
   "cell_type": "code",
   "execution_count": 49,
   "id": "7a246126",
   "metadata": {},
   "outputs": [
    {
     "name": "stdout",
     "output_type": "stream",
     "text": [
      "Manager Name: Alice\n",
      "Department: IT\n",
      "Salary: 90000\n"
     ]
    }
   ],
   "source": [
    "# Create a class Employee with a protected attribute _salary. Access it directly from an inherited class and show how it's possible in Python.\n",
    "\n",
    "class employee:\n",
    "    def __init__(self, name, salary):\n",
    "        self.name = name\n",
    "        self._salary = salary\n",
    "\n",
    "class manager(employee):\n",
    "    def __init__(self, name, salary, department):\n",
    "        super().__init__(name, salary)\n",
    "        self.department = department\n",
    "\n",
    "    def showdetails(self):\n",
    "        print(f\"Manager Name: {self.name}\")\n",
    "        print(f\"Department: {self.department}\")\n",
    "        print(f\"Salary: {self._salary}\")\n",
    "\n",
    "m = manager(\"Alice\", 90000, \"IT\")\n",
    "\n",
    "m.showdetails()"
   ]
  },
  {
   "cell_type": "code",
   "execution_count": 52,
   "id": "130e5f91",
   "metadata": {},
   "outputs": [
    {
     "name": "stdout",
     "output_type": "stream",
     "text": [
      "Current Balance: 5000\n"
     ]
    },
    {
     "data": {
      "text/plain": [
       "5000"
      ]
     },
     "execution_count": 52,
     "metadata": {},
     "output_type": "execute_result"
    }
   ],
   "source": [
    "# Create a class Account with a private variable __balance. Print the mangled name and access it using the class name (not recommended in real projects).\n",
    "\n",
    "class account:\n",
    "    def __init__(self, balance):\n",
    "        self.__balance = balance\n",
    "\n",
    "    def showbalance(self):\n",
    "        print(f\"Current Balance: {self.__balance}\")\n",
    "\n",
    "acc = account(5000)\n",
    "\n",
    "acc.showbalance()\n",
    "\n",
    "dir(acc)\n",
    "\n",
    "acc._account__balance"
   ]
  },
  {
   "cell_type": "code",
   "execution_count": 53,
   "id": "43b8dfac",
   "metadata": {},
   "outputs": [
    {
     "name": "stdout",
     "output_type": "stream",
     "text": [
      "Tesla engine started...\n"
     ]
    }
   ],
   "source": [
    "# Create a class Car with a private method __start_engine() and a public method drive() that internally calls the private method.\n",
    "\n",
    "class car:\n",
    "    def __init__(self, brand):\n",
    "        self.brand = brand\n",
    "\n",
    "    def __startengine(self):\n",
    "        print(f\"{self.brand} engine started...\")\n",
    "\n",
    "    def drive(self):\n",
    "        print(f\"Starting to drive {self.brand}\")\n",
    "        self.__startengine()\n",
    "        print(f\"{self.brand} is now running smoothly!\")\n",
    "\n",
    "car1 = car(\"Tesla\")\n",
    "\n",
    "car1._car__startengine()"
   ]
  },
  {
   "cell_type": "code",
   "execution_count": 55,
   "id": "3d57eeb8",
   "metadata": {},
   "outputs": [
    {
     "name": "stdout",
     "output_type": "stream",
     "text": [
      "Account type: savings\n",
      "Balance: 5000\n",
      "\n",
      "\n",
      "Account Type (protected): savings\n",
      "Cannot access __balance directly in subclass!\n",
      "Accessing private balance via name mangling: 5000\n"
     ]
    }
   ],
   "source": [
    "# Create a class BankAccount with _account_type (protected) and __balance (private). Demonstrate which is accessible in subclasses and which isn’t.\n",
    "\n",
    "class bankaccount:\n",
    "    def __init__(self, accounttype, balance):\n",
    "        self._accounttype = accounttype\n",
    "        self.__balance = balance\n",
    "\n",
    "    def showaccountdetails(self):\n",
    "        print(f\"Account type: {self._accounttype}\")\n",
    "        print(f\"Balance: {self.__balance}\")\n",
    "\n",
    "class savingsaccount(bankaccount):\n",
    "    def __init__(self, accounttype, balance, interestrate):\n",
    "        super().__init__(accounttype, balance)\n",
    "        self.interestrate = interestrate\n",
    "\n",
    "    def showsavingsdetails(self):\n",
    "        print(f\"Account Type (protected): {self._accounttype}\")\n",
    "\n",
    "        try:\n",
    "            print(f\"Balance (Private): {self.__balance}\")\n",
    "        except AttributeError:\n",
    "            print(\"Cannot access __balance directly in subclass!\")\n",
    "\n",
    "        print(f\"Accessing private balance via name mangling: {self._bankaccount__balance}\")\n",
    "\n",
    "acc = savingsaccount(\"savings\", 5000, 5.0)\n",
    "\n",
    "acc.showaccountdetails()\n",
    "print('\\n')\n",
    "acc.showsavingsdetails()"
   ]
  },
  {
   "cell_type": "code",
   "execution_count": null,
   "id": "06f4bb68",
   "metadata": {},
   "outputs": [
    {
     "name": "stdout",
     "output_type": "stream",
     "text": [
      "current Speed: 40 km/h\n",
      "Speed increased by 20 km/h. New speed: 60 km/h\n"
     ]
    },
    {
     "data": {
      "text/plain": [
       "60"
      ]
     },
     "execution_count": 59,
     "metadata": {},
     "output_type": "execute_result"
    }
   ],
   "source": [
    "# Create Vehicle (base) with _speed. Inherit Bike and create a method to increase _speed. Show how the protected member works across inheritance.\n",
    "\n",
    "class vehicle:\n",
    "    def __init__(self, speed):\n",
    "        self._speed = speed\n",
    "\n",
    "    def showspeed(self):\n",
    "        print(f\"current Speed: {self._speed} km/h\")\n",
    "\n",
    "class bike(vehicle):\n",
    "    def increasespeed(self, increment):\n",
    "        self._speed += increment\n",
    "        print(f\"Speed increased by {increment} km/h. New speed: {self._speed} km/h\")\n",
    "\n",
    "bike1 = bike(40)\n",
    "\n",
    "bike1.showspeed()\n",
    "\n",
    "bike1.increasespeed(20)\n",
    "\n",
    "bike1._speed"
   ]
  },
  {
   "cell_type": "code",
   "execution_count": null,
   "id": "730edfe5",
   "metadata": {},
   "outputs": [
    {
     "name": "stdout",
     "output_type": "stream",
     "text": [
      "Student Name: Alice, Marks: 85\n",
      "Updated Marks: 92\n",
      "Invalid marks! Must be between 0 and 100.\n"
     ]
    }
   ],
   "source": [
    "# Create a class Student with a private attribute __marks and use @property and @marks.setter to control read/write access.\n",
    "\n",
    "class student:\n",
    "    def __init__(self, name, marks):\n",
    "        self.name = name\n",
    "        self.__marks = marks\n",
    "\n",
    "    @property\n",
    "    def marks(self):\n",
    "        return self.__marks\n",
    "    \n",
    "    @marks.setter\n",
    "    def marks(self, value):\n",
    "        if 0 <= value <= 100:\n",
    "            self.__marks = value\n",
    "        else:\n",
    "            print(\"Invalid marks! Must be between 0 and 100.\")\n",
    "\n",
    "s1 = student(\"Alice\", 85)\n",
    "\n",
    "print(f\"Student Name: {s1.name}, Marks: {s1.marks}\")\n",
    "\n",
    "s1.marks = 92\n",
    "\n",
    "print(f\"Updated Marks: {s1.marks}\")\n",
    "\n",
    "s1.marks = 150"
   ]
  },
  {
   "cell_type": "code",
   "execution_count": 67,
   "id": "403cbfae",
   "metadata": {},
   "outputs": [
    {
     "name": "stdout",
     "output_type": "stream",
     "text": [
      "Top Secret\n",
      "Modification of '__data' is not allowed!\n"
     ]
    }
   ],
   "source": [
    "# Write a class SecureData with __data. Prevent outside modification completely by overriding __setattr__ for that attribute.\n",
    "\n",
    "class securedata:\n",
    "    def __init__(self, data):\n",
    "        object.__setattr__(self, \"_securedata__data\", data)\n",
    "    \n",
    "    def getdata(self):\n",
    "        return self.__data\n",
    "    \n",
    "    def __setattr__(self, name, value):\n",
    "        if name == \"_securedata__data\":\n",
    "            raise AttributeError(\"Modification of '__data' is not allowed!\")\n",
    "        else:\n",
    "            object.__setattr__(self, name, value)\n",
    "\n",
    "s = securedata(\"Top Secret\")\n",
    "\n",
    "print(s.getdata())\n",
    "\n",
    "try:\n",
    "    s.__data = \"Hacked\"\n",
    "except AttributeError as e:\n",
    "    print(e)\n",
    "\n",
    "try:\n",
    "    s._securedata__data = \"still hacked!\"\n",
    "except AttributeError as e:\n",
    "    print(e)"
   ]
  },
  {
   "cell_type": "code",
   "execution_count": 70,
   "id": "86bd0828",
   "metadata": {},
   "outputs": [
    {
     "name": "stdout",
     "output_type": "stream",
     "text": [
      "Accessing protected from base1:  Base1 Protected\n",
      "Accessing protected from base1:  Base1 Protected\n",
      "Cannot access base1 private directly:  'derived' object has no attribute '_derived__privateb1'\n",
      "Cannot access base2 private directly:  'derived' object has no attribute '_derived__privateb2'\n",
      "Base1 private via method:  Base1 Private\n",
      "Base2 private via method:  Base2 Private\n"
     ]
    }
   ],
   "source": [
    "# Create two base classes Base1 and Base2 with protected and private variables. Inherit Derived from both and show what can and cannot be accessed.\n",
    "\n",
    "class base1:\n",
    "    def __init__(self):\n",
    "        self._protectedb1 = \"Base1 Protected\"\n",
    "        self.__privateb1 = \"Base1 Private\"\n",
    "\n",
    "    def showbase1private(self):\n",
    "        return self.__privateb1\n",
    "\n",
    "class base2:\n",
    "    def __init__(self):\n",
    "        self._protectedb2 = \"Base2 Protected\"\n",
    "        self.__privateb2 = \"Base2 Private\"\n",
    "\n",
    "    def showbase2private(self):\n",
    "        return self.__privateb2\n",
    "\n",
    "class derived(base1, base2):\n",
    "    def __init__(self):\n",
    "        base1.__init__(self)\n",
    "        base2.__init__(self)\n",
    "\n",
    "    def accesstest(self):\n",
    "        print(\"Accessing protected from base1: \", self._protectedb1)\n",
    "        print(\"Accessing protected from base1: \", self._protectedb1)\n",
    "\n",
    "        try:\n",
    "            print(\"Base1 private:\", self.__privateb1)\n",
    "        except AttributeError as e:\n",
    "            print(\"Cannot access base1 private directly: \", e)\n",
    "\n",
    "        try:\n",
    "            print(\"Base2 Private:\", self.__privateb2)\n",
    "        except AttributeError as e:\n",
    "            print(\"Cannot access base2 private directly: \", e)\n",
    "\n",
    "        print(\"Base1 private via method: \", self.showbase1private())\n",
    "        print(\"Base2 private via method: \", self.showbase2private())\n",
    "\n",
    "d = derived()\n",
    "\n",
    "d.accesstest()"
   ]
  },
  {
   "cell_type": "code",
   "execution_count": 83,
   "id": "486e1c1a",
   "metadata": {},
   "outputs": [
    {
     "name": "stdout",
     "output_type": "stream",
     "text": [
      "Current Balance: $5000\n",
      "Withdrew $2000. Remaining Balance: $3000\n",
      "Withdrew $1000. Remaing Balance: $2000\n",
      "Current Balance: $2000\n",
      "2000\n",
      "1234\n"
     ]
    }
   ],
   "source": [
    "# Create a class ATM with: Private member: __pin, Protected member: _balance, Public methods: check_balance(), withdraw(), deposit(), Ensure __pin is only validated internally and cannot be accessed directly.\n",
    "\n",
    "class ATM:\n",
    "    def __init__(self, pin, balance=0):\n",
    "        self.__pin = pin\n",
    "        self._balance = balance\n",
    "    \n",
    "    def __validatepin(self, pin):\n",
    "        return pin == self.__pin\n",
    "    \n",
    "    def checkbalance(self, pin):\n",
    "        if self.__validatepin(pin):\n",
    "            print(f\"Current Balance: ${self._balance}\")\n",
    "        else:\n",
    "            print(\"Invalid PIN!\")\n",
    "\n",
    "    def deposit(self, pin, amount):\n",
    "        if self.__validatepin(pin):\n",
    "            if 0 < amount <= self._balance:\n",
    "                self._balance -= amount\n",
    "                print(f\"Withdrew ${amount}. Remaining Balance: ${self._balance}\")\n",
    "            else:\n",
    "                print(\"Invalid amount!\")\n",
    "        else:\n",
    "            print(\"Invalid amount\")\n",
    "\n",
    "    def withdraw(self, pin, amount):\n",
    "        if self.__validatepin(pin):\n",
    "            if 0 < amount <= self._balance:\n",
    "                self._balance -= amount\n",
    "                print(f\"Withdrew ${amount}. Remaing Balance: ${self._balance}\")\n",
    "            else:\n",
    "                print(\"Insufficient funds or invalid amount\")\n",
    "        else:\n",
    "            print(\"Invalid PIN!\")\n",
    "\n",
    "atm = ATM(pin=1234, balance=5000)\n",
    "\n",
    "atm.checkbalance(1234)\n",
    "\n",
    "atm.deposit(1234, 2000)\n",
    "\n",
    "atm.withdraw(1234, 1000)\n",
    "\n",
    "atm.checkbalance(1234)\n",
    "\n",
    "print(atm._balance)\n",
    "\n",
    "print(atm._ATM__pin)"
   ]
  },
  {
   "cell_type": "code",
   "execution_count": null,
   "id": "42cd5d21",
   "metadata": {},
   "outputs": [
    {
     "name": "stdout",
     "output_type": "stream",
     "text": [
      "circle Area: 78.54\n",
      "square Area: 16.00\n"
     ]
    }
   ],
   "source": [
    "# Create an abstract class Shape with an abstract method area(). Inherit Circle and Square to implement area().\n",
    "\n",
    "from abc import ABC, abstractmethod\n",
    "import math\n",
    "\n",
    "class shape(ABC):\n",
    "    @abstractmethod\n",
    "    def area(self):\n",
    "        pass\n",
    "\n",
    "class circle(shape):\n",
    "    def __init__(self, radius):\n",
    "        self.radius = radius\n",
    "\n",
    "    def area(self):\n",
    "        return math.pi * (self.radius ** 2)\n",
    "    \n",
    "class square(shape):\n",
    "    def __init__(self, side):\n",
    "        self.side = side\n",
    "    \n",
    "    def area(self):\n",
    "        return self.side ** 2\n",
    "    \n",
    "shapes = [\n",
    "    circle(5),\n",
    "    square(4)\n",
    "]\n",
    "\n",
    "for shape in shapes:\n",
    "    print(f\"{shape.__class__.__name__} Area: {shape.area():.2f}\"\n"
   ]
  },
  {
   "cell_type": "code",
   "execution_count": null,
   "id": "c18ecf3c",
   "metadata": {},
   "outputs": [],
   "source": [
    "# Create an abstract class Person with an abstract method get_role(). Provide a constructor to initialize name. Create subclasses Student and Teacher.\n",
    "\n"
   ]
  }
 ],
 "metadata": {
  "kernelspec": {
   "display_name": "Python 3",
   "language": "python",
   "name": "python3"
  },
  "language_info": {
   "codemirror_mode": {
    "name": "ipython",
    "version": 3
   },
   "file_extension": ".py",
   "mimetype": "text/x-python",
   "name": "python",
   "nbconvert_exporter": "python",
   "pygments_lexer": "ipython3",
   "version": "3.13.6"
  }
 },
 "nbformat": 4,
 "nbformat_minor": 5
}
