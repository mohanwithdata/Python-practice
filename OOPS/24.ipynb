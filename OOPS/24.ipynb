{
 "cells": [
  {
   "cell_type": "code",
   "execution_count": 4,
   "id": "b6c0ee8d-1c7f-4ed1-809e-2dd4e15e283d",
   "metadata": {},
   "outputs": [
    {
     "name": "stdout",
     "output_type": "stream",
     "text": [
      "Grandparent constructor called\n",
      "Parent constructor called\n",
      "Child constructor called\n",
      "Grandparent's legacy method\n",
      "Parent's guidance method\n",
      "child is learning..\n"
     ]
    }
   ],
   "source": [
    "class grandparent:\n",
    "    def __init__(self):\n",
    "        print(\"Grandparent constructor called\")\n",
    "\n",
    "    def legacy(self):\n",
    "        print(\"Grandparent's legacy method\")\n",
    "\n",
    "class parent(grandparent):\n",
    "    def __init__(self):\n",
    "        super().__init__()\n",
    "        print(\"Parent constructor called\")\n",
    "\n",
    "    def guidance(self):\n",
    "        print(\"Parent's guidance method\")\n",
    "\n",
    "class child(parent):\n",
    "    def __init__(self):\n",
    "        super().__init__()\n",
    "        print(\"Child constructor called\")\n",
    "\n",
    "    def learn(self):\n",
    "        print(\"child is learning..\")\n",
    "\n",
    "c = child()\n",
    "\n",
    "c.legacy()\n",
    "\n",
    "c.guidance()\n",
    "\n",
    "c.learn()"
   ]
  },
  {
   "cell_type": "code",
   "execution_count": null,
   "id": "8f9307e6-1d1a-4890-a1f4-af99a1f3917e",
   "metadata": {},
   "outputs": [],
   "source": []
  }
 ],
 "metadata": {
  "kernelspec": {
   "display_name": "Python 3 (ipykernel)",
   "language": "python",
   "name": "python3"
  },
  "language_info": {
   "codemirror_mode": {
    "name": "ipython",
    "version": 3
   },
   "file_extension": ".py",
   "mimetype": "text/x-python",
   "name": "python",
   "nbconvert_exporter": "python",
   "pygments_lexer": "ipython3",
   "version": "3.12.1"
  }
 },
 "nbformat": 4,
 "nbformat_minor": 5
}
