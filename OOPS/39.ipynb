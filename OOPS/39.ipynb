{
 "cells": [
  {
   "cell_type": "raw",
   "id": "846b4b1b",
   "metadata": {},
   "source": [
    "Design a ConfigurationManager class using Singleton pattern."
   ]
  },
  {
   "cell_type": "code",
   "execution_count": 5,
   "id": "0b532312",
   "metadata": {},
   "outputs": [
    {
     "name": "stdout",
     "output_type": "stream",
     "text": [
      "creating new configmanager instance\n",
      "current config\n",
      " - ENV: production\n",
      " - DB_HOST: localhost\n",
      " - DEBUG: False\n",
      "\n",
      "Accessing from another instance (config2):\n",
      "current config\n",
      " - ENV: production\n",
      " - DB_HOST: localhost\n",
      " - DEBUG: False\n",
      "\n",
      "Same instance? True\n"
     ]
    }
   ],
   "source": [
    "class configmanager:\n",
    "    _instance = None\n",
    "\n",
    "    def __new__(cls, *arg, **kwargs):\n",
    "        if cls._instance is None:\n",
    "            print(\"creating new configmanager instance\")\n",
    "            cls._instance = super(configmanager, cls).__new__(cls)\n",
    "            cls._instance._config = {}\n",
    "\n",
    "        return cls._instance\n",
    "    \n",
    "    def set(self, key: str, value: str):\n",
    "        self._config[key] = value\n",
    "\n",
    "    def get(self, key: str, default=None):\n",
    "        return self._config.get(key, default)\n",
    "    \n",
    "    def show_config(self):\n",
    "        print(\"current config\")\n",
    "        for k, v in self._config.items():\n",
    "            print(f\" - {k}: {v}\")\n",
    "\n",
    "config1 = configmanager()\n",
    "\n",
    "config1.set(\"ENV\", \"production\")\n",
    "config1.set(\"DB_HOST\", \"localhost\")\n",
    "\n",
    "config2 = configmanager()\n",
    "config2.set(\"DEBUG\", \"False\")\n",
    "\n",
    "config1.show_config()\n",
    "\n",
    "print(\"\\nAccessing from another instance (config2):\")\n",
    "config2.show_config()\n",
    "\n",
    "print(f\"\\nSame instance? {config1 is config2}\")"
   ]
  },
  {
   "cell_type": "code",
   "execution_count": null,
   "id": "836fa8c8",
   "metadata": {},
   "outputs": [],
   "source": []
  }
 ],
 "metadata": {
  "kernelspec": {
   "display_name": "Python 3",
   "language": "python",
   "name": "python3"
  },
  "language_info": {
   "codemirror_mode": {
    "name": "ipython",
    "version": 3
   },
   "file_extension": ".py",
   "mimetype": "text/x-python",
   "name": "python",
   "nbconvert_exporter": "python",
   "pygments_lexer": "ipython3",
   "version": "3.12.1"
  }
 },
 "nbformat": 4,
 "nbformat_minor": 5
}
