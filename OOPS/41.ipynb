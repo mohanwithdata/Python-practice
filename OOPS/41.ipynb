{
 "cells": [
  {
   "cell_type": "markdown",
   "id": "56d18f29",
   "metadata": {},
   "source": [
    "Build a NotificationSystem base class, and derived Email, SMS classes"
   ]
  },
  {
   "cell_type": "code",
   "execution_count": 5,
   "id": "056bd535",
   "metadata": {},
   "outputs": [
    {
     "name": "stdout",
     "output_type": "stream",
     "text": [
      "    Sending Email to mohan@gmail.com\n",
      "    Subject: meeting reminder\n",
      "    Message: Dont forget\n",
      "    Email sent successfully.\n",
      "\n",
      "    Sending SMS to 9876512345\n",
      "    Message: Don't forget\n",
      "    SMS send sucessfuly.\n",
      "\n"
     ]
    }
   ],
   "source": [
    "class notificationsystem:\n",
    "    def __init__(self, recipient: str, message: str):\n",
    "        self.recipient = recipient\n",
    "        self.message = message\n",
    "\n",
    "    def send(self):\n",
    "        raise NotImplementedError(\"Subclasses must implement the send() method\")\n",
    "    \n",
    "    def __str__(self):\n",
    "        return f\"To: {self.recipient} | message: {self.message} \"\n",
    "    \n",
    "class EmailNotification(notificationsystem):\n",
    "    def __init__(self, recipient_email: str, message: str, subject: str = \"No Subject\"):\n",
    "        super().__init__(recipient_email, message)\n",
    "        self.subject = subject\n",
    "\n",
    "    def send(self):\n",
    "        print(f\"    Sending Email to {self.recipient}\")\n",
    "        print(f\"    Subject: {self.subject}\")\n",
    "        print(f\"    Message: {self.message}\")\n",
    "        print(\"    Email sent successfully.\\n\")\n",
    "\n",
    "\n",
    "class smsnotification(notificationsystem):\n",
    "    def send(self):\n",
    "        print(f\"    Sending SMS to {self.recipient}\")\n",
    "        print(f\"    Message: {self.message}\")\n",
    "        print(f\"    SMS send sucessfuly.\\n\")\n",
    "\n",
    "email_alert = EmailNotification(\n",
    "    recipient_email=\"mohan@gmail.com\",\n",
    "    subject=\"meeting reminder\",\n",
    "    message=\"Dont forget\"\n",
    ")     \n",
    "\n",
    "smsalert = smsnotification(\n",
    "    recipient=\"9876512345\",\n",
    "    message=\"Don't forget\"\n",
    "\n",
    ")\n",
    "\n",
    "notifications = [email_alert, smsalert]\n",
    "\n",
    "for noti in notifications:\n",
    "    noti.send()"
   ]
  },
  {
   "cell_type": "code",
   "execution_count": null,
   "id": "238c046f",
   "metadata": {},
   "outputs": [],
   "source": []
  }
 ],
 "metadata": {
  "kernelspec": {
   "display_name": "Python 3",
   "language": "python",
   "name": "python3"
  },
  "language_info": {
   "codemirror_mode": {
    "name": "ipython",
    "version": 3
   },
   "file_extension": ".py",
   "mimetype": "text/x-python",
   "name": "python",
   "nbconvert_exporter": "python",
   "pygments_lexer": "ipython3",
   "version": "3.12.1"
  }
 },
 "nbformat": 4,
 "nbformat_minor": 5
}
