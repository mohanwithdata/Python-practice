{
 "cells": [
  {
   "cell_type": "code",
   "execution_count": 1,
   "id": "ef375909",
   "metadata": {},
   "outputs": [
    {
     "name": "stdout",
     "output_type": "stream",
     "text": [
      "Name    : Mohan\n",
      "Email   : mohan123@gmail.com\n"
     ]
    }
   ],
   "source": [
    "import re\n",
    "\n",
    "class user:\n",
    "    def __init__(self, name: str, email: str):\n",
    "        self.name = name\n",
    "        \n",
    "        if user.isvalid_email(email):\n",
    "            self.email = email\n",
    "        else:\n",
    "            raise ValueError(\"Ivalid email address\")\n",
    "        \n",
    "    def info(self):\n",
    "        print(f\"Name    : {self.name}\")\n",
    "        print(f\"Email   : {self.email}\")\n",
    "    \n",
    "    @staticmethod\n",
    "    def isvalid_email(email: str) -> bool:\n",
    "        pattern = r'^[\\w\\.-]+@[\\w\\.-]+\\.\\w+$'\n",
    "        return re.match(pattern, email) is not None\n",
    "\n",
    "user1 = user(\"Mohan\", \"mohan123@gmail.com\")\n",
    "user1.info()\n",
    "\n"
   ]
  },
  {
   "cell_type": "code",
   "execution_count": 2,
   "id": "4cda205d",
   "metadata": {},
   "outputs": [
    {
     "ename": "ValueError",
     "evalue": "Ivalid email address",
     "output_type": "error",
     "traceback": [
      "\u001b[31m---------------------------------------------------------------------------\u001b[39m",
      "\u001b[31mValueError\u001b[39m                                Traceback (most recent call last)",
      "\u001b[36mCell\u001b[39m\u001b[36m \u001b[39m\u001b[32mIn[2]\u001b[39m\u001b[32m, line 1\u001b[39m\n\u001b[32m----> \u001b[39m\u001b[32m1\u001b[39m user2 = \u001b[43muser\u001b[49m\u001b[43m(\u001b[49m\u001b[33;43m\"\u001b[39;49m\u001b[33;43mBalor\u001b[39;49m\u001b[33;43m\"\u001b[39;49m\u001b[43m,\u001b[49m\u001b[43m \u001b[49m\u001b[33;43m\"\u001b[39;49m\u001b[33;43mBalor@Balor@Balor.com\u001b[39;49m\u001b[33;43m\"\u001b[39;49m\u001b[43m)\u001b[49m\n",
      "\u001b[36mCell\u001b[39m\u001b[36m \u001b[39m\u001b[32mIn[1]\u001b[39m\u001b[32m, line 10\u001b[39m, in \u001b[36muser.__init__\u001b[39m\u001b[34m(self, name, email)\u001b[39m\n\u001b[32m      8\u001b[39m     \u001b[38;5;28mself\u001b[39m.email = email\n\u001b[32m      9\u001b[39m \u001b[38;5;28;01melse\u001b[39;00m:\n\u001b[32m---> \u001b[39m\u001b[32m10\u001b[39m     \u001b[38;5;28;01mraise\u001b[39;00m \u001b[38;5;167;01mValueError\u001b[39;00m(\u001b[33m\"\u001b[39m\u001b[33mIvalid email address\u001b[39m\u001b[33m\"\u001b[39m)\n",
      "\u001b[31mValueError\u001b[39m: Ivalid email address"
     ]
    }
   ],
   "source": [
    "user2 = user(\"Balor\", \"Balor@Balor@Balor.com\")"
   ]
  },
  {
   "cell_type": "code",
   "execution_count": null,
   "id": "bc7c3b07",
   "metadata": {},
   "outputs": [],
   "source": []
  }
 ],
 "metadata": {
  "kernelspec": {
   "display_name": "Python 3",
   "language": "python",
   "name": "python3"
  },
  "language_info": {
   "codemirror_mode": {
    "name": "ipython",
    "version": 3
   },
   "file_extension": ".py",
   "mimetype": "text/x-python",
   "name": "python",
   "nbconvert_exporter": "python",
   "pygments_lexer": "ipython3",
   "version": "3.12.1"
  }
 },
 "nbformat": 4,
 "nbformat_minor": 5
}
