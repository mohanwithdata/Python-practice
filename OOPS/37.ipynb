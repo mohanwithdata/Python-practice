{
 "cells": [
  {
   "cell_type": "code",
   "execution_count": 2,
   "id": "199f3cf1",
   "metadata": {},
   "outputs": [
    {
     "name": "stdout",
     "output_type": "stream",
     "text": [
      "Central City Lib Library Collection: \n",
      "- 1984 (1949) by George Orwell (British)\n",
      "- Norwegian Wood (1987) by Haruki Murakami (Japanese)\n"
     ]
    }
   ],
   "source": [
    "class author:\n",
    "    def __init__(self, name: str, nationality: str):\n",
    "        self.name = name\n",
    "        self.nationality =  nationality\n",
    "\n",
    "    def __str__(self):\n",
    "        return f\"{self.name} ({self.nationality})\"\n",
    "\n",
    "class book:\n",
    "    def __init__(self, title: str, author: author, year: int):\n",
    "        self.title = title\n",
    "        self.author = author\n",
    "        self.year = year\n",
    "\n",
    "    def __str__(self):\n",
    "        return f\"{self.title} ({self.year}) by {self.author}\"\n",
    "    \n",
    "class library:\n",
    "    def __init__(self, name: str):\n",
    "        self.name = name\n",
    "        self.books = []\n",
    "\n",
    "    def add_book(self, book: book):\n",
    "        self.books.append(book)\n",
    "\n",
    "    def display_books(self):\n",
    "        if not self.books:\n",
    "            print(\"No books in the library.\")\n",
    "            return\n",
    "        print(f\"{self.name} Library Collection: \")\n",
    "        for book in self.books:\n",
    "            print(f\"- {book}\")\n",
    "\n",
    "author1 = author(\"George Orwell\", \"British\")\n",
    "author2 = author(\"Haruki Murakami\", \"Japanese\")\n",
    "\n",
    "book1 = book(\"1984\", author1, 1949)\n",
    "book2 = book(\"Norwegian Wood\", author2, 1987)\n",
    "\n",
    "mylib = library(\"Central City Lib\")\n",
    "\n",
    "mylib.add_book(book1)\n",
    "\n",
    "mylib.add_book(book2)\n",
    "\n",
    "mylib.display_books()\n"
   ]
  },
  {
   "cell_type": "code",
   "execution_count": 3,
   "id": "8ec2ea94",
   "metadata": {},
   "outputs": [
    {
     "data": {
      "text/plain": [
       "True"
      ]
     },
     "execution_count": 3,
     "metadata": {},
     "output_type": "execute_result"
    }
   ],
   "source": [
    "class user:\n",
    "    def __init__(self, username: str, email: str):\n",
    "        self.username = username\n",
    "        self.email = email\n",
    "\n",
    "    def __eq__(self, other):\n",
    "        if not isinstance(other, user):\n",
    "            return False\n",
    "        return self.email.lower() == other.email.lower()\n",
    "    \n",
    "    def __str__(self):\n",
    "        return f\"{self.username} < {self.email}\"\n",
    "    \n",
    "\n",
    "user1 = user(\"john\", \"john@gmail.com\")\n",
    "user2 = user(\"john\", \"john@gmail.com\")\n",
    "user3 = user(\"jane_doe\", \"jane@gmail.com\")\n",
    "\n",
    "user1 == user2"
   ]
  },
  {
   "cell_type": "code",
   "execution_count": 4,
   "id": "143b7996",
   "metadata": {},
   "outputs": [
    {
     "data": {
      "text/plain": [
       "False"
      ]
     },
     "execution_count": 4,
     "metadata": {},
     "output_type": "execute_result"
    }
   ],
   "source": [
    "user1 == user3"
   ]
  },
  {
   "cell_type": "code",
   "execution_count": null,
   "id": "cfb9dca7",
   "metadata": {},
   "outputs": [],
   "source": []
  }
 ],
 "metadata": {
  "kernelspec": {
   "display_name": "Python 3",
   "language": "python",
   "name": "python3"
  },
  "language_info": {
   "codemirror_mode": {
    "name": "ipython",
    "version": 3
   },
   "file_extension": ".py",
   "mimetype": "text/x-python",
   "name": "python",
   "nbconvert_exporter": "python",
   "pygments_lexer": "ipython3",
   "version": "3.12.1"
  }
 },
 "nbformat": 4,
 "nbformat_minor": 5
}
