{
 "cells": [
  {
   "cell_type": "markdown",
   "id": "6fe011cf",
   "metadata": {},
   "source": [
    "Problem:\n",
    "Design a Product class:\n",
    "\n",
    "Private attributes: __price, __discount\n",
    "\n",
    "Use @property and @setter to safely control access to:\n",
    "\n",
    "Discount (must be between 0 and 50%)\n",
    "\n",
    "Price (must be positive)\n",
    "\n",
    "Add method to calculate discounted price."
   ]
  },
  {
   "cell_type": "code",
   "execution_count": 2,
   "id": "4652145e",
   "metadata": {},
   "outputs": [
    {
     "name": "stdout",
     "output_type": "stream",
     "text": [
      "Price: 1000\n",
      "Discount: 20 %\n",
      "Discounted Price: 800.0\n"
     ]
    }
   ],
   "source": [
    "class product:\n",
    "    def __init__(self, price, discount=0):\n",
    "        self.__price = None\n",
    "        self.__discount = None\n",
    "        self.price = price\n",
    "        self.discount = discount\n",
    "\n",
    "    @property\n",
    "    def price(self):\n",
    "        return self.__price\n",
    "    \n",
    "    @price.setter\n",
    "    def price(self, value):\n",
    "        if value > 0:\n",
    "            self.__price = value\n",
    "        else:\n",
    "            raise ValueError(\"Price must be positive.\")\n",
    "        \n",
    "    @property\n",
    "    def discount(self):\n",
    "        return self.__discount\n",
    "    \n",
    "    @discount.setter\n",
    "    def discount(self, value):\n",
    "        if 0 <= value <= 50:\n",
    "            self.__discount = value\n",
    "        else:\n",
    "            raise ValueError(\"Discount must be between 0% and 50%.\")\n",
    "        \n",
    "    def get_discounted_price(self):\n",
    "        return self.__price * (1 - self.__discount / 100)\n",
    "    \n",
    "product = product(price=1000, discount=20)\n",
    "\n",
    "print(\"Price:\", product.price)\n",
    "print(\"Discount:\", product.discount, \"%\")\n",
    "print(\"Discounted Price:\", product.get_discounted_price())"
   ]
  },
  {
   "cell_type": "code",
   "execution_count": null,
   "id": "a8222d9b",
   "metadata": {},
   "outputs": [],
   "source": []
  }
 ],
 "metadata": {
  "kernelspec": {
   "display_name": "Python 3",
   "language": "python",
   "name": "python3"
  },
  "language_info": {
   "codemirror_mode": {
    "name": "ipython",
    "version": 3
   },
   "file_extension": ".py",
   "mimetype": "text/x-python",
   "name": "python",
   "nbconvert_exporter": "python",
   "pygments_lexer": "ipython3",
   "version": "3.12.1"
  }
 },
 "nbformat": 4,
 "nbformat_minor": 5
}
