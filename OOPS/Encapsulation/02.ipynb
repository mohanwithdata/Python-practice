{
 "cells": [
  {
   "cell_type": "markdown",
   "id": "2812956a",
   "metadata": {},
   "source": [
    "Problem:\n",
    "Design a WeatherData class that:\n",
    "\n",
    "Parses a dictionary from a fake API response.\n",
    "\n",
    "Stores temperature, humidity, and pressure as private attributes.\n",
    "\n",
    "Provides public getter methods.\n",
    "\n",
    "Ensure no direct access or modification to raw values from outside."
   ]
  },
  {
   "cell_type": "code",
   "execution_count": 2,
   "id": "6f78ae84",
   "metadata": {},
   "outputs": [
    {
     "name": "stdout",
     "output_type": "stream",
     "text": [
      "Temperature: 32.4\n",
      "Humidity: 68\n",
      "Pressure: 1012\n",
      "Temperature: 32.4 c\n",
      "Humidity: 68%\n",
      "Pressure: 1012 hPa\n"
     ]
    }
   ],
   "source": [
    "class weatherdata:\n",
    "    def __init__(self, api_response):\n",
    "        self.__temperature = api_response.get('temperature')\n",
    "        self.__humidity = api_response.get('humidity')\n",
    "        self.__pressure = api_response.get('pressure')\n",
    "\n",
    "    def get_temp(self):\n",
    "        return self.__temperature\n",
    "    \n",
    "    def get_hum(self):\n",
    "        return self.__humidity\n",
    "    \n",
    "    def get_press(self):\n",
    "        return self.__pressure\n",
    "    \n",
    "    def display(self):\n",
    "        print(f\"Temperature: {self.__temperature} c\")\n",
    "        print(f\"Humidity: {self.__humidity}%\")\n",
    "        print(f\"Pressure: {self.__pressure} hPa\")\n",
    "\n",
    "weather_api_response = {\n",
    "    'temperature': 32.4,\n",
    "    'humidity': 68,\n",
    "    'pressure': 1012\n",
    "}\n",
    "\n",
    "weather = weatherdata(weather_api_response)\n",
    "\n",
    "print(\"Temperature:\", weather.get_temp())\n",
    "print(\"Humidity:\", weather.get_hum())\n",
    "print(\"Pressure:\", weather.get_press())\n",
    "\n",
    "weather.display()"
   ]
  },
  {
   "cell_type": "code",
   "execution_count": null,
   "id": "3ad150f9",
   "metadata": {},
   "outputs": [],
   "source": []
  }
 ],
 "metadata": {
  "kernelspec": {
   "display_name": "Python 3",
   "language": "python",
   "name": "python3"
  },
  "language_info": {
   "codemirror_mode": {
    "name": "ipython",
    "version": 3
   },
   "file_extension": ".py",
   "mimetype": "text/x-python",
   "name": "python",
   "nbconvert_exporter": "python",
   "pygments_lexer": "ipython3",
   "version": "3.12.1"
  }
 },
 "nbformat": 4,
 "nbformat_minor": 5
}
