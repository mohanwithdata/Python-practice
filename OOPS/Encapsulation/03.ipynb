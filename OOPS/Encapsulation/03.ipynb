{
 "cells": [
  {
   "cell_type": "markdown",
   "id": "750dec9f",
   "metadata": {},
   "source": [
    "Problem:\n",
    "Create a User class for an app with the following:\n",
    "\n",
    "Private fields: __username, __password\n",
    "\n",
    "Public method: check_password(input_pwd)\n",
    "\n",
    "Use encapsulation to prevent direct access to the password while allowing password verification.\n",
    "\n",
    "Add a change_password(old, new) method with security check."
   ]
  },
  {
   "cell_type": "code",
   "execution_count": 2,
   "id": "a45c6e15",
   "metadata": {},
   "outputs": [
    {
     "name": "stdout",
     "output_type": "stream",
     "text": [
      "Password check: True\n",
      "Incorrect old password. Password change failed.\n",
      "Password changed successfully.\n",
      "Password check: True\n"
     ]
    }
   ],
   "source": [
    "class user:\n",
    "    def __init__(self, username, password):\n",
    "        self.__username = username\n",
    "        self.__password = password\n",
    "\n",
    "    def check_password(self, input_pwd):\n",
    "        return self.__password == input_pwd\n",
    "    \n",
    "    def change_password(self, old_password, new_password):\n",
    "        if self.check_password(old_password):\n",
    "            self.__password = new_password\n",
    "            print(\"Password changed successfully.\")\n",
    "        else:\n",
    "            print(\"Incorrect old password. Password change failed.\")\n",
    "\n",
    "    def get_username(self):\n",
    "        return self.__username\n",
    "    \n",
    "user = user(\"Mohan\", \"myabc123\")\n",
    "\n",
    "print(\"Password check:\", user.check_password(\"myabc123\"))\n",
    "\n",
    "user.change_password(\"wrongpress\", \"newsecret\")\n",
    "\n",
    "user.change_password(\"myabc123\", \"newsecret456\")\n",
    "\n",
    "print(\"Password check:\", user.check_password(\"newsecret456\"))\n"
   ]
  },
  {
   "cell_type": "code",
   "execution_count": null,
   "id": "017932c9",
   "metadata": {},
   "outputs": [],
   "source": []
  }
 ],
 "metadata": {
  "kernelspec": {
   "display_name": "Python 3",
   "language": "python",
   "name": "python3"
  },
  "language_info": {
   "codemirror_mode": {
    "name": "ipython",
    "version": 3
   },
   "file_extension": ".py",
   "mimetype": "text/x-python",
   "name": "python",
   "nbconvert_exporter": "python",
   "pygments_lexer": "ipython3",
   "version": "3.12.1"
  }
 },
 "nbformat": 4,
 "nbformat_minor": 5
}
