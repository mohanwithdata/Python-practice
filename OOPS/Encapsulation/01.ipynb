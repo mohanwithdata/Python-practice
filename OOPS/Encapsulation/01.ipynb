{
 "cells": [
  {
   "cell_type": "markdown",
   "id": "066a0bc0",
   "metadata": {},
   "source": [
    "Create a Simple Class with Private Variables\n",
    "\n",
    "Problem:\n",
    "Create a BankAccount class with a private balance (__balance). Add methods to:\n",
    "\n",
    "Deposit an amount\n",
    "\n",
    "Withdraw an amount (only if sufficient balance)\n",
    "\n",
    "Get the current balance (using a getter method)"
   ]
  },
  {
   "cell_type": "code",
   "execution_count": 1,
   "id": "5d8fa776",
   "metadata": {},
   "outputs": [
    {
     "name": "stdout",
     "output_type": "stream",
     "text": [
      "Deposited $1500.\n",
      "Withdrew $2000\n",
      "Current Balance: $4500\n"
     ]
    }
   ],
   "source": [
    "class bankaccount:\n",
    "    def __init__(self, account_holder, initial_balance=0):\n",
    "        self.account_holder = account_holder\n",
    "        self.__balance = initial_balance\n",
    "\n",
    "    def deposit(self, amount):\n",
    "        if amount > 0:\n",
    "            self.__balance += amount\n",
    "            print(f\"Deposited ${amount}.\")\n",
    "\n",
    "    def withdraw(self, amount):\n",
    "        if amount > self.__balance:\n",
    "            print(\"Insufficient balance.\")\n",
    "        elif amount <= 0:\n",
    "            print(\"Withdrawal amount must be positive.\")\n",
    "        else:\n",
    "            self.__balance -= amount\n",
    "            print(f\"Withdrew ${amount}\")\n",
    "\n",
    "    def get_balance(self):\n",
    "        return self.__balance\n",
    "    \n",
    "account = bankaccount(\"Mohan\", 5000)\n",
    "\n",
    "account.deposit(1500)\n",
    "account.withdraw(2000)\n",
    "\n",
    "print(f\"Current Balance: ${account.get_balance()}\")"
   ]
  },
  {
   "cell_type": "code",
   "execution_count": null,
   "id": "5b45dd3f",
   "metadata": {},
   "outputs": [],
   "source": []
  }
 ],
 "metadata": {
  "kernelspec": {
   "display_name": "Python 3",
   "language": "python",
   "name": "python3"
  },
  "language_info": {
   "codemirror_mode": {
    "name": "ipython",
    "version": 3
   },
   "file_extension": ".py",
   "mimetype": "text/x-python",
   "name": "python",
   "nbconvert_exporter": "python",
   "pygments_lexer": "ipython3",
   "version": "3.12.1"
  }
 },
 "nbformat": 4,
 "nbformat_minor": 5
}
