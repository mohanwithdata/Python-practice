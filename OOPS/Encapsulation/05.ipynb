{
 "cells": [
  {
   "cell_type": "markdown",
   "id": "5e1ae502",
   "metadata": {},
   "source": [
    "Problem:\n",
    "Create a ConfigurationManager class:\n",
    "\n",
    "Ensure it has only one instance (singleton pattern).\n",
    "\n",
    "Store private configuration settings like database credentials.\n",
    "\n",
    "Only allow read-only access to certain properties using getters.\n",
    "\n",
    "Add a method to load settings from a dictionary."
   ]
  },
  {
   "cell_type": "code",
   "execution_count": null,
   "id": "9a100676",
   "metadata": {},
   "outputs": [
    {
     "name": "stdout",
     "output_type": "stream",
     "text": [
      "DB Host: localhost\n",
      "User: admin\n",
      "API Key: XYZ-123-SECRET\n",
      "Same Instance: True\n"
     ]
    }
   ],
   "source": [
    "class configurationmanager:\n",
    "    __instance = None\n",
    "\n",
    "    def __new__(cls):\n",
    "        if cls.__instance is None:\n",
    "            cls.__instance = super(configurationmanager, cls).__new__(cls)\n",
    "            cls.__instance.__initialized = False\n",
    "        return cls.__instance\n",
    "    \n",
    "    def __init__(self):\n",
    "        if not self.__initialized:\n",
    "            self.__db_host = None\n",
    "            self.__db_user = None\n",
    "            self.__db_password = None\n",
    "            self.__api_key = None\n",
    "            self.__initialized = None\n",
    "\n",
    "    def load_from_dict(self, config_dict):\n",
    "        self.__db_host = config_dict.get('db_host')\n",
    "        self.__db_user = config_dict.get('db_user')\n",
    "        self.__db_password = config_dict.get('db_password')\n",
    "        self.__api_key = config_dict.get('api_key')\n",
    "\n",
    "    def get_db_host(self):\n",
    "        return self.__db_host\n",
    "    \n",
    "    def get_db_user(self):\n",
    "        return self.__db_user\n",
    "    \n",
    "    def get_api_key(self):\n",
    "        return self.__api_key\n",
    "\n",
    "config_data = {\n",
    "    'db_host': 'localhost',\n",
    "    'db_user': 'admin',\n",
    "    'db_password': 'securepass123',\n",
    "    'api_key': 'XYZ-123-SECRET'\n",
    "\n",
    "}\n",
    "\n",
    "config1 = configurationmanager()\n",
    "\n",
    "config1.load_from_dict(config_data)\n",
    "\n",
    "print(\"DB Host:\", config1.get_db_host())\n",
    "\n",
    "print(\"User:\", config1.get_db_user())\n",
    "\n",
    "print(\"API Key:\", config1.get_api_key())\n",
    "\n",
    "config2 = configurationmanager()\n",
    "\n",
    "print(\"Same Instance:\", config1 is config2)"
   ]
  },
  {
   "cell_type": "code",
   "execution_count": null,
   "id": "09143fa8",
   "metadata": {},
   "outputs": [],
   "source": []
  }
 ],
 "metadata": {
  "kernelspec": {
   "display_name": "Python 3",
   "language": "python",
   "name": "python3"
  },
  "language_info": {
   "codemirror_mode": {
    "name": "ipython",
    "version": 3
   },
   "file_extension": ".py",
   "mimetype": "text/x-python",
   "name": "python",
   "nbconvert_exporter": "python",
   "pygments_lexer": "ipython3",
   "version": "3.12.1"
  }
 },
 "nbformat": 4,
 "nbformat_minor": 5
}
