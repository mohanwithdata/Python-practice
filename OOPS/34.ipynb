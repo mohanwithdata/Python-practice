{
 "cells": [
  {
   "cell_type": "code",
   "execution_count": null,
   "id": "839d7e37",
   "metadata": {},
   "outputs": [],
   "source": [
    "Build a ShoppingCart class that adds/removes items and calculates total."
   ]
  },
  {
   "cell_type": "code",
   "execution_count": 2,
   "id": "0d5d2d94",
   "metadata": {},
   "outputs": [
    {
     "name": "stdout",
     "output_type": "stream",
     "text": [
      "your shopping cart: \n",
      "-apple x3 - $60.00\n",
      "-milk x2 - $100.00\n",
      "-bread x1 - $30.00\n",
      "Total: $190.00\n"
     ]
    }
   ],
   "source": [
    "class Item:\n",
    "    def __init__(self, name: str, price: float, quantity: int = 1):\n",
    "        self.name = name\n",
    "        self.price = price\n",
    "        self.quantity = quantity\n",
    "\n",
    "    def get_total(self):\n",
    "        return self.price * self.quantity\n",
    "\n",
    "    def __str__(self):\n",
    "        return f\"{self.name} x{self.quantity} - ${self.get_total():.2f}\"\n",
    "\n",
    "class shoppingcart:\n",
    "    def __init__(self):\n",
    "        self.items = []\n",
    "\n",
    "    def add_item(self, item: Item):\n",
    "        for existing in self.items:\n",
    "            if existing.name == item.name:\n",
    "                existing.quantity += item.quantity\n",
    "                return\n",
    "        self.items.append(item)\n",
    "\n",
    "    def remove_item(self, item_name: str):\n",
    "        self.items = [item for item in self.items if item.name != item_name]\n",
    "\n",
    "    def cal_total(self):\n",
    "        return sum(item.get_total() for item in self.items)\n",
    "\n",
    "    def display_cart(self):\n",
    "        if not self.items:\n",
    "            print(\"Your cart is empty.\")\n",
    "            return\n",
    "        print(\"your shopping cart: \")\n",
    "        for item in self.items:\n",
    "            print(f\"-{item}\")\n",
    "\n",
    "        print(f\"Total: ${self.cal_total():.2f}\")\n",
    "\n",
    "cart = shoppingcart()\n",
    "\n",
    "cart.add_item(Item(\"apple\", 20.0, 3))\n",
    "cart.add_item(Item(\"milk\", 50.0, 2))\n",
    "cart.add_item(Item(\"bread\", 30.0))\n",
    "\n",
    "cart.display_cart()\n"
   ]
  },
  {
   "cell_type": "code",
   "execution_count": null,
   "id": "ab577cbf",
   "metadata": {},
   "outputs": [],
   "source": [
    "cart.remove_item(\"milk\")\n",
    "cart.display_cart()\n"
   ]
  }
 ],
 "metadata": {
  "kernelspec": {
   "display_name": "Python 3",
   "language": "python",
   "name": "python3"
  },
  "language_info": {
   "codemirror_mode": {
    "name": "ipython",
    "version": 3
   },
   "file_extension": ".py",
   "mimetype": "text/x-python",
   "name": "python",
   "nbconvert_exporter": "python",
   "pygments_lexer": "ipython3",
   "version": "3.12.1"
  }
 },
 "nbformat": 4,
 "nbformat_minor": 5
}
