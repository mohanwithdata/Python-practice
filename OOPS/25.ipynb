{
 "cells": [
  {
   "cell_type": "code",
   "execution_count": 1,
   "id": "b9e6b5ee",
   "metadata": {},
   "outputs": [
    {
     "name": "stdout",
     "output_type": "stream",
     "text": [
      "True\n"
     ]
    }
   ],
   "source": [
    "class animal:\n",
    "    pass\n",
    "\n",
    "class mammal(animal):\n",
    "    pass\n",
    "\n",
    "class dog(mammal):\n",
    "    def bark(self):\n",
    "        print(\"woof!\")\n",
    "\n",
    "d = dog()\n",
    "\n",
    "print(isinstance(d, dog))"
   ]
  },
  {
   "cell_type": "code",
   "execution_count": 2,
   "id": "8b424237",
   "metadata": {},
   "outputs": [
    {
     "name": "stdout",
     "output_type": "stream",
     "text": [
      "True\n"
     ]
    }
   ],
   "source": [
    "print(isinstance(d, mammal))"
   ]
  },
  {
   "cell_type": "code",
   "execution_count": 3,
   "id": "5d2a0554",
   "metadata": {},
   "outputs": [
    {
     "name": "stdout",
     "output_type": "stream",
     "text": [
      "True\n"
     ]
    }
   ],
   "source": [
    "print(isinstance(d, animal))"
   ]
  },
  {
   "cell_type": "code",
   "execution_count": 4,
   "id": "38dcc609",
   "metadata": {},
   "outputs": [
    {
     "name": "stdout",
     "output_type": "stream",
     "text": [
      "True\n"
     ]
    }
   ],
   "source": [
    "print(isinstance(d, object))"
   ]
  },
  {
   "cell_type": "code",
   "execution_count": 5,
   "id": "43637e64",
   "metadata": {},
   "outputs": [
    {
     "name": "stdout",
     "output_type": "stream",
     "text": [
      "True\n"
     ]
    }
   ],
   "source": [
    "print(issubclass(dog, mammal))"
   ]
  },
  {
   "cell_type": "code",
   "execution_count": 6,
   "id": "eb61d817",
   "metadata": {},
   "outputs": [
    {
     "name": "stdout",
     "output_type": "stream",
     "text": [
      "True\n"
     ]
    }
   ],
   "source": [
    "print(issubclass(mammal, animal))"
   ]
  },
  {
   "cell_type": "code",
   "execution_count": 7,
   "id": "33dda695",
   "metadata": {},
   "outputs": [
    {
     "name": "stdout",
     "output_type": "stream",
     "text": [
      "True\n"
     ]
    }
   ],
   "source": [
    "print(issubclass(dog, animal))"
   ]
  },
  {
   "cell_type": "code",
   "execution_count": 8,
   "id": "5d8543a1",
   "metadata": {},
   "outputs": [
    {
     "name": "stdout",
     "output_type": "stream",
     "text": [
      "False\n"
     ]
    }
   ],
   "source": [
    "print(issubclass(animal, dog))"
   ]
  },
  {
   "cell_type": "code",
   "execution_count": null,
   "id": "3ed3a16c",
   "metadata": {},
   "outputs": [],
   "source": []
  }
 ],
 "metadata": {
  "kernelspec": {
   "display_name": "Python 3",
   "language": "python",
   "name": "python3"
  },
  "language_info": {
   "codemirror_mode": {
    "name": "ipython",
    "version": 3
   },
   "file_extension": ".py",
   "mimetype": "text/x-python",
   "name": "python",
   "nbconvert_exporter": "python",
   "pygments_lexer": "ipython3",
   "version": "3.12.1"
  }
 },
 "nbformat": 4,
 "nbformat_minor": 5
}
