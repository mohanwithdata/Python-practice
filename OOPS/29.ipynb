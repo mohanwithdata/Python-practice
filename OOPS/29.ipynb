{
 "cells": [
  {
   "cell_type": "code",
   "execution_count": 1,
   "id": "8955bd17",
   "metadata": {},
   "outputs": [
    {
     "name": "stdout",
     "output_type": "stream",
     "text": [
      "Sum of vectors:  (4, 6)\n",
      "v1 == v2? False\n",
      "v1 == v3? True\n"
     ]
    }
   ],
   "source": [
    "class vector:\n",
    "    def __init__(self, x, y):\n",
    "        self.x = x\n",
    "        self.y = y\n",
    "\n",
    "    def __add__(self, other):\n",
    "        return vector(self.x + other.x, self.y + other.y)\n",
    "    \n",
    "    def __eq__(self, other):\n",
    "        return self.x == other.x and self.y == other.y\n",
    "    \n",
    "    def __str__(self):\n",
    "        return f\"({self.x}, {self.y})\"\n",
    "    \n",
    "v1 = vector(3, 4)\n",
    "v2 = vector(1, 2)\n",
    "v3 = vector(3, 4)\n",
    "\n",
    "v_sum = v1 + v2\n",
    "\n",
    "print(\"Sum of vectors: \", v_sum)\n",
    "\n",
    "print(\"v1 == v2?\", v1 == v2)\n",
    "print(\"v1 == v3?\", v1 == v3)"
   ]
  },
  {
   "cell_type": "code",
   "execution_count": null,
   "id": "f2471884",
   "metadata": {},
   "outputs": [],
   "source": []
  }
 ],
 "metadata": {
  "kernelspec": {
   "display_name": "Python 3",
   "language": "python",
   "name": "python3"
  },
  "language_info": {
   "codemirror_mode": {
    "name": "ipython",
    "version": 3
   },
   "file_extension": ".py",
   "mimetype": "text/x-python",
   "name": "python",
   "nbconvert_exporter": "python",
   "pygments_lexer": "ipython3",
   "version": "3.12.1"
  }
 },
 "nbformat": 4,
 "nbformat_minor": 5
}
