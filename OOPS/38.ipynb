{
 "cells": [
  {
   "cell_type": "code",
   "execution_count": 7,
   "id": "d4d30a65",
   "metadata": {},
   "outputs": [
    {
     "name": "stdout",
     "output_type": "stream",
     "text": [
      "Com Lib library with 3 books.\n",
      " - The Hobbit by J.R.R. Tolkien\n",
      " - To Kill a Mockingbird by Harper Lee\n",
      " - 1984 by George Orwell\n"
     ]
    }
   ],
   "source": [
    "class Book:\n",
    "    def __init__(self, title: str, author: str):\n",
    "        self.title = title\n",
    "        self.author = author\n",
    "\n",
    "    def __str__(self):\n",
    "        return f\"{self.title} by {self.author}\"\n",
    "    \n",
    "class library:\n",
    "    def __init__(self, name: str):\n",
    "        self.name = name\n",
    "        self.books = []\n",
    "\n",
    "    def add_book(self, book: Book):\n",
    "        self.books.append(book)\n",
    "    \n",
    "    def __len__(self):\n",
    "        return len(self.books)\n",
    "    \n",
    "    def __getitem__(self, index):\n",
    "        return self.books[index]\n",
    "    \n",
    "    def __iter__(self):\n",
    "        return iter(self.books)\n",
    "    \n",
    "    def __str__(self):\n",
    "        return f\"{self.name} library with {len(self)} books.\"\n",
    "    \n",
    "library1 = library(\"Com Lib\")\n",
    "\n",
    "library1.add_book(Book(\"The Hobbit\", \"J.R.R. Tolkien\"))\n",
    "library1.add_book(Book(\"To Kill a Mockingbird\", \"Harper Lee\"))\n",
    "library1.add_book(Book(\"1984\", \"George Orwell\"))\n",
    "\n",
    "print(library1)\n",
    "\n",
    "for book in library1:\n",
    "    print(f\" - {book}\")"
   ]
  },
  {
   "cell_type": "code",
   "execution_count": null,
   "id": "f70cfe29",
   "metadata": {},
   "outputs": [],
   "source": []
  }
 ],
 "metadata": {
  "kernelspec": {
   "display_name": "Python 3",
   "language": "python",
   "name": "python3"
  },
  "language_info": {
   "codemirror_mode": {
    "name": "ipython",
    "version": 3
   },
   "file_extension": ".py",
   "mimetype": "text/x-python",
   "name": "python",
   "nbconvert_exporter": "python",
   "pygments_lexer": "ipython3",
   "version": "3.12.1"
  }
 },
 "nbformat": 4,
 "nbformat_minor": 5
}
