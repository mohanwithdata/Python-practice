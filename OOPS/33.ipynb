{
 "cells": [
  {
   "cell_type": "code",
   "execution_count": null,
   "id": "256bae0c",
   "metadata": {
    "vscode": {
     "languageId": "plaintext"
    }
   },
   "outputs": [],
   "source": [
    "Implement Student class that stores marks and calculates grade."
   ]
  },
  {
   "cell_type": "code",
   "execution_count": 1,
   "id": "fe5282d7",
   "metadata": {},
   "outputs": [
    {
     "name": "stdout",
     "output_type": "stream",
     "text": [
      "students: Mohan\n",
      "Marks: \n",
      " Maths: 98\n",
      " Science: 98\n",
      " English: 98\n",
      "Average: 98.00\n",
      "Grade: a\n"
     ]
    }
   ],
   "source": [
    "class student:\n",
    "    def __init__(self, name):\n",
    "        self.name = name\n",
    "        self.marks = {}\n",
    "\n",
    "    def add_marks(self, subject, mark):\n",
    "        self.marks[subject] = mark\n",
    "\n",
    "    def get_average(self):\n",
    "        if not self.marks:\n",
    "            return 0\n",
    "        return sum(self.marks.values()) / len(self.marks)\n",
    "    \n",
    "    def get_grade(self):\n",
    "        avg = self.get_average()\n",
    "        if avg >= 90:\n",
    "            return 'a'\n",
    "        elif avg >= 80:\n",
    "            return 'b'\n",
    "        elif avg >= 70:\n",
    "            return 'c'\n",
    "        elif avg >= 60:\n",
    "            return 'd'\n",
    "        else:\n",
    "            return 'f'\n",
    "        \n",
    "    def report(self):\n",
    "        print(f\"students: {self.name}\")\n",
    "        print(\"Marks: \")\n",
    "\n",
    "        for subject, mark in self.marks.items():\n",
    "           print(f\" {subject}: {mark}\") \n",
    "        print(f\"Average: {self.get_average():.2f}\")\n",
    "        print(f\"Grade: {self.get_grade()}\")\n",
    "\n",
    "student1 = student(\"Mohan\")\n",
    "student1.add_marks(\"Maths\", 98)\n",
    "student1.add_marks(\"Science\", 98)\n",
    "student1.add_marks(\"English\", 98)\n",
    "\n",
    "student1.report()\n",
    "\n"
   ]
  },
  {
   "cell_type": "code",
   "execution_count": null,
   "id": "94eefe37",
   "metadata": {},
   "outputs": [],
   "source": []
  }
 ],
 "metadata": {
  "kernelspec": {
   "display_name": "Python 3",
   "language": "python",
   "name": "python3"
  },
  "language_info": {
   "codemirror_mode": {
    "name": "ipython",
    "version": 3
   },
   "file_extension": ".py",
   "mimetype": "text/x-python",
   "name": "python",
   "nbconvert_exporter": "python",
   "pygments_lexer": "ipython3",
   "version": "3.12.1"
  }
 },
 "nbformat": 4,
 "nbformat_minor": 5
}
