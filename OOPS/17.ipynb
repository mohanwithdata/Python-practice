{
 "cells": [
  {
   "cell_type": "code",
   "execution_count": 1,
   "id": "f26d5c89",
   "metadata": {},
   "outputs": [
    {
     "name": "stdout",
     "output_type": "stream",
     "text": [
      "Employee Name   : Mohan\n",
      "Position        : ML engineer\n",
      "Company         : TechNova Pvt Ltd\n",
      "------------------------------\n",
      "Employee Name   : Balor\n",
      "Position        : CEO\n",
      "Company         : TechNova Pvt Ltd\n"
     ]
    }
   ],
   "source": [
    "class employee:\n",
    "    company_name = \"TechNova Pvt Ltd\"\n",
    "\n",
    "    def __init__(self, name: str, position: str):\n",
    "        self.name = name\n",
    "        self.position = position\n",
    "\n",
    "    def info(self):\n",
    "        print(f\"Employee Name   : {self.name}\")\n",
    "        print(f\"Position        : {self.position}\")\n",
    "        print(f\"Company         : {employee.company_name}\")\n",
    "\n",
    "emp1 = employee(\"Mohan\", \"ML engineer\")\n",
    "emp2 = employee(\"Balor\", \"CEO\")\n",
    "\n",
    "emp1.info()\n",
    "print(\"-\"*30)\n",
    "emp2.info()\n",
    "\n",
    "\n"
   ]
  },
  {
   "cell_type": "code",
   "execution_count": null,
   "id": "4ba52dba",
   "metadata": {},
   "outputs": [],
   "source": []
  }
 ],
 "metadata": {
  "kernelspec": {
   "display_name": "Python 3",
   "language": "python",
   "name": "python3"
  },
  "language_info": {
   "codemirror_mode": {
    "name": "ipython",
    "version": 3
   },
   "file_extension": ".py",
   "mimetype": "text/x-python",
   "name": "python",
   "nbconvert_exporter": "python",
   "pygments_lexer": "ipython3",
   "version": "3.12.1"
  }
 },
 "nbformat": 4,
 "nbformat_minor": 5
}
