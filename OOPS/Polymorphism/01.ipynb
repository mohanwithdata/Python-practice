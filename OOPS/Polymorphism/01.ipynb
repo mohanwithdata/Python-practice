{
 "cells": [
  {
   "cell_type": "markdown",
   "id": "12691159",
   "metadata": {},
   "source": [
    "Create a function describe_shape(shape) that behaves differently based on the object passed. Implement Circle, Square, and Triangle classes, each with a describe() method, and show how the describe_shape() function demonstrates polymorphism."
   ]
  },
  {
   "cell_type": "code",
   "execution_count": 2,
   "id": "a770f72b",
   "metadata": {},
   "outputs": [
    {
     "name": "stdout",
     "output_type": "stream",
     "text": [
      "I am a Circle\n",
      "I am square.\n",
      "I am triangle\n"
     ]
    }
   ],
   "source": [
    "class circle:\n",
    "    def describe(self):\n",
    "        return \"I am a Circle\"\n",
    "\n",
    "class square:\n",
    "    def describe(self):\n",
    "        return \"I am square.\"\n",
    "\n",
    "class triangle:\n",
    "    def describe(self):\n",
    "        return \"I am triangle\"\n",
    "\n",
    "def describe(shape):\n",
    "    print(shape.describe())\n",
    "\n",
    "shapes = [circle(), square(), triangle()]\n",
    "\n",
    "for shape in shapes:\n",
    "    describe(shape)"
   ]
  },
  {
   "cell_type": "code",
   "execution_count": null,
   "id": "2cd2fa1f",
   "metadata": {},
   "outputs": [],
   "source": []
  }
 ],
 "metadata": {
  "kernelspec": {
   "display_name": "Python 3",
   "language": "python",
   "name": "python3"
  },
  "language_info": {
   "codemirror_mode": {
    "name": "ipython",
    "version": 3
   },
   "file_extension": ".py",
   "mimetype": "text/x-python",
   "name": "python",
   "nbconvert_exporter": "python",
   "pygments_lexer": "ipython3",
   "version": "3.12.1"
  }
 },
 "nbformat": 4,
 "nbformat_minor": 5
}
