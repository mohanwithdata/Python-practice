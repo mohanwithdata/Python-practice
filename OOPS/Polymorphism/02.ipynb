{
 "cells": [
  {
   "cell_type": "markdown",
   "id": "f7c54319",
   "metadata": {},
   "source": [
    "Design a class Notification with a method send(). Then create three subclasses EmailNotification, SMSNotification, and PushNotification, each overriding send() with specific behavior. Write a loop to call send() on a list of notification objects to demonstrate polymorphism."
   ]
  },
  {
   "cell_type": "code",
   "execution_count": 1,
   "id": "5642ed38",
   "metadata": {},
   "outputs": [
    {
     "name": "stdout",
     "output_type": "stream",
     "text": [
      "Sending Email Notification\n",
      "Sending SMS notification\n",
      "Sending Push Notification\n"
     ]
    }
   ],
   "source": [
    "class notification:\n",
    "    def send(self):\n",
    "        raise NotImplementedError(\"Subclasses must override send()\")\n",
    "    \n",
    "class emailnotification(notification):\n",
    "    def send(self):\n",
    "        print(\"Sending Email Notification\")\n",
    "\n",
    "class smsnotification(notification):\n",
    "    def send(self):\n",
    "        print(\"Sending SMS notification\")\n",
    "\n",
    "class pushnotification(notification):\n",
    "    def send(self):\n",
    "        print(\"Sending Push Notification\")\n",
    "\n",
    "notifications = [\n",
    "    emailnotification(),\n",
    "    smsnotification(),\n",
    "    pushnotification()\n",
    "]\n",
    "\n",
    "for n in notifications:\n",
    "    n.send()\n",
    "\n"
   ]
  },
  {
   "cell_type": "code",
   "execution_count": null,
   "id": "403615a0",
   "metadata": {},
   "outputs": [],
   "source": []
  }
 ],
 "metadata": {
  "kernelspec": {
   "display_name": "Python 3",
   "language": "python",
   "name": "python3"
  },
  "language_info": {
   "codemirror_mode": {
    "name": "ipython",
    "version": 3
   },
   "file_extension": ".py",
   "mimetype": "text/x-python",
   "name": "python",
   "nbconvert_exporter": "python",
   "pygments_lexer": "ipython3",
   "version": "3.12.1"
  }
 },
 "nbformat": 4,
 "nbformat_minor": 5
}
