{
 "cells": [
  {
   "cell_type": "markdown",
   "id": "7b544bae",
   "metadata": {},
   "source": [
    "Create two classes: PDFDocument and WordDocument. Each should have a render() method that prints document-specific rendering logic. Write a preview_document(doc) function that accepts any document type and calls its render() method, using duck typing."
   ]
  },
  {
   "cell_type": "code",
   "execution_count": 1,
   "id": "f3d6a856",
   "metadata": {},
   "outputs": [
    {
     "name": "stdout",
     "output_type": "stream",
     "text": [
      "Rendering pdf document\n",
      "Rendering word document\n"
     ]
    }
   ],
   "source": [
    "class pdfdocument:\n",
    "    def render(self):\n",
    "        print(\"Rendering pdf document\")\n",
    "\n",
    "class worddocument:\n",
    "    def render(self):\n",
    "        print(\"Rendering word document\")\n",
    "\n",
    "def prev_doc(doc):\n",
    "    doc.render()\n",
    "\n",
    "documents = [pdfdocument(), worddocument()]\n",
    "\n",
    "for doc in documents:\n",
    "    prev_doc(doc)"
   ]
  },
  {
   "cell_type": "code",
   "execution_count": null,
   "id": "5a2dbb5b",
   "metadata": {},
   "outputs": [],
   "source": []
  }
 ],
 "metadata": {
  "kernelspec": {
   "display_name": "Python 3",
   "language": "python",
   "name": "python3"
  },
  "language_info": {
   "codemirror_mode": {
    "name": "ipython",
    "version": 3
   },
   "file_extension": ".py",
   "mimetype": "text/x-python",
   "name": "python",
   "nbconvert_exporter": "python",
   "pygments_lexer": "ipython3",
   "version": "3.12.1"
  }
 },
 "nbformat": 4,
 "nbformat_minor": 5
}
