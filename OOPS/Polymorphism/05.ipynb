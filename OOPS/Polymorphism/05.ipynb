{
 "cells": [
  {
   "cell_type": "markdown",
   "id": "693c18de",
   "metadata": {},
   "source": [
    "Build a PaymentProcessor context class that can dynamically accept different payment strategy classes like CreditCardPayment, PayPalPayment, and CryptoPayment, each implementing a pay(amount) method. Demonstrate switching strategies at runtime using polymorphism."
   ]
  },
  {
   "cell_type": "code",
   "execution_count": 1,
   "id": "4e1f6680",
   "metadata": {},
   "outputs": [
    {
     "name": "stdout",
     "output_type": "stream",
     "text": [
      "Processing credit card payment of $2500...\n",
      "Processing credit card payment of $1500...\n",
      "Processing credit card payment of $8000...\n"
     ]
    }
   ],
   "source": [
    "class paymentstrategy:\n",
    "    def pay(self, amount):\n",
    "        raise NotImplementedError(\"Subclasses must implement the pay method\")\n",
    "    \n",
    "class creditcardpayment(paymentstrategy):\n",
    "    def pay(self, amount):\n",
    "        print(f\"Processing credit card payment of ${amount}...\")\n",
    "\n",
    "class paypalpayment(paymentstrategy):\n",
    "    def pay(self, amount):\n",
    "        print(f\"Processing credit card payment of ${amount}...\")\n",
    "\n",
    "class cryptopayment(paymentstrategy):\n",
    "    def pay(self, amount):\n",
    "        print(f\"Processing credit card payment of ${amount}...\")\n",
    "\n",
    "class paymentprocessor:\n",
    "    def __init__(self, strategy: paymentstrategy):\n",
    "        self.strategy = strategy\n",
    "\n",
    "    def set_strategy(self, strategy: paymentstrategy):\n",
    "        self.strategy = strategy\n",
    "    \n",
    "    def process_payment(self, amount):\n",
    "        self.strategy.pay(amount)\n",
    "\n",
    "credit_card = creditcardpayment()\n",
    "\n",
    "paypal = paypalpayment()\n",
    "\n",
    "crypto = cryptopayment()\n",
    "\n",
    "processor = paymentprocessor(credit_card)\n",
    "processor.process_payment(2500)\n",
    "\n",
    "processor.set_strategy(paypal)\n",
    "processor.process_payment(1500)\n",
    "\n",
    "processor.set_strategy(crypto)\n",
    "processor.process_payment(8000)"
   ]
  },
  {
   "cell_type": "code",
   "execution_count": null,
   "id": "63480220",
   "metadata": {},
   "outputs": [],
   "source": []
  }
 ],
 "metadata": {
  "kernelspec": {
   "display_name": "Python 3",
   "language": "python",
   "name": "python3"
  },
  "language_info": {
   "codemirror_mode": {
    "name": "ipython",
    "version": 3
   },
   "file_extension": ".py",
   "mimetype": "text/x-python",
   "name": "python",
   "nbconvert_exporter": "python",
   "pygments_lexer": "ipython3",
   "version": "3.12.1"
  }
 },
 "nbformat": 4,
 "nbformat_minor": 5
}
