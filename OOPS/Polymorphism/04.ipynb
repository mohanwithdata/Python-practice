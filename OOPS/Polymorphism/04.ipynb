{
 "cells": [
  {
   "cell_type": "markdown",
   "id": "f9d192ad",
   "metadata": {},
   "source": [
    "Use abc module to define an abstract class DataExporter with an abstract method export(data). Implement CSVExporter, JSONExporter, and XMLExporter classes. Write code to export a dictionary in all three formats using polymorphism."
   ]
  },
  {
   "cell_type": "code",
   "execution_count": 2,
   "id": "2343ab4e",
   "metadata": {},
   "outputs": [
    {
     "name": "stdout",
     "output_type": "stream",
     "text": [
      "CSV Export:\n",
      "name,age,city\n",
      "Alice,30,chennai\n",
      "\n",
      "--------------------------------------------------\n",
      "JSON Export:\n",
      "{\n",
      "    \"name\": \"Alice\",\n",
      "    \"age\": 30,\n",
      "    \"city\": \"chennai\"\n",
      "}\n",
      "--------------------------------------------------\n",
      "XML Export:\n",
      "<data><name>Alice</name><age>30</age><city>chennai</city></data>\n",
      "--------------------------------------------------\n"
     ]
    }
   ],
   "source": [
    "from abc import ABC, abstractmethod\n",
    "import json\n",
    "import csv\n",
    "import xml.etree.ElementTree as ET\n",
    "from io import StringIO\n",
    "\n",
    "class dataexporter(ABC):\n",
    "    @abstractmethod\n",
    "    def export(self, data):\n",
    "        pass\n",
    "\n",
    "class csvexporter(dataexporter):\n",
    "    def export(self, data):\n",
    "        output = StringIO()\n",
    "        writer = csv.DictWriter(output, fieldnames=data.keys())\n",
    "        writer.writeheader()\n",
    "        writer.writerow(data)\n",
    "        print(\"CSV Export:\\n\" + output.getvalue())\n",
    "        output.close()\n",
    "\n",
    "class jsonexporter(dataexporter):\n",
    "    def export(self, data):\n",
    "        json_data = json.dumps(data, indent=4)\n",
    "        print(\"JSON Export:\\n\" + json_data)\n",
    "\n",
    "class xmlexporter(dataexporter):        \n",
    "    def export(self, data):\n",
    "        root = ET.Element(\"data\")\n",
    "        for key, value in data.items():\n",
    "            child = ET.SubElement(root, key)\n",
    "            child.text = str(value)\n",
    "\n",
    "        xml_data = ET.tostring(root, encoding='unicode')\n",
    "        print(\"XML Export:\\n\" + xml_data)\n",
    "\n",
    "data = {\n",
    "    \"name\": \"Alice\",\n",
    "    \"age\": 30,\n",
    "    \"city\": \"chennai\"\n",
    "}\n",
    "\n",
    "exporters = [csvexporter(), jsonexporter(), xmlexporter()]\n",
    "\n",
    "for exporter in exporters:\n",
    "    exporter.export(data)\n",
    "    print(\"-\"*50)\n",
    "\n"
   ]
  }
 ],
 "metadata": {
  "kernelspec": {
   "display_name": "Python 3",
   "language": "python",
   "name": "python3"
  },
  "language_info": {
   "codemirror_mode": {
    "name": "ipython",
    "version": 3
   },
   "file_extension": ".py",
   "mimetype": "text/x-python",
   "name": "python",
   "nbconvert_exporter": "python",
   "pygments_lexer": "ipython3",
   "version": "3.12.1"
  }
 },
 "nbformat": 4,
 "nbformat_minor": 5
}
