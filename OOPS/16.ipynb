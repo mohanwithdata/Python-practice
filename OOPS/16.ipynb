{
 "cells": [
  {
   "cell_type": "code",
   "execution_count": 1,
   "id": "c0b33336",
   "metadata": {},
   "outputs": [
    {
     "name": "stdout",
     "output_type": "stream",
     "text": [
      "Initial Balance:  1000\n",
      "Balance updated to $2000\n",
      "Balance cannot be negative\n"
     ]
    }
   ],
   "source": [
    "class bankaccount:\n",
    "    def __init__(self, owner: str, balance: float = 0.0):\n",
    "        self.owner = owner\n",
    "        self.__balance = balance\n",
    "    \n",
    "    @property\n",
    "    def balance(self) -> float:\n",
    "        \"\"\"Getter for balance\"\"\"\n",
    "        return self.__balance\n",
    "    \n",
    "    @balance.setter\n",
    "    def balance(self, amount: float) -> None:\n",
    "        \"\"\"setter for balance\"\"\"\n",
    "        if amount < 0:\n",
    "            print(\"Balance cannot be negative\")\n",
    "        else:\n",
    "            self.__balance = amount\n",
    "            print(f\"Balance updated to ${amount}\")\n",
    "\n",
    "# Create account\n",
    "account = bankaccount(\"Mohan\", 1000)\n",
    "\n",
    "# Access balance using getter\n",
    "print(\"Initial Balance: \", account.balance)\n",
    "\n",
    "# Modify balance using setter\n",
    "account.balance = 2000\n",
    "\n",
    "# Try setting a negative balance \n",
    "account.balance = -500"
   ]
  }
 ],
 "metadata": {
  "kernelspec": {
   "display_name": "Python 3",
   "language": "python",
   "name": "python3"
  },
  "language_info": {
   "codemirror_mode": {
    "name": "ipython",
    "version": 3
   },
   "file_extension": ".py",
   "mimetype": "text/x-python",
   "name": "python",
   "nbconvert_exporter": "python",
   "pygments_lexer": "ipython3",
   "version": "3.12.1"
  }
 },
 "nbformat": 4,
 "nbformat_minor": 5
}
