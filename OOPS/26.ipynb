{
 "cells": [
  {
   "cell_type": "code",
   "execution_count": 3,
   "id": "80dc2b98",
   "metadata": {},
   "outputs": [
    {
     "name": "stdout",
     "output_type": "stream",
     "text": [
      "'1984' by George Orwell, 328 pages\n",
      "'To Kill a Mockingbird' by Harper Lee, 281 pages\n"
     ]
    }
   ],
   "source": [
    "class book:\n",
    "    def __init__(self, title, author, pages):\n",
    "        self.title = title\n",
    "        self.author = author\n",
    "        self.pages = pages\n",
    "    \n",
    "    @classmethod\n",
    "    def from_string(cls, book_str):\n",
    "        title, author, pages = book_str.split(\"-\")\n",
    "        return cls(title, author, int(pages))\n",
    "    \n",
    "    def display(self):\n",
    "        print(f\"'{self.title}' by {self.author}, {self.pages} pages\")\n",
    "\n",
    "\n",
    "book1 = book(\"1984\", \"George Orwell\", 328)\n",
    "book1.display()\n",
    "\n",
    "book_str = \"To Kill a Mockingbird-Harper Lee-281\"\n",
    "\n",
    "book2 = book.from_string(book_str)\n",
    "\n",
    "book2.display()"
   ]
  },
  {
   "cell_type": "code",
   "execution_count": null,
   "id": "f17c8a5d",
   "metadata": {},
   "outputs": [],
   "source": []
  }
 ],
 "metadata": {
  "kernelspec": {
   "display_name": "Python 3",
   "language": "python",
   "name": "python3"
  },
  "language_info": {
   "codemirror_mode": {
    "name": "ipython",
    "version": 3
   },
   "file_extension": ".py",
   "mimetype": "text/x-python",
   "name": "python",
   "nbconvert_exporter": "python",
   "pygments_lexer": "ipython3",
   "version": "3.12.1"
  }
 },
 "nbformat": 4,
 "nbformat_minor": 5
}
