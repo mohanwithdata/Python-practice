{
 "cells": [
  {
   "cell_type": "code",
   "execution_count": 1,
   "id": "743ee9bb",
   "metadata": {},
   "outputs": [
    {
     "name": "stdout",
     "output_type": "stream",
     "text": [
      "Radius: 5\n",
      "Area: 78.54\n",
      "Updated Radius: 10\n",
      "Updated Area: 314.16\n"
     ]
    }
   ],
   "source": [
    "# Create a Circle class with a private radius and a @property to return the area.\n",
    "\n",
    "import math\n",
    "\n",
    "class circle:\n",
    "    def __init__(self, radius):\n",
    "        self._radius = radius\n",
    "\n",
    "    @property\n",
    "    def radius(self):\n",
    "        return self._radius\n",
    "    \n",
    "    @radius.setter\n",
    "    def radius(self, value):\n",
    "        if value < 0:\n",
    "            raise ValueError(\"Radius cannot be negative.\")\n",
    "        self._radius = value\n",
    "\n",
    "    @property\n",
    "    def area(self):\n",
    "        return math.pi * self._radius ** 2\n",
    "    \n",
    "\n",
    "c = circle(5)\n",
    "\n",
    "print(f\"Radius: {c.radius}\")\n",
    "print(f\"Area: {c.area:.2f}\")\n",
    "\n",
    "c.radius = 10\n",
    "print(f\"Updated Radius: {c.radius}\")\n",
    "\n",
    "print(f\"Updated Area: {c.area:.2f}\")"
   ]
  },
  {
   "cell_type": "code",
   "execution_count": 2,
   "id": "0c646c7b",
   "metadata": {},
   "outputs": [
    {
     "name": "stdout",
     "output_type": "stream",
     "text": [
      "Celcius: 25\n",
      "Fahrenheit: 77.0\n",
      "\n",
      "Updated Celsius: 100\n",
      "Updated Fahrenheit: 212.0\n"
     ]
    }
   ],
   "source": [
    "# Make a Temperature class with a Celsius property and a Fahrenheit getter.\n",
    "\n",
    "class Temperature:\n",
    "    def __init__(self, celsius):\n",
    "        self._celsius = celsius\n",
    "\n",
    "    @property\n",
    "    def celsius(self):\n",
    "        return self._celsius\n",
    "    \n",
    "    @celsius.setter\n",
    "    def celsius(self, value):\n",
    "        self._celsius = value\n",
    "\n",
    "    @property\n",
    "    def fahrenheit(self):\n",
    "        return (self._celsius * 9/5) + 32\n",
    "    \n",
    "\n",
    "temp = Temperature(25)\n",
    "\n",
    "print(f\"Celcius: {temp.celsius}\")\n",
    "print(f\"Fahrenheit: {temp.fahrenheit}\")\n",
    "\n",
    "temp.celsius = 100\n",
    "print(f\"\\nUpdated Celsius: {temp.celsius}\")\n",
    "print(f\"Updated Fahrenheit: {temp.fahrenheit}\")\n"
   ]
  },
  {
   "cell_type": "code",
   "execution_count": 3,
   "id": "5ac4ebb6",
   "metadata": {},
   "outputs": [
    {
     "name": "stdout",
     "output_type": "stream",
     "text": [
      "Age: 30\n",
      "Updated Age: 45\n",
      "Error: Age cannot be negative.\n"
     ]
    }
   ],
   "source": [
    "# Write a Person class that hides _age and exposes it through a property with validation (e.g., age can’t be negative).\n",
    "\n",
    "class person:\n",
    "    def __init__(self, age):\n",
    "        self.age = age\n",
    "    \n",
    "    @property\n",
    "    def age(self):\n",
    "        return self._age\n",
    "    \n",
    "    @age.setter\n",
    "    def age(self, value):\n",
    "        if value < 0:\n",
    "            raise ValueError(\"Age cannot be negative.\")\n",
    "        self._age = value\n",
    "\n",
    "p = person(30)\n",
    "\n",
    "print(f\"Age: {p.age}\")\n",
    "\n",
    "p.age = 45\n",
    "\n",
    "print(f\"Updated Age: {p.age}\")\n",
    "\n",
    "try:\n",
    "    p.age = -5\n",
    "except ValueError as e:\n",
    "    print(f\"Error: {e}\")"
   ]
  },
  {
   "cell_type": "code",
   "execution_count": 4,
   "id": "a8b8a89a",
   "metadata": {},
   "outputs": [
    {
     "name": "stdout",
     "output_type": "stream",
     "text": [
      "Length: 10\n",
      "Width: 5\n",
      "Area: 50\n",
      "\n",
      "Updated Length: 20\n",
      "Updated Width: 8\n",
      "Updated Area: 160\n"
     ]
    }
   ],
   "source": [
    "# Create a Rectangle class with length and width as private attributes and expose area as a read-only property.\n",
    "\n",
    "class rectangle:\n",
    "    def __init__(self, length, width):\n",
    "        self._length = length\n",
    "        self._width = width\n",
    "\n",
    "    @property\n",
    "    def length(self):\n",
    "        return self._length\n",
    "    \n",
    "    @length.setter\n",
    "    def length(self, value):\n",
    "        if value <= 0:\n",
    "            raise ValueError(\"Length must be positive.\")\n",
    "        self._length = value\n",
    "        \n",
    "    @property\n",
    "    def width(self):\n",
    "        return self._width\n",
    "    \n",
    "    @width.setter\n",
    "    def width(self, value):\n",
    "        if value <= 0:\n",
    "            raise ValueError(\"Width must be positive.\")\n",
    "        self._width = value\n",
    "\n",
    "    @property\n",
    "    def area(self):\n",
    "        return self._length * self._width\n",
    "    \n",
    "r = rectangle(10, 5)\n",
    "\n",
    "print(f\"Length: {r.length}\")\n",
    "print(f\"Width: {r.width}\")\n",
    "print(f\"Area: {r.area}\")\n",
    "\n",
    "r.length = 20\n",
    "r.width = 8\n",
    "\n",
    "print(f\"\\nUpdated Length: {r.length}\")\n",
    "print(f\"Updated Width: {r.width}\")\n",
    "print(f\"Updated Area: {r.area}\")\n"
   ]
  },
  {
   "cell_type": "code",
   "execution_count": 5,
   "id": "1cc51b80",
   "metadata": {},
   "outputs": [
    {
     "name": "stdout",
     "output_type": "stream",
     "text": [
      "Radius: 3\n",
      "Area: 28.27\n",
      "\n",
      "Updated Radius: 10\n",
      "Updated Area: 314.159265\n",
      "\n",
      "Error: Radius must be positive.\n"
     ]
    }
   ],
   "source": [
    "# Add a setter to Circle to update radius only if it's positive.\n",
    "\n",
    "class circle:\n",
    "    def __init__(self, radius):\n",
    "        self.radius = radius\n",
    "\n",
    "    @property\n",
    "    def radius(self):\n",
    "        return self._radius\n",
    "    \n",
    "    @radius.setter\n",
    "    def radius(self, value):\n",
    "        if value <= 0:\n",
    "            raise ValueError(\"Radius must be positive.\")\n",
    "        self._radius = value\n",
    "\n",
    "    @property\n",
    "    def area(self):\n",
    "        return math.pi * self._radius ** 2\n",
    "    \n",
    "c = circle(3)\n",
    "\n",
    "print(f\"Radius: {c.radius}\")\n",
    "print(f\"Area: {c.area:.2f}\")\n",
    "\n",
    "c.radius = 10\n",
    "\n",
    "print(f\"\\nUpdated Radius: {c.radius}\")\n",
    "print(f\"Updated Area: {c.area:2f}\")\n",
    "\n",
    "try:\n",
    "    c.radius = -4\n",
    "except ValueError as e:\n",
    "    print(f\"\\nError: {e}\")\n"
   ]
  },
  {
   "cell_type": "code",
   "execution_count": 6,
   "id": "12c51d00",
   "metadata": {},
   "outputs": [
    {
     "name": "stdout",
     "output_type": "stream",
     "text": [
      "Updated Title: Advanced Python\n",
      "\n",
      "Error: Cannot delete the book title.\n"
     ]
    }
   ],
   "source": [
    "# Build a Book class where the title is a property that can't be deleted once set.\n",
    "\n",
    "class book:\n",
    "    def __init__(self, title):\n",
    "        self._title = title\n",
    "\n",
    "    @property\n",
    "    def title(self):\n",
    "        return self._title\n",
    "    \n",
    "    @title.setter\n",
    "    def title(self, value):\n",
    "        if not value:\n",
    "            raise ValueError(\"Title Cannot be empty.\")\n",
    "        self._title = value\n",
    "\n",
    "    @title.deleter\n",
    "    def title(self):\n",
    "        raise AttributeError(\"Cannot delete the book title.\")\n",
    "    \n",
    "b = book(\"Python in Depth\")\n",
    "\n",
    "b.title = \"Advanced Python\"\n",
    "\n",
    "print(f\"Updated Title: {b.title}\")\n",
    "\n",
    "try:\n",
    "    del b.title\n",
    "except AttributeError as e:\n",
    "    print(f\"\\nError: {e}\")"
   ]
  },
  {
   "cell_type": "code",
   "execution_count": 8,
   "id": "b738de3b",
   "metadata": {},
   "outputs": [
    {
     "name": "stdout",
     "output_type": "stream",
     "text": [
      "Title: The python way\n",
      "Error: Title has already been set and cannot be changed.\n",
      "Error: Title cannot be deleted.\n"
     ]
    }
   ],
   "source": [
    "# Build a Book class where the title is a property that can't be deleted once set.\n",
    "\n",
    "class book:\n",
    "    def __init__(self, title):\n",
    "        self._title = None\n",
    "        self.title = title\n",
    "\n",
    "    @property\n",
    "    def title(self):\n",
    "        return self._title\n",
    "    \n",
    "    @title.setter\n",
    "    def title(self, value):\n",
    "        if self._title is not None:\n",
    "            raise AttributeError(\"Title has already been set and cannot be changed.\")\n",
    "        if not value:\n",
    "            raise ValueError(\"Title cannot be empty.\")\n",
    "        self._title = value\n",
    "\n",
    "    @title.deleter\n",
    "    def title(self):\n",
    "        raise AttributeError(\"Title cannot be deleted.\")\n",
    "    \n",
    "book1 = book(\"The python way\")\n",
    "print(f\"Title: {book1.title}\")\n",
    "\n",
    "try:\n",
    "    book1.title = \"Another Title\"\n",
    "except AttributeError as e:\n",
    "    print(f\"Error: {e}\")\n",
    "\n",
    "try:\n",
    "    del book1.title\n",
    "except AttributeError as e:\n",
    "    print(f\"Error: {e}\")\n",
    "\n"
   ]
  },
  {
   "cell_type": "code",
   "execution_count": 11,
   "id": "e293fb6d",
   "metadata": {},
   "outputs": [
    {
     "name": "stdout",
     "output_type": "stream",
     "text": [
      "Initial Bank balance: $1000\n",
      "After Deposit: $1500\n",
      "After withdraw: $1200\n",
      "Error: can't set attribute 'balance'\n"
     ]
    }
   ],
   "source": [
    "# Make a BankAccount class with a balance property that is read-only (getter only).\n",
    "\n",
    "class bankaccount:\n",
    "    def __init__(self, initial_balance=0):\n",
    "        if initial_balance < 0:\n",
    "            raise ValueError(\"Initial balance cannot be negative.\")\n",
    "        self._balance = initial_balance\n",
    "\n",
    "    @property\n",
    "    def balance(self):\n",
    "        return self._balance\n",
    "    \n",
    "    def deposit(self, amount):\n",
    "        if amount <= 0:\n",
    "            raise ValueError(\"Deposit amount must be positive.\")\n",
    "        self._balance += amount\n",
    "    \n",
    "    def withdraw(self, amount):\n",
    "        if amount <= 0:\n",
    "            raise ValueError(\"Withdrawal amount must be positive.\")\n",
    "        if amount > self._balance:\n",
    "            raise ValueError(\"Insufficient funds.\")\n",
    "        self._balance -= amount\n",
    "\n",
    "account = bankaccount(1000)\n",
    "\n",
    "print(f\"Initial Bank balance: ${account.balance}\")\n",
    "\n",
    "account.deposit(500)\n",
    "print(f\"After Deposit: ${account.balance}\")\n",
    "\n",
    "account.withdraw(300)\n",
    "\n",
    "print(f\"After withdraw: ${account.balance}\")\n",
    "\n",
    "try:\n",
    "    account.balance = 100000\n",
    "except AttributeError as e:\n",
    "    print(f\"Error: {e}\")\n"
   ]
  },
  {
   "cell_type": "code",
   "execution_count": 12,
   "id": "17a97a6e",
   "metadata": {},
   "outputs": [
    {
     "name": "stdout",
     "output_type": "stream",
     "text": [
      "First Name: John\n",
      "Last Name: Doe\n",
      "Full Name: John Doe\n",
      "\n",
      "Updated First Name: Alice\n",
      "Last Name: Wonderland\n",
      "Full Name: Alice Wonderland\n"
     ]
    }
   ],
   "source": [
    "# Create a Student class where full_name is a property built from first_name and last_name. Allow setting full_name to update both.\n",
    "\n",
    "class student:\n",
    "    def __init__(self, first_name, last_name):\n",
    "        self.first_name = first_name\n",
    "        self.last_name = last_name\n",
    "\n",
    "    @property\n",
    "    def full_name(self):\n",
    "        return f\"{self.first_name} {self.last_name}\"\n",
    "    \n",
    "    @full_name.setter\n",
    "    def full_name(self, name):\n",
    "        parts = name.strip().split()\n",
    "        if len(parts) < 2:\n",
    "            raise ValueError(\"Full name must include at least first and last names.\")\n",
    "        self.first_name = parts[0]\n",
    "        self.last_name = \" \".join(parts[1:])\n",
    "\n",
    "student = student(\"John\", \"Doe\")\n",
    "\n",
    "print(f\"First Name: {student.first_name}\")\n",
    "print(f\"Last Name: {student.last_name}\")\n",
    "print(f\"Full Name: {student.full_name}\")\n",
    "\n",
    "\n",
    "student.full_name = \"Alice Wonderland\"\n",
    "\n",
    "print(f\"\\nUpdated First Name: {student.first_name}\")\n",
    "print(f\"Last Name: {student.last_name}\")\n",
    "print(f\"Full Name: {student.full_name}\")"
   ]
  },
  {
   "cell_type": "code",
   "execution_count": 18,
   "id": "565b1c76",
   "metadata": {},
   "outputs": [
    {
     "name": "stdout",
     "output_type": "stream",
     "text": [
      "Password: Access Denied\n",
      "Correct Password? True\n",
      "Wrong Password? False\n"
     ]
    }
   ],
   "source": [
    "# Implement a PasswordManager where the password setter hashes the password and stores it. Getter returns “Access Denied”.\n",
    "\n",
    "import hashlib\n",
    "\n",
    "class passwordmanager:\n",
    "    def __init__(self, password):\n",
    "        self._hashed_password = None\n",
    "        self.password = password\n",
    "\n",
    "    @property\n",
    "    def password(self):\n",
    "        return \"Access Denied\"\n",
    "    \n",
    "    @password.setter\n",
    "    def password(self, plain_text):\n",
    "        if not plain_text:\n",
    "            raise ValueError(\"Password cannot be empty\")\n",
    "        self._hashed_password = self._hash_password(plain_text)\n",
    "\n",
    "    def _hash_password(self, text):\n",
    "        return hashlib.sha256(text.encode()).hexdigest()\n",
    "    \n",
    "    def verify(self, attempt):\n",
    "        return self._hash_password(attempt) == self._hashed_password\n",
    "    \n",
    "manager = passwordmanager(\"superSecret123\")\n",
    "\n",
    "print(f\"Password: {manager.password}\")\n",
    "print(\"Correct Password?\", manager.verify(\"superSecret123\"))\n",
    "print(\"Wrong Password?\", manager.verify(\"wrongPass\"))"
   ]
  },
  {
   "cell_type": "code",
   "execution_count": 20,
   "id": "2bb93469",
   "metadata": {},
   "outputs": [
    {
     "name": "stdout",
     "output_type": "stream",
     "text": [
      "filename: document.pdf\n",
      "Extension: pdf\n",
      "\n",
      "Rename filename: report.docx\n",
      "New Extension: docx\n"
     ]
    }
   ],
   "source": [
    "# Make a File class with a property extension that returns file extension and supports renaming.\n",
    "\n",
    "class file:\n",
    "    def __init__(self, filename):\n",
    "        if '.' not in filename:\n",
    "            raise ValueError(\"filename must contain an extension.\")\n",
    "        self._filename = filename\n",
    "\n",
    "    @property\n",
    "    def filename(self):\n",
    "        return self._filename\n",
    "    \n",
    "    @property\n",
    "    def extension(self):\n",
    "        return self._filename.rsplit('.', 1)[-1]\n",
    "    \n",
    "    def rename(self, new_name):\n",
    "        if '.' not in new_name:\n",
    "            raise ValueError(\"new filename must included an extension.\")\n",
    "        self._filename = new_name\n",
    "\n",
    "f = file(\"document.pdf\")\n",
    "\n",
    "print(f\"filename: {f.filename}\")\n",
    "print(f\"Extension: {f.extension}\")\n",
    "\n",
    "f.rename(\"report.docx\")\n",
    "\n",
    "print(f\"\\nRename filename: {f.filename}\")\n",
    "print(f\"New Extension: {f.extension}\")"
   ]
  },
  {
   "cell_type": "code",
   "execution_count": null,
   "id": "3d8d3efc",
   "metadata": {},
   "outputs": [],
   "source": [
    "import math\n",
    "\n",
    "class vector:\n",
    "    def __init__(self, x=0, y=0):\n",
    "        self._x = x"
   ]
  }
 ],
 "metadata": {
  "kernelspec": {
   "display_name": "churn-env",
   "language": "python",
   "name": "python3"
  },
  "language_info": {
   "codemirror_mode": {
    "name": "ipython",
    "version": 3
   },
   "file_extension": ".py",
   "mimetype": "text/x-python",
   "name": "python",
   "nbconvert_exporter": "python",
   "pygments_lexer": "ipython3",
   "version": "3.10.18"
  }
 },
 "nbformat": 4,
 "nbformat_minor": 5
}
