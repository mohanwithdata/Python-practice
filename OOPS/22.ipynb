{
 "cells": [
  {
   "cell_type": "code",
   "execution_count": 3,
   "id": "b1a1a90a",
   "metadata": {},
   "outputs": [
    {
     "name": "stdout",
     "output_type": "stream",
     "text": [
      "[Log]: Performing admin task...\n",
      "[Log]: Authentication sucessful.\n"
     ]
    }
   ],
   "source": [
    "class logger:\n",
    "    def log(self, message):\n",
    "        print(f\"[Log]: {message}\")\n",
    "\n",
    "class authenticator:\n",
    "    def authenticate(self, user, password):\n",
    "        return user == \"admin\" and password == \"1234\"\n",
    "    \n",
    "class admintool(logger, authenticator):\n",
    "    def task(self):\n",
    "        self.log(\"Performing admin task...\")\n",
    "\n",
    "tool = admintool()\n",
    "\n",
    "tool.task()\n",
    "\n",
    "if tool.authenticate(\"admin\", \"1234\"):\n",
    "    tool.log(\"Authentication sucessful.\")\n",
    "else:\n",
    "    tool.log(\"Authentication failed.\")\n"
   ]
  },
  {
   "cell_type": "code",
   "execution_count": null,
   "id": "084c7cc0",
   "metadata": {},
   "outputs": [],
   "source": []
  }
 ],
 "metadata": {
  "kernelspec": {
   "display_name": "Python 3",
   "language": "python",
   "name": "python3"
  },
  "language_info": {
   "codemirror_mode": {
    "name": "ipython",
    "version": 3
   },
   "file_extension": ".py",
   "mimetype": "text/x-python",
   "name": "python",
   "nbconvert_exporter": "python",
   "pygments_lexer": "ipython3",
   "version": "3.12.1"
  }
 },
 "nbformat": 4,
 "nbformat_minor": 5
}
