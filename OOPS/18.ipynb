{
 "cells": [
  {
   "cell_type": "code",
   "execution_count": 1,
   "id": "4100e4e6",
   "metadata": {},
   "outputs": [
    {
     "name": "stdout",
     "output_type": "stream",
     "text": [
      "Name    : Mohan\n",
      "Role    : ML Engineer\n",
      "Company : TechNova Pvt Ltd\n",
      "------------------------------\n",
      "Name    : Balor\n",
      "Role    : GenAI Dev\n",
      "Company : TechNova Pvt Ltd\n"
     ]
    }
   ],
   "source": [
    "class employee:\n",
    "    company_name = \"TechNova Pvt Ltd\"\n",
    "\n",
    "    def __init__(self, name: str, position: str):\n",
    "        self.name = name\n",
    "        self.position = position\n",
    "\n",
    "    def info(self):\n",
    "        print(f\"Name    : {self.name}\")\n",
    "        print(f\"Role    : {self.position}\")\n",
    "        print(f\"Company : {employee.company_name}\")\n",
    "\n",
    "    @classmethod\n",
    "    def change_company_name(cls, new_name: str):\n",
    "        cls.company_name = new_name\n",
    "        print(f\"Company name updated to : {cls.company_name}\")\n",
    "\n",
    "\n",
    "emp1 = employee(\"Mohan\", \"ML Engineer\")\n",
    "\n",
    "emp2 = employee(\"Balor\", \"GenAI Dev\")\n",
    "\n",
    "emp1.info()\n",
    "\n",
    "print(\"-\"*30)\n",
    "\n",
    "emp2.info()"
   ]
  },
  {
   "cell_type": "code",
   "execution_count": 2,
   "id": "ad61d052",
   "metadata": {},
   "outputs": [
    {
     "name": "stdout",
     "output_type": "stream",
     "text": [
      "Company name updated to : AIWorks Inc\n"
     ]
    }
   ],
   "source": [
    "\n",
    "employee.change_company_name(\"AIWorks Inc\")"
   ]
  },
  {
   "cell_type": "code",
   "execution_count": 3,
   "id": "24655a3c",
   "metadata": {},
   "outputs": [
    {
     "name": "stdout",
     "output_type": "stream",
     "text": [
      "\n",
      "After Company Name Change: \n",
      "\n",
      "Name    : Mohan\n",
      "Role    : ML Engineer\n",
      "Company : AIWorks Inc\n",
      "------------------------------\n",
      "Name    : Balor\n",
      "Role    : GenAI Dev\n",
      "Company : AIWorks Inc\n"
     ]
    }
   ],
   "source": [
    "print(\"\\nAfter Company Name Change: \\n\")\n",
    "\n",
    "\n",
    "emp1.info()\n",
    "\n",
    "print(\"-\"*30)\n",
    "\n",
    "emp2.info()"
   ]
  }
 ],
 "metadata": {
  "kernelspec": {
   "display_name": "Python 3",
   "language": "python",
   "name": "python3"
  },
  "language_info": {
   "codemirror_mode": {
    "name": "ipython",
    "version": 3
   },
   "file_extension": ".py",
   "mimetype": "text/x-python",
   "name": "python",
   "nbconvert_exporter": "python",
   "pygments_lexer": "ipython3",
   "version": "3.12.1"
  }
 },
 "nbformat": 4,
 "nbformat_minor": 5
}
