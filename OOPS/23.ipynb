{
 "cells": [
  {
   "cell_type": "code",
   "execution_count": 2,
   "id": "0d25b8ec",
   "metadata": {},
   "outputs": [
    {
     "name": "stdout",
     "output_type": "stream",
     "text": [
      "Grandparent constructor called\n",
      "Parent contsructor called\n",
      "Child constructor called\n",
      "Grandparent's legacy method\n",
      "Parent's guidance method\n",
      "Child is learning...\n"
     ]
    }
   ],
   "source": [
    "class grandparent:\n",
    "    def __init__(self):\n",
    "        print(\"Grandparent constructor called\")\n",
    "    \n",
    "    def legacy(self):\n",
    "        print(\"Grandparent's legacy method\")\n",
    "    \n",
    "class parent(grandparent):\n",
    "    def __init__(self):\n",
    "        super().__init__()\n",
    "        print(\"Parent contsructor called\")\n",
    "\n",
    "    def guidance(self):\n",
    "        print(\"Parent's guidance method\")\n",
    "\n",
    "class child(parent):\n",
    "    def __init__(self):\n",
    "        super().__init__()\n",
    "        print(\"Child constructor called\")\n",
    "\n",
    "    def learn(self):\n",
    "        print(\"Child is learning...\")\n",
    "\n",
    "c = child()\n",
    "\n",
    "c.legacy()\n",
    "c.guidance()\n",
    "c.learn()"
   ]
  },
  {
   "cell_type": "code",
   "execution_count": null,
   "id": "fff6cd85",
   "metadata": {},
   "outputs": [],
   "source": []
  }
 ],
 "metadata": {
  "kernelspec": {
   "display_name": "Python 3",
   "language": "python",
   "name": "python3"
  },
  "language_info": {
   "codemirror_mode": {
    "name": "ipython",
    "version": 3
   },
   "file_extension": ".py",
   "mimetype": "text/x-python",
   "name": "python",
   "nbconvert_exporter": "python",
   "pygments_lexer": "ipython3",
   "version": "3.12.1"
  }
 },
 "nbformat": 4,
 "nbformat_minor": 5
}
