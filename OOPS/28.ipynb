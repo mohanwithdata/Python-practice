{
 "cells": [
  {
   "cell_type": "code",
   "execution_count": 1,
   "id": "12671ce0",
   "metadata": {},
   "outputs": [
    {
     "name": "stdout",
     "output_type": "stream",
     "text": [
      "Playlist: chill vibes with len(self.songs)\n",
      "Playlist(name='chill vibes', songs=['Ocean eyes', 'Sunsetlover'])\n",
      "total songs 2\n"
     ]
    }
   ],
   "source": [
    "class playlist:\n",
    "    def __init__(self, name, songs):\n",
    "        self.name = name\n",
    "        self.songs = songs\n",
    "\n",
    "    def __str__(self):\n",
    "        return f\"Playlist: {self.name} with len(self.songs)\"\n",
    "    \n",
    "    def __repr__(self):\n",
    "        return f\"Playlist(name='{self.name}', songs={self.songs})\"\n",
    "    \n",
    "    def __len__(self):\n",
    "        return len(self.songs)\n",
    "    \n",
    "myplaylist = playlist(\"chill vibes\", [\"Ocean eyes\", \"Sunsetlover\"])\n",
    "\n",
    "print(str(myplaylist))\n",
    "print(repr(myplaylist))\n",
    "print(\"total songs\", len(myplaylist))"
   ]
  },
  {
   "cell_type": "code",
   "execution_count": null,
   "id": "a4f4be55",
   "metadata": {},
   "outputs": [],
   "source": []
  }
 ],
 "metadata": {
  "kernelspec": {
   "display_name": "Python 3",
   "language": "python",
   "name": "python3"
  },
  "language_info": {
   "codemirror_mode": {
    "name": "ipython",
    "version": 3
   },
   "file_extension": ".py",
   "mimetype": "text/x-python",
   "name": "python",
   "nbconvert_exporter": "python",
   "pygments_lexer": "ipython3",
   "version": "3.12.1"
  }
 },
 "nbformat": 4,
 "nbformat_minor": 5
}
