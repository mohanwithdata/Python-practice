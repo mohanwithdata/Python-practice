{
 "cells": [
  {
   "cell_type": "code",
   "execution_count": 1,
   "id": "bd29e0d1",
   "metadata": {},
   "outputs": [
    {
     "name": "stdout",
     "output_type": "stream",
     "text": [
      "buddy says woof\n",
      "sunny says meow\n",
      "creatures makes a sound.\n"
     ]
    }
   ],
   "source": [
    "class animal:\n",
    "    def __init__(self, name):\n",
    "        self.name = name\n",
    "\n",
    "    def speak(self):\n",
    "        return f\"{self.name} makes a sound.\"\n",
    "    \n",
    "class dog(animal):\n",
    "    def speak(self):\n",
    "        return f\"{self.name} says woof\"\n",
    "    \n",
    "class cat(animal):\n",
    "    def speak(self):\n",
    "        return f\"{self.name} says meow\"\n",
    "    \n",
    "dog1 = dog(\"buddy\")\n",
    "\n",
    "cat1 = cat(\"sunny\")\n",
    "\n",
    "animal0 = animal(\"creatures\")\n",
    "\n",
    "print(dog1.speak())\n",
    "print(cat1.speak())\n",
    "print(animal0.speak())"
   ]
  },
  {
   "cell_type": "code",
   "execution_count": null,
   "id": "315a94fd",
   "metadata": {},
   "outputs": [],
   "source": []
  }
 ],
 "metadata": {
  "kernelspec": {
   "display_name": "Python 3",
   "language": "python",
   "name": "python3"
  },
  "language_info": {
   "codemirror_mode": {
    "name": "ipython",
    "version": 3
   },
   "file_extension": ".py",
   "mimetype": "text/x-python",
   "name": "python",
   "nbconvert_exporter": "python",
   "pygments_lexer": "ipython3",
   "version": "3.12.1"
  }
 },
 "nbformat": 4,
 "nbformat_minor": 5
}
