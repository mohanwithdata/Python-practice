{
 "cells": [
  {
   "cell_type": "markdown",
   "id": "e59d2ced",
   "metadata": {},
   "source": [
    "Implement a Task and Project structure (like a To-Do app)"
   ]
  },
  {
   "cell_type": "code",
   "execution_count": 5,
   "id": "d688229a",
   "metadata": {},
   "outputs": [
    {
     "name": "stdout",
     "output_type": "stream",
     "text": [
      "\n",
      " Project: Prodocutivity\n",
      "1. No Write report: Finish project report by Monday\n",
      "2. No Workout: Gym at 6 PM\n",
      "3. No Call Mom: Weekly check-in\n",
      "\n",
      " Project: Prodocutivity\n",
      "1. No Write report: Finish project report by Monday\n",
      "2. Yes Workout: Gym at 6 PM\n",
      "3. No Call Mom: Weekly check-in\n",
      "\n",
      " Project: Prodocutivity\n",
      "1. No Write report: Finish project report by Monday\n",
      "3. No Call Mom: Weekly check-in\n"
     ]
    }
   ],
   "source": [
    "class Task:\n",
    "    def __init__(self, title: str, description: str = \"\"):\n",
    "        self.title = title\n",
    "        self.description = description\n",
    "        self.completed = False\n",
    "\n",
    "    def markcompleted(self):\n",
    "        self.completed = True\n",
    "\n",
    "    def __str__(self):\n",
    "        status = \"Yes\" if self.completed else \"No\"\n",
    "        return f\"{status} {self.title}: {self.description}\"\n",
    "    \n",
    "class Project:\n",
    "    def __init__(self, name: str):\n",
    "        self.name = name\n",
    "        self.tasks = []\n",
    "\n",
    "    def add_task(self, task: Task):\n",
    "        self.tasks.append(task)\n",
    "\n",
    "    def list_tasks(self, only_pending=False):\n",
    "        print(f\"\\n Project: {self.name}\")\n",
    "\n",
    "        if not self.tasks:\n",
    "            print(\" No tasks found.\")\n",
    "\n",
    "            return\n",
    "        \n",
    "        for idx, task in enumerate(self.tasks, 1):\n",
    "            if only_pending and task.completed:\n",
    "                continue\n",
    "            print(f\"{idx}. {task}\")\n",
    "\n",
    "    def mark_task_done(self, task_index: int):\n",
    "        if 0 <= task_index < len(self.tasks):\n",
    "            self.tasks[task_index].markcompleted()\n",
    "        else:\n",
    "            print(\"Invalid task index.\")\n",
    "\n",
    "\n",
    "project =  Project(\"Prodocutivity\")\n",
    "project.add_task(Task(\"Write report\", \"Finish project report by Monday\"))\n",
    "project.add_task(Task(\"Workout\", \"Gym at 6 PM\"))\n",
    "project.add_task(Task(\"Call Mom\", \"Weekly check-in\"))\n",
    "\n",
    "\n",
    "project.list_tasks()\n",
    "\n",
    "project.mark_task_done(1)\n",
    "\n",
    "project.list_tasks()\n",
    "\n",
    "\n",
    "project.list_tasks(only_pending=True)\n",
    "\n"
   ]
  },
  {
   "cell_type": "code",
   "execution_count": null,
   "id": "ae8812c5",
   "metadata": {},
   "outputs": [],
   "source": []
  }
 ],
 "metadata": {
  "kernelspec": {
   "display_name": "Python 3",
   "language": "python",
   "name": "python3"
  },
  "language_info": {
   "codemirror_mode": {
    "name": "ipython",
    "version": 3
   },
   "file_extension": ".py",
   "mimetype": "text/x-python",
   "name": "python",
   "nbconvert_exporter": "python",
   "pygments_lexer": "ipython3",
   "version": "3.12.1"
  }
 },
 "nbformat": 4,
 "nbformat_minor": 5
}
