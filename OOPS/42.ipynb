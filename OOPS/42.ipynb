{
 "cells": [
  {
   "cell_type": "markdown",
   "id": "24c24733",
   "metadata": {},
   "source": [
    "Create a plugin system using duck typing (different behaviors but same method names)."
   ]
  },
  {
   "cell_type": "code",
   "execution_count": 2,
   "id": "6a1795b3",
   "metadata": {},
   "outputs": [
    {
     "name": "stdout",
     "output_type": "stream",
     "text": [
      "Running all plugins: \n",
      "Spellcheckerplugin: checking spelling in documents\n",
      "grammercheckerplugin: Analyzing grammer rules...\n",
      "Autosaveplugin: saving document to disk...\n"
     ]
    }
   ],
   "source": [
    "class pluginmanager:\n",
    "    def __init__(self):\n",
    "        self.plugins = []\n",
    "\n",
    "    def register_plugin(self, plugin):\n",
    "        if hasattr(plugin, 'run') and callable(plugin.run):\n",
    "            self.plugins.append(plugin)\n",
    "        else:\n",
    "            raise TypeError(\"Plugin must have a callable 'run' method\")\n",
    "        \n",
    "    def run_all(self):\n",
    "        print(\"Running all plugins: \")\n",
    "        for plugin in self.plugins:\n",
    "            plugin.run()\n",
    "\n",
    "class spellcheckerplugin:\n",
    "    def run(self):\n",
    "        print(\"Spellcheckerplugin: checking spelling in documents\")\n",
    "\n",
    "class grammercheckerplugin:\n",
    "    def run(self):\n",
    "        print(\"grammercheckerplugin: Analyzing grammer rules...\")\n",
    "\n",
    "class autosaveplugin:\n",
    "    def run(self):\n",
    "        print(\"Autosaveplugin: saving document to disk...\")\n",
    "\n",
    "manager = pluginmanager()\n",
    "\n",
    "spellchecker = spellcheckerplugin()\n",
    "\n",
    "grammerchecker = grammercheckerplugin()\n",
    "\n",
    "autosave = autosaveplugin()\n",
    "\n",
    "manager.register_plugin(spellchecker)\n",
    "\n",
    "manager.register_plugin(grammerchecker)\n",
    "\n",
    "manager.register_plugin(autosave)\n",
    "\n",
    "manager.run_all()"
   ]
  },
  {
   "cell_type": "code",
   "execution_count": null,
   "id": "1657af21",
   "metadata": {},
   "outputs": [],
   "source": []
  },
  {
   "cell_type": "code",
   "execution_count": null,
   "id": "508696de",
   "metadata": {},
   "outputs": [],
   "source": []
  },
  {
   "cell_type": "code",
   "execution_count": null,
   "id": "39b9c5aa",
   "metadata": {},
   "outputs": [],
   "source": []
  }
 ],
 "metadata": {
  "kernelspec": {
   "display_name": "Python 3",
   "language": "python",
   "name": "python3"
  },
  "language_info": {
   "codemirror_mode": {
    "name": "ipython",
    "version": 3
   },
   "file_extension": ".py",
   "mimetype": "text/x-python",
   "name": "python",
   "nbconvert_exporter": "python",
   "pygments_lexer": "ipython3",
   "version": "3.12.1"
  }
 },
 "nbformat": 4,
 "nbformat_minor": 5
}
