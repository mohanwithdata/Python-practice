{
 "cells": [
  {
   "cell_type": "markdown",
   "id": "09c876c0",
   "metadata": {},
   "source": [
    "Make a Chatbot class with basic conversational abilities using predefined intents."
   ]
  },
  {
   "cell_type": "code",
   "execution_count": 4,
   "id": "04a46054",
   "metadata": {},
   "outputs": [
    {
     "name": "stdout",
     "output_type": "stream",
     "text": [
      "Jarvis: Hello! Type 'bye' to exit.\n"
     ]
    },
    {
     "ename": "AttributeError",
     "evalue": "'dict' object has no attribute 'item'",
     "output_type": "error",
     "traceback": [
      "\u001b[31m---------------------------------------------------------------------------\u001b[39m",
      "\u001b[31mAttributeError\u001b[39m                            Traceback (most recent call last)",
      "\u001b[36mCell\u001b[39m\u001b[36m \u001b[39m\u001b[32mIn[4]\u001b[39m\u001b[32m, line 45\u001b[39m\n\u001b[32m     41\u001b[39m             \u001b[38;5;28mprint\u001b[39m(\u001b[33mf\u001b[39m\u001b[33m\"\u001b[39m\u001b[38;5;132;01m{\u001b[39;00m\u001b[38;5;28mself\u001b[39m.name\u001b[38;5;132;01m}\u001b[39;00m\u001b[33m: \u001b[39m\u001b[38;5;132;01m{\u001b[39;00mresponse\u001b[38;5;132;01m}\u001b[39;00m\u001b[33m\"\u001b[39m)\n\u001b[32m     43\u001b[39m bot = chatbot(\u001b[33m\"\u001b[39m\u001b[33mJarvis\u001b[39m\u001b[33m\"\u001b[39m)\n\u001b[32m---> \u001b[39m\u001b[32m45\u001b[39m \u001b[43mbot\u001b[49m\u001b[43m.\u001b[49m\u001b[43mchat\u001b[49m\u001b[43m(\u001b[49m\u001b[43m)\u001b[49m\n",
      "\u001b[36mCell\u001b[39m\u001b[36m \u001b[39m\u001b[32mIn[4]\u001b[39m\u001b[32m, line 40\u001b[39m, in \u001b[36mchatbot.chat\u001b[39m\u001b[34m(self)\u001b[39m\n\u001b[32m     38\u001b[39m     \u001b[38;5;28mprint\u001b[39m(\u001b[33mf\u001b[39m\u001b[33m\"\u001b[39m\u001b[38;5;132;01m{\u001b[39;00m\u001b[38;5;28mself\u001b[39m.name\u001b[38;5;132;01m}\u001b[39;00m\u001b[33m: \u001b[39m\u001b[38;5;132;01m{\u001b[39;00m\u001b[38;5;28mself\u001b[39m.responses[\u001b[33m'\u001b[39m\u001b[33mbye\u001b[39m\u001b[33m'\u001b[39m]\u001b[38;5;132;01m}\u001b[39;00m\u001b[33m\"\u001b[39m)\n\u001b[32m     39\u001b[39m     \u001b[38;5;28;01mbreak\u001b[39;00m\n\u001b[32m---> \u001b[39m\u001b[32m40\u001b[39m response = \u001b[38;5;28;43mself\u001b[39;49m\u001b[43m.\u001b[49m\u001b[43mget_response\u001b[49m\u001b[43m(\u001b[49m\u001b[43muser_input\u001b[49m\u001b[43m)\u001b[49m\n\u001b[32m     41\u001b[39m \u001b[38;5;28mprint\u001b[39m(\u001b[33mf\u001b[39m\u001b[33m\"\u001b[39m\u001b[38;5;132;01m{\u001b[39;00m\u001b[38;5;28mself\u001b[39m.name\u001b[38;5;132;01m}\u001b[39;00m\u001b[33m: \u001b[39m\u001b[38;5;132;01m{\u001b[39;00mresponse\u001b[38;5;132;01m}\u001b[39;00m\u001b[33m\"\u001b[39m)\n",
      "\u001b[36mCell\u001b[39m\u001b[36m \u001b[39m\u001b[32mIn[4]\u001b[39m\u001b[32m, line 27\u001b[39m, in \u001b[36mchatbot.get_response\u001b[39m\u001b[34m(self, user_input)\u001b[39m\n\u001b[32m     26\u001b[39m \u001b[38;5;28;01mdef\u001b[39;00m\u001b[38;5;250m \u001b[39m\u001b[34mget_response\u001b[39m(\u001b[38;5;28mself\u001b[39m, user_input):\n\u001b[32m---> \u001b[39m\u001b[32m27\u001b[39m     intent = \u001b[38;5;28;43mself\u001b[39;49m\u001b[43m.\u001b[49m\u001b[43mget_intent\u001b[49m\u001b[43m(\u001b[49m\u001b[43muser_input\u001b[49m\u001b[43m)\u001b[49m\n\u001b[32m     28\u001b[39m     \u001b[38;5;28;01mif\u001b[39;00m intent:\n\u001b[32m     29\u001b[39m         \u001b[38;5;28;01mreturn\u001b[39;00m \u001b[38;5;28mself\u001b[39m.responses[intent]\n",
      "\u001b[36mCell\u001b[39m\u001b[36m \u001b[39m\u001b[32mIn[4]\u001b[39m\u001b[32m, line 21\u001b[39m, in \u001b[36mchatbot.get_intent\u001b[39m\u001b[34m(self, user_input)\u001b[39m\n\u001b[32m     19\u001b[39m \u001b[38;5;28;01mdef\u001b[39;00m\u001b[38;5;250m \u001b[39m\u001b[34mget_intent\u001b[39m(\u001b[38;5;28mself\u001b[39m, user_input):\n\u001b[32m     20\u001b[39m     user_input = user_input.lower()\n\u001b[32m---> \u001b[39m\u001b[32m21\u001b[39m     \u001b[38;5;28;01mfor\u001b[39;00m intent, keywords \u001b[38;5;129;01min\u001b[39;00m \u001b[38;5;28;43mself\u001b[39;49m\u001b[43m.\u001b[49m\u001b[43mintents\u001b[49m\u001b[43m.\u001b[49m\u001b[43mitem\u001b[49m():\n\u001b[32m     22\u001b[39m         \u001b[38;5;28;01mfor\u001b[39;00m keyword \u001b[38;5;129;01min\u001b[39;00m keyword:\n\u001b[32m     23\u001b[39m             \u001b[38;5;28;01mif\u001b[39;00m keyword \u001b[38;5;129;01min\u001b[39;00m user_input:\n",
      "\u001b[31mAttributeError\u001b[39m: 'dict' object has no attribute 'item'"
     ]
    }
   ],
   "source": [
    "class chatbot:\n",
    "    def __init__(self, name=\"Chatbot\"):\n",
    "        self.name = name\n",
    "        self.intents = {\n",
    "            \"hello\": [\"hi\", \"hello\", \"hey\", \"good morning\", \"good evening\"],\n",
    "            \"bye\": [\"bye\", \"goodbye\", \"see you\", \"later\"],\n",
    "            \"thanks\": [\"thanks\", \"thank you\", \"thx\"],\n",
    "            \"how are you\": [\"how are you\", \"how's it going\", \"what's up\"],\n",
    "            \"help\": [\"help\", \"support\", \"assist\"]\n",
    "        }\n",
    "        self.responses = {\n",
    "            \"hello\": \"Hello! How can I help you today?\",\n",
    "            \"bye\": \"Goodbye! Have a great day!\",\n",
    "            \"thanks\": \"You're welcome! 😊\",\n",
    "            \"how are you\": \"I'm just a bot, but I'm doing great! How about you?\",\n",
    "            \"help\": \"I can assist you with general queries. Try saying 'hello', 'bye', or 'thanks'.\"\n",
    "        }\n",
    "\n",
    "    def get_intent(self, user_input):\n",
    "        user_input = user_input.lower()\n",
    "        for intent, keywords in self.intents.item():\n",
    "            for keyword in keyword:\n",
    "                if keyword in user_input:\n",
    "                    return intent\n",
    "    \n",
    "    def get_response(self, user_input):\n",
    "        intent = self.get_intent(user_input)\n",
    "        if intent:\n",
    "            return self.responses[intent]\n",
    "        else:\n",
    "            return \"I'm not sure how to respond to that. Try asking for 'help'.\"\n",
    "        \n",
    "    def chat(self):\n",
    "        print(f\"{self.name}: Hello! Type 'bye' to exit.\")\n",
    "        while True:\n",
    "            user_input = input(\"Boss: \")\n",
    "            if user_input.lower() in self.intents[\"bye\"]:\n",
    "                print(f\"{self.name}: {self.responses['bye']}\")\n",
    "                break\n",
    "            response = self.get_response(user_input)\n",
    "            print(f\"{self.name}: {response}\")\n",
    "\n",
    "bot = chatbot(\"Jarvis\")\n",
    "\n",
    "bot.chat()"
   ]
  },
  {
   "cell_type": "code",
   "execution_count": null,
   "id": "d44dccc6",
   "metadata": {},
   "outputs": [],
   "source": []
  }
 ],
 "metadata": {
  "kernelspec": {
   "display_name": "Python 3",
   "language": "python",
   "name": "python3"
  },
  "language_info": {
   "codemirror_mode": {
    "name": "ipython",
    "version": 3
   },
   "file_extension": ".py",
   "mimetype": "text/x-python",
   "name": "python",
   "nbconvert_exporter": "python",
   "pygments_lexer": "ipython3",
   "version": "3.12.1"
  }
 },
 "nbformat": 4,
 "nbformat_minor": 5
}
