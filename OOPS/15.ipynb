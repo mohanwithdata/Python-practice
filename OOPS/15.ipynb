{
 "cells": [
  {
   "cell_type": "code",
   "execution_count": 1,
   "id": "e44cc22c",
   "metadata": {},
   "outputs": [
    {
     "name": "stdout",
     "output_type": "stream",
     "text": [
      "Deposited $500.\n"
     ]
    },
    {
     "ename": "AttributeError",
     "evalue": "'bankaccount' object has no attribute 'get_balance'",
     "output_type": "error",
     "traceback": [
      "\u001b[31m---------------------------------------------------------------------------\u001b[39m",
      "\u001b[31mAttributeError\u001b[39m                            Traceback (most recent call last)",
      "\u001b[36mCell\u001b[39m\u001b[36m \u001b[39m\u001b[32mIn[1]\u001b[39m\u001b[32m, line 20\u001b[39m\n\u001b[32m     16\u001b[39m account = bankaccount(\u001b[33m\"\u001b[39m\u001b[33mMohan\u001b[39m\u001b[33m\"\u001b[39m, \u001b[32m1000\u001b[39m)\n\u001b[32m     18\u001b[39m account.deposit(\u001b[32m500\u001b[39m)\n\u001b[32m---> \u001b[39m\u001b[32m20\u001b[39m \u001b[38;5;28mprint\u001b[39m(\u001b[33m\"\u001b[39m\u001b[33mCurrent Balance:\u001b[39m\u001b[33m\"\u001b[39m, \u001b[43maccount\u001b[49m\u001b[43m.\u001b[49m\u001b[43mget_balance\u001b[49m())\n\u001b[32m     22\u001b[39m \u001b[38;5;28;01mtry\u001b[39;00m:\n\u001b[32m     23\u001b[39m     \u001b[38;5;28mprint\u001b[39m(account.__balance)\n",
      "\u001b[31mAttributeError\u001b[39m: 'bankaccount' object has no attribute 'get_balance'"
     ]
    }
   ],
   "source": [
    "class bankaccount:\n",
    "    def __init__(self, owner: str, balance: float = 0.0):\n",
    "        self.owner = owner\n",
    "        self.__balance = balance\n",
    "\n",
    "    def deposit(self, amount: float) -> None:\n",
    "        if amount > 0:\n",
    "             self.__balance += amount\n",
    "             print(f\"Deposited ${amount}.\")\n",
    "        else:\n",
    "            print(\"Deposit must be positive.\")\n",
    "    \n",
    "    def getbalance(self) -> float:\n",
    "        return self.__balance\n",
    "    \n",
    "account = bankaccount(\"Mohan\", 1000)\n",
    "\n",
    "account.deposit(500)\n",
    "\n",
    "print(\"Current Balance:\", account.get_balance())\n",
    "\n",
    "try:\n",
    "    print(account.__balance)\n",
    "except AttributeError as e:\n",
    "    print(\"Error: \", e)\n",
    "\n",
    "print(\"Accessing via name mangling: \", account._bankaccount__balance)"
   ]
  },
  {
   "cell_type": "code",
   "execution_count": null,
   "id": "c4412473",
   "metadata": {},
   "outputs": [],
   "source": []
  }
 ],
 "metadata": {
  "kernelspec": {
   "display_name": "Python 3",
   "language": "python",
   "name": "python3"
  },
  "language_info": {
   "codemirror_mode": {
    "name": "ipython",
    "version": 3
   },
   "file_extension": ".py",
   "mimetype": "text/x-python",
   "name": "python",
   "nbconvert_exporter": "python",
   "pygments_lexer": "ipython3",
   "version": "3.12.1"
  }
 },
 "nbformat": 4,
 "nbformat_minor": 5
}
