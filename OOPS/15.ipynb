{
 "cells": [
  {
   "cell_type": "code",
   "execution_count": 1,
   "id": "e44cc22c",
   "metadata": {},
   "outputs": [
    {
     "name": "stdout",
     "output_type": "stream",
     "text": [
      "Deposited $500.\n",
      "Current Balance: 1500\n",
      "Error:  'bankaccount' object has no attribute '__balance'\n",
      "Accessing via name mangling:  1500\n"
     ]
    }
   ],
   "source": [
    "class bankaccount:\n",
    "    def __init__(self, owner: str, balance: float = 0.0):\n",
    "        self.owner = owner\n",
    "        self.__balance = balance\n",
    "\n",
    "    def deposit(self, amount: float) -> None:\n",
    "        if amount > 0:\n",
    "             self.__balance += amount\n",
    "             print(f\"Deposited ${amount}.\")\n",
    "        else:\n",
    "            print(\"Deposit must be positive.\")\n",
    "    \n",
    "    def getbalance(self) -> float:\n",
    "        return self.__balance\n",
    "    \n",
    "account = bankaccount(\"Mohan\", 1000)\n",
    "\n",
    "account.deposit(500)\n",
    "\n",
    "print(\"Current Balance:\", account.getbalance())\n",
    "\n",
    "try:\n",
    "    print(account.__balance)\n",
    "except AttributeError as e:\n",
    "    print(\"Error: \", e)\n",
    "\n",
    "print(\"Accessing via name mangling: \", account._bankaccount__balance)"
   ]
  },
  {
   "cell_type": "code",
   "execution_count": null,
   "id": "c4412473",
   "metadata": {},
   "outputs": [],
   "source": []
  }
 ],
 "metadata": {
  "kernelspec": {
   "display_name": "Python 3",
   "language": "python",
   "name": "python3"
  },
  "language_info": {
   "codemirror_mode": {
    "name": "ipython",
    "version": 3
   },
   "file_extension": ".py",
   "mimetype": "text/x-python",
   "name": "python",
   "nbconvert_exporter": "python",
   "pygments_lexer": "ipython3",
   "version": "3.12.1"
  }
 },
 "nbformat": 4,
 "nbformat_minor": 5
}
