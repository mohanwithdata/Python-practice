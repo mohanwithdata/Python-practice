{
 "cells": [
  {
   "cell_type": "code",
   "execution_count": 1,
   "id": "c5eb9a96",
   "metadata": {},
   "outputs": [
    {
     "name": "stdout",
     "output_type": "stream",
     "text": [
      "sum:  30\n",
      "Is 8 even?  True\n",
      "Square of 6 36\n"
     ]
    }
   ],
   "source": [
    "class mathutils:\n",
    "    @staticmethod\n",
    "    def add(x, y):\n",
    "        return x + y\n",
    "    \n",
    "    @staticmethod\n",
    "    def iseven(n):\n",
    "        return n % 2 == 0\n",
    "    \n",
    "    @staticmethod\n",
    "    def square(n):\n",
    "        return n * n\n",
    "    \n",
    "print(\"sum: \", mathutils.add(10, 20))\n",
    "print(\"Is 8 even? \", mathutils.iseven(8))\n",
    "print(\"Square of 6\", mathutils.square(6))"
   ]
  },
  {
   "cell_type": "code",
   "execution_count": 2,
   "id": "b4633517",
   "metadata": {},
   "outputs": [
    {
     "name": "stdout",
     "output_type": "stream",
     "text": [
      "Sum via object:  20\n"
     ]
    }
   ],
   "source": [
    "utils = mathutils()\n",
    "\n",
    "print(\"Sum via object: \", utils.add(5, 15))"
   ]
  },
  {
   "cell_type": "code",
   "execution_count": null,
   "id": "8fbe0416",
   "metadata": {},
   "outputs": [],
   "source": []
  }
 ],
 "metadata": {
  "kernelspec": {
   "display_name": "Python 3",
   "language": "python",
   "name": "python3"
  },
  "language_info": {
   "codemirror_mode": {
    "name": "ipython",
    "version": 3
   },
   "file_extension": ".py",
   "mimetype": "text/x-python",
   "name": "python",
   "nbconvert_exporter": "python",
   "pygments_lexer": "ipython3",
   "version": "3.12.1"
  }
 },
 "nbformat": 4,
 "nbformat_minor": 5
}
