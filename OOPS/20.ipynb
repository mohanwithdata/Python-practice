{
 "cells": [
  {
   "cell_type": "code",
   "execution_count": 1,
   "id": "403bc6fe",
   "metadata": {},
   "outputs": [
    {
     "name": "stdout",
     "output_type": "stream",
     "text": [
      "someanimal makes a generic animal sound.\n",
      "Bruno says Woof!\n",
      "Blacky says Meow!\n"
     ]
    }
   ],
   "source": [
    "class animal:\n",
    "    def __init__(self, name: str):\n",
    "        self.name = name\n",
    "\n",
    "    def sound(self):\n",
    "        print(f\"{self.name} makes a generic animal sound.\")\n",
    "    \n",
    "class dog(animal):\n",
    "    def sound(self):\n",
    "        print(f\"{self.name} says Woof!\")\n",
    "\n",
    "class cat(animal):\n",
    "    def sound(self):\n",
    "        print(f\"{self.name} says Meow!\")\n",
    "\n",
    "animals = animal(\"someanimal\")\n",
    "\n",
    "dog =  dog(\"Bruno\")\n",
    "\n",
    "cat = cat(\"Blacky\")\n",
    "\n",
    "\n",
    "animals.sound()\n",
    "dog.sound()\n",
    "cat.sound()"
   ]
  },
  {
   "cell_type": "code",
   "execution_count": null,
   "id": "917fbb68",
   "metadata": {},
   "outputs": [],
   "source": []
  }
 ],
 "metadata": {
  "kernelspec": {
   "display_name": "Python 3",
   "language": "python",
   "name": "python3"
  },
  "language_info": {
   "codemirror_mode": {
    "name": "ipython",
    "version": 3
   },
   "file_extension": ".py",
   "mimetype": "text/x-python",
   "name": "python",
   "nbconvert_exporter": "python",
   "pygments_lexer": "ipython3",
   "version": "3.12.1"
  }
 },
 "nbformat": 4,
 "nbformat_minor": 5
}
