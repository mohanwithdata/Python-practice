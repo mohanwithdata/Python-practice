{
 "cells": [
  {
   "cell_type": "code",
   "execution_count": 2,
   "id": "e546debe",
   "metadata": {},
   "outputs": [
    {
     "name": "stdout",
     "output_type": "stream",
     "text": [
      "Time started..\n",
      "Timer stopped. Elapsed time: 0.047957 seconds\n",
      "Timer reset.\n"
     ]
    }
   ],
   "source": [
    "import time\n",
    "\n",
    "class Timer:\n",
    "    def __init__(self):\n",
    "        self.start_time = None\n",
    "        self.end_time = None\n",
    "\n",
    "    def start(self):\n",
    "        self.start_time = time.time()\n",
    "        print(\"Time started..\")\n",
    "\n",
    "    def stop(self):\n",
    "        if self.start_time is None:\n",
    "            print(\"Time was not started\")\n",
    "            return None\n",
    "        \n",
    "        self.end_time = time.time()\n",
    "        elapsed = self.end_time - self.start_time\n",
    "        print(f\"Timer stopped. Elapsed time: {elapsed:.6f} seconds\")\n",
    "        return elapsed\n",
    "    \n",
    "    def reset(self):\n",
    "        self.start_time = None\n",
    "        self.end_time = None\n",
    "        print(\"Timer reset.\")\n",
    "\n",
    "timer = Timer()\n",
    "\n",
    "timer.start()\n",
    "\n",
    "for i in range(10**6):\n",
    "    pass\n",
    "\n",
    "timer.stop()\n",
    "\n",
    "timer.reset()"
   ]
  },
  {
   "cell_type": "code",
   "execution_count": null,
   "id": "bb4e8037",
   "metadata": {},
   "outputs": [],
   "source": []
  }
 ],
 "metadata": {
  "kernelspec": {
   "display_name": "Python 3",
   "language": "python",
   "name": "python3"
  },
  "language_info": {
   "codemirror_mode": {
    "name": "ipython",
    "version": 3
   },
   "file_extension": ".py",
   "mimetype": "text/x-python",
   "name": "python",
   "nbconvert_exporter": "python",
   "pygments_lexer": "ipython3",
   "version": "3.12.1"
  }
 },
 "nbformat": 4,
 "nbformat_minor": 5
}
