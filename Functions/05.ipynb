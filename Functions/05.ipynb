{
 "cells": [
  {
   "cell_type": "code",
   "execution_count": 1,
   "id": "a61f225f",
   "metadata": {},
   "outputs": [
    {
     "name": "stdout",
     "output_type": "stream",
     "text": [
      "Item: Notebook, Quantity: 1, Price per unit: $150\n"
     ]
    }
   ],
   "source": [
    "# Define order(item, quantity=1, price=100) and try overriding only price.\n",
    "\n",
    "def order(item, quantity=1, price=100):\n",
    "    return f\"Item: {item}, Quantity: {quantity}, Price per unit: ${price}\"\n",
    "\n",
    "\n",
    "print(order(\"Notebook\", price=150))"
   ]
  },
  {
   "cell_type": "code",
   "execution_count": null,
   "id": "d266924a",
   "metadata": {},
   "outputs": [
    {
     "name": "stdout",
     "output_type": "stream",
     "text": [
      "Name: Ravi, ID: 101, Department: HR\n",
      "Name: Anu, ID: 102, Department: Finance\n",
      "Name: Karan, ID: 103, Department: IT\n"
     ]
    }
   ],
   "source": [
    "# Create a function employee(name, id, dept='HR'). Call it once with only positional args, once with a mix, and once overriding all as keywords.\n",
    "\n",
    "def employee(name, id, dept='HR'):\n",
    "    return f\"Name: {name}, ID: {id}, Department: {dept}\"\n",
    "\n",
    "print(employee(\"Ravi\", 101))\n",
    "\n",
    "print(employee(\"Anu\", 102, dept=\"Finance\"))\n",
    "\n",
    "print(employee(name=\"Karan\", id=103, dept=\"IT\"))"
   ]
  },
  {
   "cell_type": "code",
   "execution_count": 4,
   "id": "f6b9aa7c",
   "metadata": {},
   "outputs": [
    {
     "name": "stdout",
     "output_type": "stream",
     "text": [
      "Name: Priya, Age: 28, city: unknown, Email: NA\n",
      "Name: Raj, Age: 30, city: Chennai, Email: NA\n",
      "Name: Meena, Age: 25, city: Banglore, Email: meena@gmail.com\n"
     ]
    }
   ],
   "source": [
    "# Define profile(name, age, city='Unknown', email='NA'). Call with combinations of 2, 3, and 4 args.\n",
    "\n",
    "def profile(name, age, city='unknown', email='NA'):\n",
    "    return f\"Name: {name}, Age: {age}, city: {city}, Email: {email}\"\n",
    "\n",
    "print(profile(\"Priya\", 28))\n",
    "\n",
    "print(profile(\"Raj\", 30, \"Chennai\"))\n",
    "\n",
    "print(profile(\"Meena\", 25, city=\"Banglore\", email=\"meena@gmail.com\"))"
   ]
  },
  {
   "cell_type": "code",
   "execution_count": 5,
   "id": "0040bc68",
   "metadata": {},
   "outputs": [
    {
     "name": "stdout",
     "output_type": "stream",
     "text": [
      "Hello, Mohan\n",
      "Hi, Mohan\n"
     ]
    }
   ],
   "source": [
    "# Write a wrapper function that takes a function and two arguments (positional or keyword), and calls it correctly.\n",
    "\n",
    "def wrapper(func, *args, **kwargs):\n",
    "    return func(*args, **kwargs)\n",
    "\n",
    "def greet(name, msg):\n",
    "    return f\"{msg}, {name}\"\n",
    "\n",
    "print(wrapper(greet, \"Mohan\", \"Hello\"))\n",
    "\n",
    "print(wrapper(greet, name=\"Mohan\", msg=\"Hi\"))"
   ]
  },
  {
   "cell_type": "code",
   "execution_count": 6,
   "id": "fdeb062c",
   "metadata": {},
   "outputs": [
    {
     "name": "stdout",
     "output_type": "stream",
     "text": [
      "Positional arguments (args): ('apple', 42)\n",
      "keyword arguments (kwargs): {'city': 'Delhi', 'temp': 36.6}\n"
     ]
    }
   ],
   "source": [
    "# Write a function custom_print(*args, **kwargs) that prints args and kwargs separately.\n",
    "\n",
    "def customprint(*args, **kwargs):\n",
    "    print(\"Positional arguments (args):\", args)\n",
    "    print(\"keyword arguments (kwargs):\", kwargs)\n",
    "\n",
    "customprint(\"apple\", 42, city=\"Delhi\", temp=36.6)"
   ]
  },
  {
   "cell_type": "code",
   "execution_count": 9,
   "id": "b6e398da",
   "metadata": {},
   "outputs": [
    {
     "name": "stdout",
     "output_type": "stream",
     "text": [
      "Pizza size: 12 inches\n",
      "Crust type: regular\n",
      "No toppings\n",
      "No extras\n",
      "Pizza None\n",
      "------------------------------\n",
      "Pizza size: 10 inches\n",
      "Crust type: regular\n",
      "Toppings:\n",
      "- pepperoni\n",
      "- mushroom\n",
      "- olives\n",
      "No extras\n",
      "New Pizza None\n",
      "------------------------------\n",
      "Pizza size: 14 inches\n",
      "Crust type: cheese-stuffed\n",
      "Toppings:\n",
      "- chicken\n",
      "- jalapenos\n",
      "Extras:\n",
      "- sauce: extra\n",
      "- cheese: double\n",
      "Third Pizza None\n",
      "------------------------------\n"
     ]
    }
   ],
   "source": [
    "# Define a function make_pizza(size, *toppings, crust='regular', **extras) and call it with:\n",
    "\n",
    "\n",
    "def makepizza(size, *toppings, crust='regular', **extras):\n",
    "    print(f\"Pizza size: {size} inches\")\n",
    "    print(f\"Crust type: {crust}\")\n",
    "\n",
    "    if toppings:\n",
    "        print(\"Toppings:\")\n",
    "        for t in toppings:\n",
    "            print(f\"- {t}\")\n",
    "    else:\n",
    "        print(\"No toppings\")\n",
    "\n",
    "    if extras:\n",
    "        print(\"Extras:\")\n",
    "\n",
    "        for key, value in extras.items():\n",
    "            print(f\"- {key}: {value}\")\n",
    "    else:\n",
    "        print(\"No extras\")\n",
    "\n",
    "print(\"Pizza\", makepizza(12))\n",
    "print(\"-\"*30)\n",
    "\n",
    "print(\"New Pizza\", makepizza(10, \"pepperoni\", \"mushroom\", \"olives\"))\n",
    "print(\"-\"*30)\n",
    "\n",
    "print(\"Third Pizza\", makepizza(14, \"chicken\", \"jalapenos\", crust=\"cheese-stuffed\", sauce=\"extra\", cheese=\"double\"))\n",
    "print(\"-\"*30)\n"
   ]
  },
  {
   "cell_type": "code",
   "execution_count": null,
   "id": "39878f90",
   "metadata": {},
   "outputs": [],
   "source": []
  }
 ],
 "metadata": {
  "kernelspec": {
   "display_name": "churn-env",
   "language": "python",
   "name": "python3"
  },
  "language_info": {
   "codemirror_mode": {
    "name": "ipython",
    "version": 3
   },
   "file_extension": ".py",
   "mimetype": "text/x-python",
   "name": "python",
   "nbconvert_exporter": "python",
   "pygments_lexer": "ipython3",
   "version": "3.10.18"
  }
 },
 "nbformat": 4,
 "nbformat_minor": 5
}
