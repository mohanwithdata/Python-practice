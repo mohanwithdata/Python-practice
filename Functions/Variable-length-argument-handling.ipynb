{
 "cells": [
  {
   "cell_type": "code",
   "execution_count": 1,
   "id": "0e561b4e",
   "metadata": {},
   "outputs": [
    {
     "name": "stdout",
     "output_type": "stream",
     "text": [
      "10\n",
      "30\n"
     ]
    }
   ],
   "source": [
    "# 1. Function with only *args\n",
    "\n",
    "def sumall(*args):\n",
    "    return sum(args)\n",
    "\n",
    "print(sumall(1,2,3,4))\n",
    "print(sumall(10,20))"
   ]
  },
  {
   "cell_type": "code",
   "execution_count": 2,
   "id": "16ccea1c",
   "metadata": {},
   "outputs": [
    {
     "name": "stdout",
     "output_type": "stream",
     "text": [
      "name: Mohan\n",
      "age: 25\n",
      "city: chennai\n"
     ]
    }
   ],
   "source": [
    "# 2. Function with only **kwargs\n",
    "\n",
    "def printdetails(**kwargs):\n",
    "    for key, value in kwargs.items():\n",
    "        print(f\"{key}: {value}\")\n",
    "\n",
    "printdetails(name=\"Mohan\", age=25, city=\"chennai\")"
   ]
  },
  {
   "cell_type": "code",
   "execution_count": 3,
   "id": "55765edf",
   "metadata": {},
   "outputs": [
    {
     "name": "stdout",
     "output_type": "stream",
     "text": [
      "Positional:  (1, 2, 3)\n",
      "Keywords:  {'name': 'Mohan', 'age': 25}\n"
     ]
    }
   ],
   "source": [
    "# 3. Combining *args and **kwargs\n",
    "\n",
    "def showall(*args, **kwargs):\n",
    "    print(\"Positional: \", args)\n",
    "    print(\"Keywords: \", kwargs)\n",
    "\n",
    "showall(1,2,3, name=\"Mohan\", age=25)"
   ]
  },
  {
   "cell_type": "code",
   "execution_count": 4,
   "id": "ccad01e7",
   "metadata": {},
   "outputs": [
    {
     "name": "stdout",
     "output_type": "stream",
     "text": [
      "24\n"
     ]
    }
   ],
   "source": [
    "# 4. Passing list with argument unpacking *\n",
    "\n",
    "def mult(a, b, c):\n",
    "    return a * b * c\n",
    "\n",
    "nums = [2, 3, 4]\n",
    "\n",
    "print(mult(*nums))"
   ]
  },
  {
   "cell_type": "code",
   "execution_count": 5,
   "id": "6086f1ae",
   "metadata": {},
   "outputs": [
    {
     "name": "stdout",
     "output_type": "stream",
     "text": [
      "Hello, mohan Balor\n"
     ]
    }
   ],
   "source": [
    "# 5. Passing dictionary with argument unpacking **\n",
    "\n",
    "def greet(first, last):\n",
    "    return f\"Hello, {first} {last}\"\n",
    "\n",
    "person = {'first': 'mohan', 'last': 'Balor'}\n",
    "\n",
    "print(greet(**person))"
   ]
  },
  {
   "cell_type": "code",
   "execution_count": 6,
   "id": "786c96cc",
   "metadata": {},
   "outputs": [
    {
     "name": "stdout",
     "output_type": "stream",
     "text": [
      "[INFO] system started\n",
      "[INFO] user logged in\n"
     ]
    }
   ],
   "source": [
    "# 6. Mixing normal args with *args\n",
    "\n",
    "def logmessage(level, *messages):\n",
    "    for msg in messages:\n",
    "        print(f\"[{level.upper()}] {msg}\")\n",
    "\n",
    "logmessage('info', 'system started', 'user logged in')"
   ]
  },
  {
   "cell_type": "code",
   "execution_count": 7,
   "id": "c9e66fe1",
   "metadata": {},
   "outputs": [
    {
     "name": "stdout",
     "output_type": "stream",
     "text": [
      "Connecting to localhost...\n",
      "port: 3306\n",
      "user: root\n",
      "password: admin\n"
     ]
    }
   ],
   "source": [
    "# 7. Mixing normal args with **kwargs\n",
    "\n",
    "def connecttodb(host, **options):\n",
    "    print(f\"Connecting to {host}...\")\n",
    "    for key, value in options.items():\n",
    "        print(f\"{key}: {value}\")\n",
    "\n",
    "connecttodb(\"localhost\", port=3306, user='root', password='admin')"
   ]
  },
  {
   "cell_type": "code",
   "execution_count": 8,
   "id": "cf9b2922",
   "metadata": {},
   "outputs": [
    {
     "name": "stdout",
     "output_type": "stream",
     "text": [
      "15\n"
     ]
    }
   ],
   "source": [
    "# 8. Forwarding arguments with unpacking\n",
    "\n",
    "def add(a, b):\n",
    "    return a + b\n",
    "\n",
    "def addwithextra(*args, **kwargs):\n",
    "    return add(*args, **kwargs)\n",
    "\n",
    "print(addwithextra(5,10))"
   ]
  },
  {
   "cell_type": "code",
   "execution_count": 9,
   "id": "19dd6f5f",
   "metadata": {},
   "outputs": [
    {
     "name": "stdout",
     "output_type": "stream",
     "text": [
      "storing arguments...\n",
      "32\n"
     ]
    }
   ],
   "source": [
    "# 9. Function that collects and reuses args in multiple calls\n",
    "\n",
    "def storeandcall(func, *args, **kwargs):\n",
    "    print(\"storing arguments...\")\n",
    "    return func(*args, **kwargs)\n",
    "\n",
    "def power(a, b):\n",
    "    return a ** b\n",
    "\n",
    "print(storeandcall(power, 2, 5))"
   ]
  },
  {
   "cell_type": "code",
   "execution_count": 10,
   "id": "a0788802",
   "metadata": {},
   "outputs": [
    {
     "name": "stdout",
     "output_type": "stream",
     "text": [
      "Home Page\n",
      "404 Not Found\n"
     ]
    }
   ],
   "source": [
    "# 10. Building a mini router using **kwargs\n",
    "\n",
    "def home():\n",
    "    return \"Home Page\"\n",
    "\n",
    "def about():\n",
    "    return \"About Page\"\n",
    "\n",
    "def notfound():\n",
    "    return \"404 Not Found\"\n",
    "\n",
    "def router(path, **routes):\n",
    "    return routes.get(path, notfound)()\n",
    "\n",
    "print(router(\"home\", home=home, about=about))\n",
    "print(router(\"contact\",home=home, about=about))"
   ]
  },
  {
   "cell_type": "code",
   "execution_count": 11,
   "id": "2d50878f",
   "metadata": {},
   "outputs": [
    {
     "name": "stdout",
     "output_type": "stream",
     "text": [
      "Deco1 before\n",
      "Deco2 before\n",
      "Hello!\n",
      "Deco2 after\n",
      "Deco1 after\n",
      "\n",
      "\n",
      "Deco2 before\n",
      "Deco1 before\n",
      "Hi!\n",
      "Deco1 after\n",
      "Deco2 after\n"
     ]
    }
   ],
   "source": [
    "# stacking\n",
    "# 1. Basic stacking (order demonstration)\n",
    "\n",
    "def deco1(func):\n",
    "    def wrapper(*args, **kwargs):\n",
    "        print(\"Deco1 before\")\n",
    "        result = func(*args, **kwargs)\n",
    "        print(\"Deco1 after\")\n",
    "        return result\n",
    "    return wrapper\n",
    "\n",
    "def deco2(func):\n",
    "    def wrapper(*args, **kwargs):\n",
    "        print(\"Deco2 before\")\n",
    "        result = func(*args, **kwargs)\n",
    "        print(\"Deco2 after\")\n",
    "        return result\n",
    "    return wrapper\n",
    "\n",
    "@deco1\n",
    "@deco2\n",
    "def hello():\n",
    "    print(\"Hello!\")\n",
    "\n",
    "hello()\n",
    "\n",
    "print('\\n')\n",
    "\n",
    "# 2. Reverse stacking order\n",
    "\n",
    "@deco2\n",
    "@deco1\n",
    "def hi():\n",
    "    print(\"Hi!\")\n",
    "\n",
    "hi()"
   ]
  },
  {
   "cell_type": "code",
   "execution_count": 14,
   "id": "af50d4be",
   "metadata": {},
   "outputs": [
    {
     "name": "stdout",
     "output_type": "stream",
     "text": [
      "Running greet\n",
      "Hello, Mohan\n"
     ]
    }
   ],
   "source": [
    "# 3. One logging, one uppercase\n",
    "\n",
    "from functools import wraps\n",
    "\n",
    "def logger(func):\n",
    "    @wraps(func)\n",
    "    def wrapper(*args, **kwargs):\n",
    "        print(f\"Running {func.__name__}\")\n",
    "        return func(*args, **kwargs)\n",
    "    return wrapper\n",
    "\n",
    "def uppercase(func):\n",
    "    @wraps(func)\n",
    "    def wrapper(*args, **kwargs):\n",
    "        return func(*args, **kwargs)\n",
    "    return wrapper\n",
    "\n",
    "@logger\n",
    "@uppercase\n",
    "def greet(name):\n",
    "    return f\"Hello, {name}\"\n",
    "\n",
    "print(greet(\"Mohan\"))"
   ]
  },
  {
   "cell_type": "code",
   "execution_count": 18,
   "id": "1313c9e5",
   "metadata": {},
   "outputs": [
    {
     "name": "stdout",
     "output_type": "stream",
     "text": [
      "Took 1.0073 sec\n",
      "Hello!\n"
     ]
    }
   ],
   "source": [
    "# 4. One timing, one adding punctuation\n",
    "\n",
    "import time\n",
    "\n",
    "def timer(func):\n",
    "    def wrapper(*args, **kwargs):\n",
    "        start = time.time()\n",
    "        result = func(*args, **kwargs)\n",
    "        print(f\"Took {time.time() - start:.4f} sec\")\n",
    "        return result\n",
    "    return wrapper\n",
    "\n",
    "def exlaim(func):\n",
    "    def wrapper(*args, **kwargs):\n",
    "        return func(*args, **kwargs) + \"!\"\n",
    "    return wrapper\n",
    "\n",
    "\n",
    "@timer\n",
    "@exlaim\n",
    "def slowgreet():\n",
    "    time.sleep(1)\n",
    "    return \"Hello\"\n",
    "\n",
    "print(slowgreet())"
   ]
  },
  {
   "cell_type": "code",
   "execution_count": 20,
   "id": "0da80cc4",
   "metadata": {},
   "outputs": [
    {
     "name": "stdout",
     "output_type": "stream",
     "text": [
      "Running announce\n",
      "Welcome!\n",
      "Running announce\n",
      "Welcome!\n"
     ]
    }
   ],
   "source": [
    "# 5. Decorator with arguments stacked with another\n",
    "\n",
    "def repeat(n):\n",
    "    def decorator(func):\n",
    "        def wrapper(*args, **kwargs):\n",
    "            for i in range(n):\n",
    "                func(*args, **kwargs)\n",
    "        return wrapper\n",
    "    return decorator\n",
    "    \n",
    "@repeat(2)\n",
    "@logger\n",
    "def announce(msg):\n",
    "    print(msg)\n",
    "\n",
    "announce(\"Welcome!\")"
   ]
  },
  {
   "cell_type": "code",
   "execution_count": 25,
   "id": "afbe6a4f",
   "metadata": {},
   "outputs": [
    {
     "name": "stdout",
     "output_type": "stream",
     "text": [
      "Mohan Balor\n"
     ]
    },
    {
     "ename": "ValueError",
     "evalue": "Input cannot be empty",
     "output_type": "error",
     "traceback": [
      "\u001b[1;31m---------------------------------------------------------------------------\u001b[0m",
      "\u001b[1;31mValueError\u001b[0m                                Traceback (most recent call last)",
      "Cell \u001b[1;32mIn[25], line 21\u001b[0m\n\u001b[0;32m     18\u001b[0m     \u001b[38;5;28;01mreturn\u001b[39;00m name\n\u001b[0;32m     20\u001b[0m \u001b[38;5;28mprint\u001b[39m(formatname(\u001b[38;5;124m\"\u001b[39m\u001b[38;5;124mMohan Balor\u001b[39m\u001b[38;5;124m\"\u001b[39m))\n\u001b[1;32m---> 21\u001b[0m \u001b[38;5;28mprint\u001b[39m(\u001b[43mformatname\u001b[49m\u001b[43m(\u001b[49m\u001b[38;5;124;43m\"\u001b[39;49m\u001b[38;5;124;43m\"\u001b[39;49m\u001b[43m)\u001b[49m)\n",
      "Cell \u001b[1;32mIn[25], line 6\u001b[0m, in \u001b[0;36mvalidationnonempty.<locals>.wrapper\u001b[1;34m(*args, **kwargs)\u001b[0m\n\u001b[0;32m      4\u001b[0m \u001b[38;5;28;01mdef\u001b[39;00m\u001b[38;5;250m \u001b[39m\u001b[38;5;21mwrapper\u001b[39m(\u001b[38;5;241m*\u001b[39margs, \u001b[38;5;241m*\u001b[39m\u001b[38;5;241m*\u001b[39mkwargs):\n\u001b[0;32m      5\u001b[0m     \u001b[38;5;28;01mif\u001b[39;00m \u001b[38;5;129;01mnot\u001b[39;00m args[\u001b[38;5;241m0\u001b[39m]:\n\u001b[1;32m----> 6\u001b[0m         \u001b[38;5;28;01mraise\u001b[39;00m \u001b[38;5;167;01mValueError\u001b[39;00m(\u001b[38;5;124m\"\u001b[39m\u001b[38;5;124mInput cannot be empty\u001b[39m\u001b[38;5;124m\"\u001b[39m)\n\u001b[0;32m      7\u001b[0m     \u001b[38;5;28;01mreturn\u001b[39;00m func(\u001b[38;5;241m*\u001b[39margs, \u001b[38;5;241m*\u001b[39m\u001b[38;5;241m*\u001b[39mkwargs)\n",
      "\u001b[1;31mValueError\u001b[0m: Input cannot be empty"
     ]
    }
   ],
   "source": [
    "# 6. Validation + transformation stack\n",
    "\n",
    "def validationnonempty(func):\n",
    "    def wrapper(*args, **kwargs):\n",
    "        if not args[0]:\n",
    "            raise ValueError(\"Input cannot be empty\")\n",
    "        return func(*args, **kwargs)\n",
    "    return wrapper\n",
    "\n",
    "def totitle(func):\n",
    "    def wrapper(*args, **kwargs):\n",
    "        return func(*args, **kwargs)\n",
    "    return wrapper\n",
    "\n",
    "@validationnonempty\n",
    "@totitle\n",
    "def formatname(name):\n",
    "    return name\n",
    "\n",
    "print(formatname(\"Mohan Balor\"))\n",
    "print(formatname(\"\"))"
   ]
  },
  {
   "cell_type": "code",
   "execution_count": 26,
   "id": "12c99256",
   "metadata": {},
   "outputs": [
    {
     "name": "stdout",
     "output_type": "stream",
     "text": [
      "Running deletedata\n",
      "Deleted record 101\n"
     ]
    }
   ],
   "source": [
    "# 7. Authentication + Logging\n",
    "\n",
    "def requireauth(func):\n",
    "    def wrapper(*args, **kwargs):\n",
    "        user = kwargs.get(\"user\")\n",
    "        if user !=\"admin\":\n",
    "            raise PermissionError(\"Not autherized\")\n",
    "        return func(*args, **kwargs)\n",
    "    return wrapper\n",
    "\n",
    "@requireauth\n",
    "@logger\n",
    "def deletedata(recordid, **kwargs):\n",
    "    print(f\"Deleted record {recordid}\")\n",
    "\n",
    "deletedata(101, user='admin')"
   ]
  },
  {
   "cell_type": "code",
   "execution_count": 28,
   "id": "37d80643",
   "metadata": {},
   "outputs": [
    {
     "name": "stdout",
     "output_type": "stream",
     "text": [
      "Took 0.0000 sec\n",
      "Took 0.0000 sec\n",
      "Took 0.0000 sec\n",
      "From cache\n",
      "Took 0.0000 sec\n",
      "Took 0.0000 sec\n",
      "From cache\n",
      "Took 0.0000 sec\n",
      "Took 0.0010 sec\n",
      "From cache\n",
      "Took 0.0000 sec\n",
      "Took 0.0010 sec\n",
      "From cache\n",
      "Took 0.0000 sec\n",
      "Took 0.0010 sec\n",
      "From cache\n",
      "Took 0.0000 sec\n",
      "Took 0.0010 sec\n",
      "From cache\n",
      "Took 0.0000 sec\n",
      "Took 0.0010 sec\n",
      "From cache\n",
      "Took 0.0000 sec\n",
      "Took 0.0010 sec\n",
      "From cache\n",
      "Took 0.0000 sec\n",
      "Took 0.0010 sec\n",
      "55\n"
     ]
    }
   ],
   "source": [
    "# 8. Cache + Timer\n",
    "\n",
    "cache = {}\n",
    "\n",
    "def memoize(func):\n",
    "    def wrapper(*args):\n",
    "        if args in cache:\n",
    "            print(\"From cache\")\n",
    "            return cache[args]\n",
    "        result = func(*args)\n",
    "        cache[args] = result\n",
    "        return result\n",
    "    return wrapper\n",
    "\n",
    "@timer\n",
    "@memoize\n",
    "def fib(n):\n",
    "    if n < 2:\n",
    "        return n\n",
    "    return fib(n-1) + fib(n-2)\n",
    "\n",
    "print(fib(10))"
   ]
  },
  {
   "cell_type": "code",
   "execution_count": 29,
   "id": "553a0295",
   "metadata": {},
   "outputs": [
    {
     "name": "stdout",
     "output_type": "stream",
     "text": [
      "Hello\n"
     ]
    }
   ],
   "source": [
    "# 9. Data sanitization stack\n",
    "\n",
    "def stripspaces(func):\n",
    "    def wrapper(*args, **kwargs):\n",
    "        args = [a.strip() if isinstance(a, str) else a for a in args]\n",
    "        return func(*args, **kwargs)\n",
    "    return wrapper\n",
    "\n",
    "def removedigits(func):\n",
    "    def wrapper(*args, **kwargs):\n",
    "        args = [''.join([c for c in a if not c.isdigit()]) if isinstance(a, str) else a for a in args]\n",
    "        return func(*args, **kwargs)\n",
    "    return wrapper\n",
    "\n",
    "@stripspaces\n",
    "@removedigits\n",
    "def processtext(text):\n",
    "    return text\n",
    "\n",
    "print(processtext(\"   Hello123   \"))"
   ]
  },
  {
   "cell_type": "code",
   "execution_count": 32,
   "id": "49642e4f",
   "metadata": {},
   "outputs": [
    {
     "name": "stdout",
     "output_type": "stream",
     "text": [
      "Header added\n",
      "Request to fetchdata\n",
      "Data fetched\n"
     ]
    }
   ],
   "source": [
    "# 10. API Request Simulation Stack\n",
    "\n",
    "\n",
    "def addheader(func):\n",
    "    def wrapper(*args, **kwargs):\n",
    "        print(\"Header added\")\n",
    "        return func(*args, **kwargs)\n",
    "    return wrapper\n",
    "\n",
    "def logrequest(func):\n",
    "    def wrapper(*args, **kwargs):\n",
    "        print(f\"Request to {func.__name__}\")\n",
    "        return func(*args, **kwargs)\n",
    "    return wrapper\n",
    "\n",
    "@addheader\n",
    "@logrequest\n",
    "def fetchdata():\n",
    "    print(\"Data fetched\")\n",
    "\n",
    "fetchdata()"
   ]
  },
  {
   "cell_type": "code",
   "execution_count": null,
   "id": "f906727c",
   "metadata": {},
   "outputs": [],
   "source": []
  }
 ],
 "metadata": {
  "kernelspec": {
   "display_name": "churn-env",
   "language": "python",
   "name": "python3"
  },
  "language_info": {
   "codemirror_mode": {
    "name": "ipython",
    "version": 3
   },
   "file_extension": ".py",
   "mimetype": "text/x-python",
   "name": "python",
   "nbconvert_exporter": "python",
   "pygments_lexer": "ipython3",
   "version": "3.10.18"
  }
 },
 "nbformat": 4,
 "nbformat_minor": 5
}
