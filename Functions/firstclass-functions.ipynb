{
 "cells": [
  {
   "cell_type": "code",
   "execution_count": 1,
   "id": "5a48f735",
   "metadata": {},
   "outputs": [
    {
     "name": "stdout",
     "output_type": "stream",
     "text": [
      "Hello, Mohan\n"
     ]
    }
   ],
   "source": [
    "# 1. Assign a function to a variable\n",
    "\n",
    "def greet(name):\n",
    "    return f\"Hello, {name}\"\n",
    "\n",
    "hello = greet\n",
    "\n",
    "print(hello(\"Mohan\"))\n"
   ]
  },
  {
   "cell_type": "code",
   "execution_count": 2,
   "id": "5a402a60",
   "metadata": {},
   "outputs": [
    {
     "name": "stdout",
     "output_type": "stream",
     "text": [
      "15\n",
      "5\n"
     ]
    }
   ],
   "source": [
    "# 2. Store functions in a list\n",
    "\n",
    "def add(a, b):\n",
    "    return a + b\n",
    "\n",
    "def subtract(a, b):\n",
    "    return a - b\n",
    "\n",
    "operations = [add, subtract]\n",
    "\n",
    "for op in operations:\n",
    "    print(op(10, 5))"
   ]
  },
  {
   "cell_type": "code",
   "execution_count": 4,
   "id": "77836d23",
   "metadata": {},
   "outputs": [
    {
     "name": "stdout",
     "output_type": "stream",
     "text": [
      "42\n",
      "0.8571428571428571\n"
     ]
    }
   ],
   "source": [
    "# 3. Store functions in a dictionary\n",
    "\n",
    "def multiply(a, b):\n",
    "    return a * b\n",
    "\n",
    "def divide(a, b):\n",
    "    return a / b\n",
    "\n",
    "funcdict = {'mul': multiply, 'div': divide}\n",
    "\n",
    "print(funcdict['mul'](6,7))\n",
    "print(funcdict['div'](6,7))"
   ]
  },
  {
   "cell_type": "code",
   "execution_count": 5,
   "id": "986154bf",
   "metadata": {},
   "outputs": [
    {
     "name": "stdout",
     "output_type": "stream",
     "text": [
      "HELLO WORLD\n",
      "hello world\n"
     ]
    }
   ],
   "source": [
    "# 4. Pass a function as an argumen\n",
    "\n",
    "def shout(text):\n",
    "    return text.upper()\n",
    "\n",
    "def whisper(text):\n",
    "    return text.lower()\n",
    "\n",
    "def speak(func, message):\n",
    "    return func(message)\n",
    "\n",
    "print(speak(shout, \"Hello World\"))\n",
    "print(speak(whisper, \"Hello World\"))"
   ]
  },
  {
   "cell_type": "code",
   "execution_count": 6,
   "id": "38f7f3c8",
   "metadata": {},
   "outputs": [
    {
     "name": "stdout",
     "output_type": "stream",
     "text": [
      "I am inner!\n"
     ]
    }
   ],
   "source": [
    "# 5. Return a function from another function\n",
    "\n",
    "def outer():\n",
    "    def inner():\n",
    "        return \"I am inner!\"\n",
    "    return inner\n",
    "\n",
    "myfunc = outer()\n",
    "\n",
    "print(myfunc())"
   ]
  },
  {
   "cell_type": "code",
   "execution_count": 8,
   "id": "70339fe1",
   "metadata": {},
   "outputs": [
    {
     "name": "stdout",
     "output_type": "stream",
     "text": [
      "[10, 15]\n"
     ]
    }
   ],
   "source": [
    "# 6. Pass multiple functions as arguments\n",
    "\n",
    "def double(x):\n",
    "    return x * 2\n",
    "\n",
    "def triple(x):\n",
    "    return x * 3\n",
    "\n",
    "def applyfunc(x, funcs):\n",
    "    return [f(x) for f in funcs]\n",
    "\n",
    "print(applyfunc(5, [double, triple]))"
   ]
  },
  {
   "cell_type": "code",
   "execution_count": 11,
   "id": "eb2c8dcc",
   "metadata": {},
   "outputs": [
    {
     "name": "stdout",
     "output_type": "stream",
     "text": [
      "['Alice', 'Bob', 'Charlie']\n"
     ]
    }
   ],
   "source": [
    "# 7. Sort a list using a function as a key\n",
    "\n",
    "names = ['Alice', 'Bob', 'Charlie']\n",
    "\n",
    "def lowercase(name):\n",
    "    return name.lower()\n",
    "\n",
    "sortednames = sorted(names, key=lowercase)\n",
    "\n",
    "print(sortednames)"
   ]
  },
  {
   "cell_type": "code",
   "execution_count": 12,
   "id": "d1741bba",
   "metadata": {},
   "outputs": [
    {
     "name": "stdout",
     "output_type": "stream",
     "text": [
      "[1, 4, 9, 16, 25]\n"
     ]
    }
   ],
   "source": [
    "# 8. Map function over a list\n",
    "\n",
    "numbers = [1,2,3,4,5]\n",
    "\n",
    "def square(n):\n",
    "    return n ** 2\n",
    "\n",
    "squarednumbers = list(map(square, numbers))\n",
    "\n",
    "print(squarednumbers)"
   ]
  },
  {
   "cell_type": "code",
   "execution_count": 13,
   "id": "90de1ef3",
   "metadata": {},
   "outputs": [
    {
     "name": "stdout",
     "output_type": "stream",
     "text": [
      "[2, 4, 6]\n"
     ]
    }
   ],
   "source": [
    "# 9. Filter a list using a function\n",
    "\n",
    "def iseven(n):\n",
    "    return n % 2 == 0\n",
    "\n",
    "nums = [1,2,3,4,5,6]\n",
    "\n",
    "evennums = list(filter(iseven, nums))\n",
    "\n",
    "print(evennums)"
   ]
  },
  {
   "cell_type": "code",
   "execution_count": 16,
   "id": "1ca1f50e",
   "metadata": {},
   "outputs": [
    {
     "name": "stdout",
     "output_type": "stream",
     "text": [
      "12\n"
     ]
    }
   ],
   "source": [
    "# 10. Compose functions dynamically\n",
    "\n",
    "def add1(x):\n",
    "    return x + 1\n",
    "\n",
    "def times2(x):\n",
    "    return x * 2\n",
    "\n",
    "funcs = [add1, times2]\n",
    "\n",
    "value = 5\n",
    "\n",
    "for f in funcs:\n",
    "    value = f(value)\n",
    "\n",
    "print(value)"
   ]
  },
  {
   "cell_type": "code",
   "execution_count": null,
   "id": "c04fe888",
   "metadata": {},
   "outputs": [],
   "source": []
  }
 ],
 "metadata": {
  "kernelspec": {
   "display_name": "churn-env",
   "language": "python",
   "name": "python3"
  },
  "language_info": {
   "codemirror_mode": {
    "name": "ipython",
    "version": 3
   },
   "file_extension": ".py",
   "mimetype": "text/x-python",
   "name": "python",
   "nbconvert_exporter": "python",
   "pygments_lexer": "ipython3",
   "version": "3.10.18"
  }
 },
 "nbformat": 4,
 "nbformat_minor": 5
}
