{
 "cells": [
  {
   "cell_type": "code",
   "execution_count": 1,
   "id": "e8e948b4-efe2-43d1-8ee2-e01292499430",
   "metadata": {},
   "outputs": [
    {
     "name": "stdout",
     "output_type": "stream",
     "text": [
      "3\n",
      "6\n",
      "10\n",
      "15\n"
     ]
    }
   ],
   "source": [
    "# Write a function sum_all that accepts any number of positional arguments and returns their sum.\n",
    "\n",
    "def sumall(*args):\n",
    "    return sum(args)\n",
    "\n",
    "print(sumall(1,2))\n",
    "print(sumall(1,2, 3))\n",
    "print(sumall(1,2, 3, 4))\n",
    "print(sumall(1,2, 3, 4, 5))"
   ]
  },
  {
   "cell_type": "code",
   "execution_count": 4,
   "id": "a68973f0-44a8-4fe8-bdf2-c42278177fe1",
   "metadata": {},
   "outputs": [
    {
     "name": "stdout",
     "output_type": "stream",
     "text": [
      "name = Alice\n",
      "age = 30\n",
      "None\n",
      "Language = Alice\n",
      "version = 3.1\n",
      "None\n"
     ]
    }
   ],
   "source": [
    "# Write a function print_info that accepts any number of keyword arguments and prints each key–value pair in the format: \"key = value\".\n",
    "\n",
    "def printinfo(**kwargs):\n",
    "    for key, value in kwargs.items():\n",
    "        print(f\"{key} = {value}\")\n",
    "\n",
    "\n",
    "print(printinfo(name=\"Alice\", age=30))\n",
    "print(printinfo(Language=\"Alice\", version=3.10))"
   ]
  },
  {
   "cell_type": "code",
   "execution_count": 6,
   "id": "7c48e047-e3db-444a-a9ed-132eae161aa1",
   "metadata": {},
   "outputs": [
    {
     "name": "stdout",
     "output_type": "stream",
     "text": [
      "12\n"
     ]
    }
   ],
   "source": [
    "# You have a tuple (3, 4). Write a function multiply(a, b) and call it using tuple unpacking.\n",
    "\n",
    "def multiply(a,b):\n",
    "    return a * b\n",
    "\n",
    "numbers = (3,4)\n",
    "\n",
    "result = multiply(*numbers)\n",
    "\n",
    "print(result)"
   ]
  },
  {
   "cell_type": "code",
   "execution_count": null,
   "id": "c849553f-ad31-42c7-94d9-74d5c37367a0",
   "metadata": {},
   "outputs": [],
   "source": []
  }
 ],
 "metadata": {
  "kernelspec": {
   "display_name": "Python [conda env:base] *",
   "language": "python",
   "name": "conda-base-py"
  },
  "language_info": {
   "codemirror_mode": {
    "name": "ipython",
    "version": 3
   },
   "file_extension": ".py",
   "mimetype": "text/x-python",
   "name": "python",
   "nbconvert_exporter": "python",
   "pygments_lexer": "ipython3",
   "version": "3.12.3"
  }
 },
 "nbformat": 4,
 "nbformat_minor": 5
}
