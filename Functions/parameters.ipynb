{
 "cells": [
  {
   "cell_type": "code",
   "execution_count": 1,
   "id": "b8378dca",
   "metadata": {},
   "outputs": [
    {
     "name": "stdout",
     "output_type": "stream",
     "text": [
      "Hello Alice, you are 25 years old\n"
     ]
    }
   ],
   "source": [
    "# Write a function greet that takes two positional arguments: name and age, and prints \"Hello {name}, you are {age} years old\".\n",
    "\n",
    "def greet(name, age):\n",
    "    print(f\"Hello {name}, you are {age} years old\")\n",
    "\n",
    "greet(\"Alice\", 25)"
   ]
  },
  {
   "cell_type": "code",
   "execution_count": 4,
   "id": "eb0174a9",
   "metadata": {},
   "outputs": [
    {
     "name": "stdout",
     "output_type": "stream",
     "text": [
      "The sum is: 10\n"
     ]
    }
   ],
   "source": [
    "# Create a function calculate that takes two keyword arguments a and b and prints their sum.\n",
    "\n",
    "def calculate(*, a, b):\n",
    "    print(f\"The sum is: {a+b}\")\n",
    "\n",
    "calculate(a=5, b=5)"
   ]
  },
  {
   "cell_type": "code",
   "execution_count": 6,
   "id": "9f12b697",
   "metadata": {},
   "outputs": [
    {
     "name": "stdout",
     "output_type": "stream",
     "text": [
      "I am from India\n",
      "I am from Japan\n"
     ]
    }
   ],
   "source": [
    "# Implement a function describe with a default parameter country=\"India\" and print \"I am from {country}\".\n",
    "\n",
    "def describe(country=\"India\"):\n",
    "    print(f\"I am from {country}\")\n",
    "\n",
    "describe()\n",
    "describe(\"Japan\")"
   ]
  },
  {
   "cell_type": "code",
   "execution_count": 7,
   "id": "7511d1e7",
   "metadata": {},
   "outputs": [
    {
     "name": "stdout",
     "output_type": "stream",
     "text": [
      "10\n"
     ]
    }
   ],
   "source": [
    "# Write a function sum_numbers using *args to sum all given numbers.\n",
    "\n",
    "def sum_numbers(*args):\n",
    "    return print(sum(args))\n",
    "\n",
    "sum_numbers(1,2,3,4)"
   ]
  },
  {
   "cell_type": "code",
   "execution_count": 9,
   "id": "5798ab2f",
   "metadata": {},
   "outputs": [
    {
     "name": "stdout",
     "output_type": "stream",
     "text": [
      "name: Mohan\n",
      "age: 30\n",
      "country: India\n"
     ]
    }
   ],
   "source": [
    "# Create a function display_info using **kwargs that prints all key-value pairs passed to it.\n",
    "\n",
    "def info(**kwargs):\n",
    "    for key, value in kwargs.items():\n",
    "        print(f\"{key}: {value}\")\n",
    "\n",
    "\n",
    "info(name=\"Mohan\", age=30, country=\"India\")"
   ]
  },
  {
   "cell_type": "code",
   "execution_count": 11,
   "id": "6b06f0da",
   "metadata": {},
   "outputs": [
    {
     "name": "stdout",
     "output_type": "stream",
     "text": [
      "Name: Mohan, Seat Type: window\n",
      "Name: Mohan, Seat Type: Aisle\n"
     ]
    }
   ],
   "source": [
    "# Write a function book_ticket that requires name (positional) and *, seat_type (keyword-only) and prints both.\n",
    "\n",
    "def ticketbooking(name, *, seat_type):\n",
    "    print(f\"Name: {name}, Seat Type: {seat_type}\")\n",
    "\n",
    "\n",
    "ticketbooking(\"Mohan\", seat_type=\"window\")\n",
    "ticketbooking(\"Mohan\", seat_type=\"Aisle\")"
   ]
  },
  {
   "cell_type": "code",
   "execution_count": 14,
   "id": "075084fe",
   "metadata": {},
   "outputs": [
    {
     "name": "stdout",
     "output_type": "stream",
     "text": [
      "Name: Mohan, Seat type: Economy\n",
      "Name: Mohan, Seat type: Business\n"
     ]
    }
   ],
   "source": [
    "# Modify book_ticket so that seat_type defaults to \"Economy\".\n",
    "\n",
    "def book_ticket(name, *, seat_type=\"Economy\"):\n",
    "    print(f\"Name: {name}, Seat type: {seat_type}\")\n",
    "\n",
    "\n",
    "book_ticket(\"Mohan\")\n",
    "book_ticket(\"Mohan\", seat_type=\"Business\")"
   ]
  },
  {
   "cell_type": "code",
   "execution_count": 16,
   "id": "a314bf68",
   "metadata": {},
   "outputs": [
    {
     "name": "stdout",
     "output_type": "stream",
     "text": [
      "Item: Biriyani, Quantity: 2, Spice Level: Medium\n"
     ]
    }
   ],
   "source": [
    "# Create a function order_food that takes item and *, quantity, spice_level and prints the order details.\n",
    "\n",
    "def order_food(item, *, quantity, spice_level):\n",
    "    print(f\"Item: {item}, Quantity: {quantity}, Spice Level: {spice_level}\")\n",
    "\n",
    "order_food(\"Biriyani\", quantity=2, spice_level=\"Medium\")"
   ]
  },
  {
   "cell_type": "code",
   "execution_count": 18,
   "id": "d5d3948f",
   "metadata": {},
   "outputs": [
    {
     "name": "stdout",
     "output_type": "stream",
     "text": [
      "Username: mohan\n",
      "Password: securepassword\n",
      "Is Admin: True\n",
      "Email: mohan@gmail.com\n"
     ]
    }
   ],
   "source": [
    "# Write a function create_user that requires username, password (positional) and keyword-only parameters is_admin, email.\n",
    "\n",
    "def createuser(username, password, *, isadmin, email):\n",
    "    print(f\"Username: {username}\")\n",
    "    print(f\"Password: {password}\")\n",
    "    print(f\"Is Admin: {isadmin}\")\n",
    "    print(f\"Email: {email}\")\n",
    "\n",
    "\n",
    "createuser(\"mohan\", \"securepassword\", isadmin=True, email=\"mohan@gmail.com\")\n"
   ]
  },
  {
   "cell_type": "code",
   "execution_count": 28,
   "id": "f2e38114",
   "metadata": {},
   "outputs": [
    {
     "ename": "SyntaxError",
     "evalue": "invalid syntax (4101168028.py, line 3)",
     "output_type": "error",
     "traceback": [
      "\u001b[1;36m  Cell \u001b[1;32mIn[28], line 3\u001b[1;36m\u001b[0m\n\u001b[1;33m    def calculate_bill(*items, *, tax):\u001b[0m\n\u001b[1;37m                               ^\u001b[0m\n\u001b[1;31mSyntaxError\u001b[0m\u001b[1;31m:\u001b[0m invalid syntax\n"
     ]
    }
   ],
   "source": [
    "# Design a function calculate_bill that requires any number of positional items and a mandatory keyword-only tax percentage.\n",
    "\n",
    "def calculate_bill(*items, *, tax):\n",
    "    subtotal = sum(items)\n",
    "    total = subtotal + (subtotal * tax / 100)\n",
    "    print(f\"Subtotal: {subtotal}\")\n",
    "    print(f\"Tax {tax}%: {(subtotal * tax / 100)}\")\n",
    "    print(f\"Total Bill: {total}\")\n",
    "\n",
    "calculate_bill(100, 200, 50, tax=10)"
   ]
  },
  {
   "cell_type": "code",
   "execution_count": null,
   "id": "ba28f86e",
   "metadata": {},
   "outputs": [],
   "source": []
  }
 ],
 "metadata": {
  "kernelspec": {
   "display_name": "churn-env",
   "language": "python",
   "name": "python3"
  },
  "language_info": {
   "codemirror_mode": {
    "name": "ipython",
    "version": 3
   },
   "file_extension": ".py",
   "mimetype": "text/x-python",
   "name": "python",
   "nbconvert_exporter": "python",
   "pygments_lexer": "ipython3",
   "version": "3.10.18"
  }
 },
 "nbformat": 4,
 "nbformat_minor": 5
}
