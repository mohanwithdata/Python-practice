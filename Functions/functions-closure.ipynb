{
 "cells": [
  {
   "cell_type": "code",
   "execution_count": 1,
   "id": "35ff1158",
   "metadata": {},
   "outputs": [
    {
     "name": "stdout",
     "output_type": "stream",
     "text": [
      "30\n",
      "15\n"
     ]
    }
   ],
   "source": [
    "# 1. Basic closure capturing state\n",
    "\n",
    "def makemultiplier(factor):\n",
    "    def multiplier(num):\n",
    "        return num * factor\n",
    "    return multiplier\n",
    "\n",
    "times3 = makemultiplier(3)\n",
    "\n",
    "print(times3(10))\n",
    "print(times3(5))"
   ]
  },
  {
   "cell_type": "code",
   "execution_count": 2,
   "id": "9768da1d",
   "metadata": {},
   "outputs": [
    {
     "name": "stdout",
     "output_type": "stream",
     "text": [
      "1\n",
      "2\n",
      "3\n"
     ]
    }
   ],
   "source": [
    "# 2. Closure to count function calls\n",
    "def callcounter():\n",
    "    count = 0\n",
    "    def counter():\n",
    "        nonlocal count\n",
    "        count += 1\n",
    "        return count\n",
    "    return counter\n",
    "\n",
    "countcalls = callcounter()\n",
    "\n",
    "print(countcalls())\n",
    "print(countcalls())\n",
    "print(countcalls())"
   ]
  },
  {
   "cell_type": "code",
   "execution_count": 3,
   "id": "b57a2cec",
   "metadata": {},
   "outputs": [
    {
     "name": "stdout",
     "output_type": "stream",
     "text": [
      "25\n",
      "8\n"
     ]
    }
   ],
   "source": [
    "# 3. Closure with persistent configuration\n",
    "\n",
    "def powerfunc(exp):\n",
    "    def power(base):\n",
    "        return base ** exp\n",
    "    return power\n",
    "\n",
    "square = powerfunc(2)\n",
    "cube = powerfunc(3)\n",
    "\n",
    "print(square(5))\n",
    "print(cube(2))"
   ]
  },
  {
   "cell_type": "code",
   "execution_count": 5,
   "id": "089d8130",
   "metadata": {},
   "outputs": [
    {
     "name": "stdout",
     "output_type": "stream",
     "text": [
      "computing 4\n",
      "16\n",
      "16\n"
     ]
    }
   ],
   "source": [
    "# 4. Closure for a simple cache\n",
    "\n",
    "def cachedsquare():\n",
    "    cache = {}\n",
    "    def square(n):\n",
    "        if n not in cache:\n",
    "            print(f\"computing {n}\")\n",
    "            cache[n] = n * n\n",
    "        return cache[n]\n",
    "    return square\n",
    "\n",
    "sq = cachedsquare()\n",
    "\n",
    "print(sq(4))\n",
    "print(sq(4))"
   ]
  },
  {
   "cell_type": "code",
   "execution_count": 6,
   "id": "2fe00fbc",
   "metadata": {},
   "outputs": [
    {
     "name": "stdout",
     "output_type": "stream",
     "text": [
      "calling add with args=(3, 5)\n",
      "Returned 8\n"
     ]
    },
    {
     "data": {
      "text/plain": [
       "8"
      ]
     },
     "execution_count": 6,
     "metadata": {},
     "output_type": "execute_result"
    }
   ],
   "source": [
    "# 5. Closure-based decorator for logging\n",
    "\n",
    "def logger(func):\n",
    "    def wrapper(*args, **kwargs):\n",
    "        print(f\"calling {func.__name__} with args={args}\")\n",
    "        result = func(*args, *kwargs)\n",
    "        print(f\"Returned {result}\")\n",
    "        return result\n",
    "    return wrapper\n",
    "\n",
    "@logger\n",
    "def add(a, b):\n",
    "    return a + b\n",
    "\n",
    "add(3,5)"
   ]
  },
  {
   "cell_type": "code",
   "execution_count": 24,
   "id": "9c7a82ea",
   "metadata": {},
   "outputs": [
    {
     "name": "stdout",
     "output_type": "stream",
     "text": [
      "Hello, Mohan\n",
      "Too soon! wait a bit.\n",
      "Hello, Mohan\n"
     ]
    }
   ],
   "source": [
    "# 6. Closure-based rate limiter\n",
    "\n",
    "import time\n",
    "\n",
    "def ratelimiter(seconds):\n",
    "    lastcalled = 0\n",
    "    def decorator(func):\n",
    "        def wrapper(*args, **kwargs):\n",
    "            nonlocal lastcalled\n",
    "            now = time.time()\n",
    "            if now - lastcalled >= seconds:\n",
    "                lastcalled = now\n",
    "                return func(*args, **kwargs)\n",
    "            else:\n",
    "                print(\"Too soon! wait a bit.\")\n",
    "        return wrapper\n",
    "    return decorator\n",
    "    \n",
    "@ratelimiter(2)\n",
    "def greet(name):\n",
    "    print(f\"Hello, {name}\")\n",
    "\n",
    "greet(\"Mohan\")\n",
    "time.sleep(1)\n",
    "greet(\"Mohan\")\n",
    "time.sleep(2)\n",
    "greet(\"Mohan\")"
   ]
  },
  {
   "cell_type": "code",
   "execution_count": 25,
   "id": "68c2a803",
   "metadata": {},
   "outputs": [
    {
     "name": "stdout",
     "output_type": "stream",
     "text": [
      "101\n",
      "102\n"
     ]
    }
   ],
   "source": [
    "# 7. Closure to generate sequential IDs\n",
    "\n",
    "def idgenerator(start=0):\n",
    "    current = start\n",
    "    def getnext():\n",
    "        nonlocal current\n",
    "        current += 1\n",
    "        return current\n",
    "    return getnext\n",
    "\n",
    "gen = idgenerator(100)\n",
    "print(gen())\n",
    "print(gen())"
   ]
  },
  {
   "cell_type": "code",
   "execution_count": 26,
   "id": "4b7e84d4",
   "metadata": {},
   "outputs": [
    {
     "name": "stdout",
     "output_type": "stream",
     "text": [
      "slowfunction took 1.0019 sec\n"
     ]
    },
    {
     "data": {
      "text/plain": [
       "'Done'"
      ]
     },
     "execution_count": 26,
     "metadata": {},
     "output_type": "execute_result"
    }
   ],
   "source": [
    "# 8. Decorator using closure for execution time\n",
    "\n",
    "import time\n",
    "\n",
    "def timing(func):\n",
    "    def wrapper(*args, **kwargs):\n",
    "        start = time.time()\n",
    "        result = func(*args, **kwargs)\n",
    "        end = time.time()\n",
    "        print(f\"{func.__name__} took {end - start:.4f} sec\")\n",
    "        return result\n",
    "    return wrapper\n",
    "\n",
    "@timing\n",
    "def slowfunction():\n",
    "    time.sleep(1)\n",
    "    return \"Done\"\n",
    "\n",
    "slowfunction()"
   ]
  },
  {
   "cell_type": "code",
   "execution_count": 29,
   "id": "e5c88d9a",
   "metadata": {},
   "outputs": [
    {
     "name": "stdout",
     "output_type": "stream",
     "text": [
      "835.0\n"
     ]
    }
   ],
   "source": [
    "# 9. Closure for unit conversion\n",
    "\n",
    "def unitconverter(rate):\n",
    "    def convert(amount):\n",
    "        return amount * rate\n",
    "    return convert\n",
    "\n",
    "usdtoinr = unitconverter(83.5)\n",
    "\n",
    "print(usdtoinr(10))"
   ]
  },
  {
   "cell_type": "code",
   "execution_count": 31,
   "id": "de6d27b1",
   "metadata": {},
   "outputs": [
    {
     "name": "stdout",
     "output_type": "stream",
     "text": [
      "Hello\n",
      "Hello\n"
     ]
    }
   ],
   "source": [
    "# 10. Closure with multi-level decorators\n",
    "\n",
    "def repeat(n):\n",
    "    def decorator(func):\n",
    "        def wrapper(*args, **kwargs):\n",
    "            for i in range(n):\n",
    "                func(*args, **kwargs)\n",
    "        return wrapper\n",
    "    return decorator\n",
    "\n",
    "@repeat(2)\n",
    "def hello():\n",
    "    print(\"Hello\")\n",
    "\n",
    "hello()"
   ]
  },
  {
   "cell_type": "code",
   "execution_count": null,
   "id": "3b10dc34",
   "metadata": {},
   "outputs": [],
   "source": []
  }
 ],
 "metadata": {
  "kernelspec": {
   "display_name": "churn-env",
   "language": "python",
   "name": "python3"
  },
  "language_info": {
   "codemirror_mode": {
    "name": "ipython",
    "version": 3
   },
   "file_extension": ".py",
   "mimetype": "text/x-python",
   "name": "python",
   "nbconvert_exporter": "python",
   "pygments_lexer": "ipython3",
   "version": "3.10.18"
  }
 },
 "nbformat": 4,
 "nbformat_minor": 5
}
