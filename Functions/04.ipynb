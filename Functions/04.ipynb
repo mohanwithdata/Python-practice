{
 "cells": [
  {
   "cell_type": "markdown",
   "id": "a47a0084",
   "metadata": {},
   "source": [
    "Define info(city, country) and try calling it with city='Delhi', 'India'."
   ]
  },
  {
   "cell_type": "code",
   "execution_count": 1,
   "id": "3965237f",
   "metadata": {},
   "outputs": [],
   "source": [
    "def info(city, country):\n",
    "    return f\"{city}, {country}\""
   ]
  },
  {
   "cell_type": "code",
   "execution_count": 2,
   "id": "9cf70f87",
   "metadata": {},
   "outputs": [
    {
     "ename": "SyntaxError",
     "evalue": "positional argument follows keyword argument (1516232601.py, line 1)",
     "output_type": "error",
     "traceback": [
      "\u001b[1;36m  Cell \u001b[1;32mIn[2], line 1\u001b[1;36m\u001b[0m\n\u001b[1;33m    info(city=\"Delhi\", \"India\")\u001b[0m\n\u001b[1;37m                              ^\u001b[0m\n\u001b[1;31mSyntaxError\u001b[0m\u001b[1;31m:\u001b[0m positional argument follows keyword argument\n"
     ]
    }
   ],
   "source": [
    "info(city=\"Delhi\", \"India\")"
   ]
  },
  {
   "cell_type": "code",
   "execution_count": 3,
   "id": "6ca83a66",
   "metadata": {},
   "outputs": [
    {
     "name": "stdout",
     "output_type": "stream",
     "text": [
      "Delhi, India\n"
     ]
    }
   ],
   "source": [
    "print(info(\"Delhi\", \"India\"))"
   ]
  },
  {
   "cell_type": "code",
   "execution_count": 4,
   "id": "fc05e9a4",
   "metadata": {},
   "outputs": [
    {
     "name": "stdout",
     "output_type": "stream",
     "text": [
      "Delhi, India\n"
     ]
    }
   ],
   "source": [
    "print(info(city=\"Delhi\", country=\"India\"))"
   ]
  },
  {
   "cell_type": "code",
   "execution_count": null,
   "id": "9a99140d",
   "metadata": {},
   "outputs": [],
   "source": []
  }
 ],
 "metadata": {
  "kernelspec": {
   "display_name": "churn-env",
   "language": "python",
   "name": "python3"
  },
  "language_info": {
   "codemirror_mode": {
    "name": "ipython",
    "version": 3
   },
   "file_extension": ".py",
   "mimetype": "text/x-python",
   "name": "python",
   "nbconvert_exporter": "python",
   "pygments_lexer": "ipython3",
   "version": "3.10.18"
  }
 },
 "nbformat": 4,
 "nbformat_minor": 5
}
