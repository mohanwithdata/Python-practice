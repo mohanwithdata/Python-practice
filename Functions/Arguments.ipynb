{
 "cells": [
  {
   "cell_type": "code",
   "execution_count": 1,
   "id": "e8e948b4-efe2-43d1-8ee2-e01292499430",
   "metadata": {},
   "outputs": [
    {
     "name": "stdout",
     "output_type": "stream",
     "text": [
      "3\n",
      "6\n",
      "10\n",
      "15\n"
     ]
    }
   ],
   "source": [
    "# Write a function sum_all that accepts any number of positional arguments and returns their sum.\n",
    "\n",
    "def sumall(*args):\n",
    "    return sum(args)\n",
    "\n",
    "print(sumall(1,2))\n",
    "print(sumall(1,2, 3))\n",
    "print(sumall(1,2, 3, 4))\n",
    "print(sumall(1,2, 3, 4, 5))"
   ]
  },
  {
   "cell_type": "code",
   "execution_count": 4,
   "id": "a68973f0-44a8-4fe8-bdf2-c42278177fe1",
   "metadata": {},
   "outputs": [
    {
     "name": "stdout",
     "output_type": "stream",
     "text": [
      "name = Alice\n",
      "age = 30\n",
      "None\n",
      "Language = Alice\n",
      "version = 3.1\n",
      "None\n"
     ]
    }
   ],
   "source": [
    "# Write a function print_info that accepts any number of keyword arguments and prints each key–value pair in the format: \"key = value\".\n",
    "\n",
    "def printinfo(**kwargs):\n",
    "    for key, value in kwargs.items():\n",
    "        print(f\"{key} = {value}\")\n",
    "\n",
    "\n",
    "print(printinfo(name=\"Alice\", age=30))\n",
    "print(printinfo(Language=\"Alice\", version=3.10))"
   ]
  },
  {
   "cell_type": "code",
   "execution_count": 6,
   "id": "7c48e047-e3db-444a-a9ed-132eae161aa1",
   "metadata": {},
   "outputs": [
    {
     "name": "stdout",
     "output_type": "stream",
     "text": [
      "12\n"
     ]
    }
   ],
   "source": [
    "# You have a tuple (3, 4). Write a function multiply(a, b) and call it using tuple unpacking.\n",
    "\n",
    "def multiply(a,b):\n",
    "    return a * b\n",
    "\n",
    "numbers = (3,4)\n",
    "\n",
    "result = multiply(*numbers)\n",
    "\n",
    "print(result)"
   ]
  },
  {
   "cell_type": "code",
   "execution_count": 1,
   "id": "c849553f-ad31-42c7-94d9-74d5c37367a0",
   "metadata": {},
   "outputs": [
    {
     "name": "stdout",
     "output_type": "stream",
     "text": [
      "16\n"
     ]
    }
   ],
   "source": [
    "# You have a dictionary {'x': 7, 'y': 9}. Write a function add(x, y) and call it using dictionary unpacking.\n",
    "\n",
    "def add(x, y):\n",
    "    return x+y\n",
    "\n",
    "values = {'x':7, 'y':9}\n",
    "\n",
    "result = add(**values)\n",
    "\n",
    "print(result)"
   ]
  },
  {
   "cell_type": "code",
   "execution_count": 7,
   "id": "fa92c594",
   "metadata": {},
   "outputs": [
    {
     "name": "stdout",
     "output_type": "stream",
     "text": [
      "a=1, b=2, c=3, args=(4, 5), d=6, e=5, kwargs=(dict_keys(['f']), dict_values([7]))\n"
     ]
    }
   ],
   "source": [
    "# Create a function with parameters in the order: positional-only, positional-or-keyword, *args, keyword-only, and **kwargs. Call it in different valid and invalid ways to understand ordering rules.\n",
    "\n",
    "def demo(a, b, /, c, *args, d, e=5, **kwargs):\n",
    "    print(f\"a={a}, b={b}, c={c}, args={args}, d={d}, e={e}, kwargs={kwargs.keys(), kwargs.values()}\")\n",
    "\n",
    "demo(1,2,3,4,5,d=6, f=7)"
   ]
  },
  {
   "cell_type": "code",
   "execution_count": 8,
   "id": "7b86954c",
   "metadata": {},
   "outputs": [
    {
     "name": "stdout",
     "output_type": "stream",
     "text": [
      "args = (1, 2, 3)\n",
      "kwargs = {'name': 'Alice', 'age': 30}\n"
     ]
    }
   ],
   "source": [
    "# Write a function outer that accepts *args and **kwargs and passes them directly to another function inner without modification.\n",
    "\n",
    "def inner(*args, **kwargs):\n",
    "    print(f\"args = {args}\")\n",
    "    print(f\"kwargs = {kwargs}\")\n",
    "\n",
    "def outer(*args, **kwargs):\n",
    "    return inner(*args, **kwargs)\n",
    "\n",
    "outer(1, 2, 3, name=\"Alice\", age=30)"
   ]
  },
  {
   "cell_type": "code",
   "execution_count": 10,
   "id": "9452aeef",
   "metadata": {},
   "outputs": [
    {
     "name": "stdout",
     "output_type": "stream",
     "text": [
      "(1, 2, 3)\n"
     ]
    }
   ],
   "source": [
    "#Write a function combine(a, b, c) and call it by unpacking elements from two different tuples into a single call.\n",
    "\n",
    "def combine(a, b, c):\n",
    "    return (a, b, c)\n",
    "\n",
    "\n",
    "t1 = (1,)\n",
    "\n",
    "t2 = (2, 3)\n",
    "\n",
    "result = combine(*t1, *t2)\n",
    "\n",
    "print(result)"
   ]
  },
  {
   "cell_type": "code",
   "execution_count": 12,
   "id": "82e74995",
   "metadata": {},
   "outputs": [
    {
     "name": "stdout",
     "output_type": "stream",
     "text": [
      "{'a': 1, 'b': 3, 'c': 4}\n"
     ]
    }
   ],
   "source": [
    "# Given two dictionaries d1 and d2, write a one-line function that merges them using ** unpacking and returns the merged dictionary.\n",
    "\n",
    "def mergedict(d1, d2):\n",
    "    return {**d1, **d2}\n",
    "\n",
    "d1 = {'a': 1, 'b': 2}\n",
    "d2 = {'b': 3, 'c': 4}\n",
    "\n",
    "merged = mergedict(d1, d2)\n",
    "\n",
    "print(merged)"
   ]
  },
  {
   "cell_type": "code",
   "execution_count": 13,
   "id": "f0780b6d",
   "metadata": {},
   "outputs": [
    {
     "name": "stdout",
     "output_type": "stream",
     "text": [
      "hello alice, you are age yold\n",
      "12\n"
     ]
    }
   ],
   "source": [
    "# Write a function call_func(func, *args, **kwargs) that takes another function as the first argument, along with any positional/keyword arguments, and calls it dynamically.\n",
    "\n",
    "def callfunc(func, *args, **kwargs):\n",
    "    return func(*args, *kwargs)\n",
    "\n",
    "def greet(name, age):\n",
    "    return f\"hello {name}, you are {age} yold\"\n",
    "\n",
    "def add(a, b):\n",
    "    return a+b\n",
    "\n",
    "result1 = callfunc(greet, \"alice\", age=30)\n",
    "\n",
    "result2 = callfunc(add, 5, 7)\n",
    "\n",
    "print(result1)\n",
    "print(result2)"
   ]
  },
  {
   "cell_type": "code",
   "execution_count": null,
   "id": "c2a155c3",
   "metadata": {},
   "outputs": [],
   "source": []
  }
 ],
 "metadata": {
  "kernelspec": {
   "display_name": "churn-env",
   "language": "python",
   "name": "python3"
  },
  "language_info": {
   "codemirror_mode": {
    "name": "ipython",
    "version": 3
   },
   "file_extension": ".py",
   "mimetype": "text/x-python",
   "name": "python",
   "nbconvert_exporter": "python",
   "pygments_lexer": "ipython3",
   "version": "3.10.18"
  }
 },
 "nbformat": 4,
 "nbformat_minor": 5
}
