{
 "cells": [
  {
   "cell_type": "markdown",
   "id": "9269e558",
   "metadata": {},
   "source": [
    "Define a function greet(name, msg) and call it using only keyword arguments in a different order."
   ]
  },
  {
   "cell_type": "code",
   "execution_count": 1,
   "id": "5db5f27a",
   "metadata": {},
   "outputs": [
    {
     "name": "stdout",
     "output_type": "stream",
     "text": [
      "Good Moring, Mohan!\n"
     ]
    }
   ],
   "source": [
    "def greet(name, msg):\n",
    "    return f\"{msg}, {name}!\"\n",
    "\n",
    "message = greet(msg=\"Good Moring\", name=\"Mohan\")\n",
    "\n",
    "print(message)"
   ]
  },
  {
   "cell_type": "code",
   "execution_count": null,
   "id": "a0871bf7",
   "metadata": {},
   "outputs": [],
   "source": []
  }
 ],
 "metadata": {
  "kernelspec": {
   "display_name": "churn-env",
   "language": "python",
   "name": "python3"
  },
  "language_info": {
   "codemirror_mode": {
    "name": "ipython",
    "version": 3
   },
   "file_extension": ".py",
   "mimetype": "text/x-python",
   "name": "python",
   "nbconvert_exporter": "python",
   "pygments_lexer": "ipython3",
   "version": "3.10.18"
  }
 },
 "nbformat": 4,
 "nbformat_minor": 5
}
