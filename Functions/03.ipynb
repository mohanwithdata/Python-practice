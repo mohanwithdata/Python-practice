{
 "cells": [
  {
   "cell_type": "code",
   "execution_count": 2,
   "id": "9148ca5f",
   "metadata": {},
   "outputs": [],
   "source": [
    "def student(name, age, grade):\n",
    "    return f\"Name: {name}, age: {age}, Grade: {grade}\"\n",
    "\n",
    "info = student(\"Mohan\", age=15, grade=\"10th\")"
   ]
  },
  {
   "cell_type": "code",
   "execution_count": 3,
   "id": "67f97ee6",
   "metadata": {},
   "outputs": [
    {
     "name": "stdout",
     "output_type": "stream",
     "text": [
      "Name: Mohan, age: 15, Grade: 10th\n"
     ]
    }
   ],
   "source": [
    "print(info)"
   ]
  },
  {
   "cell_type": "code",
   "execution_count": null,
   "id": "63a4a2bf",
   "metadata": {},
   "outputs": [],
   "source": []
  }
 ],
 "metadata": {
  "kernelspec": {
   "display_name": "churn-env",
   "language": "python",
   "name": "python3"
  },
  "language_info": {
   "codemirror_mode": {
    "name": "ipython",
    "version": 3
   },
   "file_extension": ".py",
   "mimetype": "text/x-python",
   "name": "python",
   "nbconvert_exporter": "python",
   "pygments_lexer": "ipython3",
   "version": "3.10.18"
  }
 },
 "nbformat": 4,
 "nbformat_minor": 5
}
