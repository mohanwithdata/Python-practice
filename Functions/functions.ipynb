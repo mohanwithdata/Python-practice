{
 "cells": [
  {
   "cell_type": "code",
   "execution_count": null,
   "id": "2bba732a",
   "metadata": {},
   "outputs": [
    {
     "data": {
      "text/plain": [
       "20"
      ]
     },
     "execution_count": 1,
     "metadata": {},
     "output_type": "execute_result"
    }
   ],
   "source": [
    "# Create a function multiply(a, b) and use functools.partial to create a new function that always multiplies by 2.\n",
    "\n",
    "from functools import partial\n",
    "\n",
    "def multiply(a, b):\n",
    "    return a * b\n",
    "\n",
    "multiplyby2 = partial(multiply, 2)\n",
    "\n",
    "multiplyby2(10)"
   ]
  },
  {
   "cell_type": "code",
   "execution_count": 2,
   "id": "322e50e8",
   "metadata": {},
   "outputs": [
    {
     "data": {
      "text/plain": [
       "'Hello, Mohan'"
      ]
     },
     "execution_count": 2,
     "metadata": {},
     "output_type": "execute_result"
    }
   ],
   "source": [
    "# Write a function greet(name, greeting) and create a partial function that always uses \"Hello\" as the greeting.\n",
    "\n",
    "from functools import partial\n",
    "\n",
    "def greet(name, greeting):\n",
    "    return f\"{greeting}, {name}\"\n",
    "\n",
    "hello = partial(greet, greeting=\"Hello\")\n",
    "\n",
    "hello(\"Mohan\")"
   ]
  },
  {
   "cell_type": "code",
   "execution_count": 3,
   "id": "3458d470",
   "metadata": {},
   "outputs": [
    {
     "data": {
      "text/plain": [
       "25"
      ]
     },
     "execution_count": 3,
     "metadata": {},
     "output_type": "execute_result"
    }
   ],
   "source": [
    "# Create a function power(base, exponent) and use a partial function to always square a number.\n",
    "\n",
    "from functools import partial\n",
    "\n",
    "def power(base, exponent):\n",
    "    return base ** exponent\n",
    "\n",
    "square = partial(power, exponent=2)\n",
    "\n",
    "square(5)"
   ]
  },
  {
   "cell_type": "code",
   "execution_count": 7,
   "id": "75cd6672",
   "metadata": {},
   "outputs": [
    {
     "name": "stdout",
     "output_type": "stream",
     "text": [
      "212.0\n",
      "100.0\n"
     ]
    }
   ],
   "source": [
    "# Create a function convert_temp(value, unit) that converts between Celsius and Fahrenheit. Use partial functions to create c_to_f and f_to_c.\n",
    "\n",
    "def converttemp(value, unit):\n",
    "    if unit == \"C\":\n",
    "        return (value - 32)*5/9\n",
    "    elif unit == \"F\":\n",
    "        return (value * 9/5) + 32\n",
    "    else:\n",
    "        raise ValueError(\"Unit must be 'C' or 'F'\")\n",
    "    \n",
    "ctof = partial(converttemp, unit=\"F\")\n",
    "ftoc = partial(converttemp, unit=\"C\")\n",
    "\n",
    "print(ctof(100))\n",
    "print(ftoc(212))"
   ]
  },
  {
   "cell_type": "code",
   "execution_count": 11,
   "id": "a0dcc9e6",
   "metadata": {},
   "outputs": [
    {
     "data": {
      "text/plain": [
       "'https://example.com/home'"
      ]
     },
     "execution_count": 11,
     "metadata": {},
     "output_type": "execute_result"
    }
   ],
   "source": [
    "# Write a function build_url(domain, protocol, path) and use partial functions to fix the protocol as \"https\".\n",
    "\n",
    "from functools import partial\n",
    "\n",
    "def buildurl(domain, protocol, path):\n",
    "    return f\"{protocol}://{domain}/{path}\"\n",
    "\n",
    "httpsurl = partial(buildurl, protocol=\"https\")\n",
    "\n",
    "httpsurl(\"example.com\", path=\"home\")"
   ]
  },
  {
   "cell_type": "code",
   "execution_count": 12,
   "id": "2afea1dc",
   "metadata": {},
   "outputs": [
    {
     "data": {
      "text/plain": [
       "180.0"
      ]
     },
     "execution_count": 12,
     "metadata": {},
     "output_type": "execute_result"
    }
   ],
   "source": [
    "# Create a function calculate_tax(amount, tax_rate) and use a partial function to fix tax_rate at 18%.\n",
    "\n",
    "from functools import partial\n",
    "\n",
    "def calculatetax(amount, taxrate):\n",
    "    return amount * taxrate / 100\n",
    "\n",
    "calculategst = partial(calculatetax, taxrate=18)\n",
    "\n",
    "calculategst(1000)"
   ]
  },
  {
   "cell_type": "code",
   "execution_count": 14,
   "id": "c1fb8748",
   "metadata": {},
   "outputs": [
    {
     "name": "stdout",
     "output_type": "stream",
     "text": [
      "[('Charlie', 35), ('Alice', 30), ('Bob', 25)]\n"
     ]
    }
   ],
   "source": [
    "from functools import partial\n",
    "\n",
    "people = [(\"Alice\", 30), (\"Bob\", 25), (\"Charlie\", 35)]\n",
    "\n",
    "sortbyagedesc = partial(sorted, key=lambda x: x[1], reverse=True)\n",
    "\n",
    "sortedpeople = sortbyagedesc(people)\n",
    "print(sortedpeople)"
   ]
  },
  {
   "cell_type": "code",
   "execution_count": 16,
   "id": "d2947302",
   "metadata": {},
   "outputs": [
    {
     "name": "stdout",
     "output_type": "stream",
     "text": [
      "[2025-08-18 21:43:38.626824] INFO: System started\n",
      "[2025-08-18 21:43:38.626824] INFO: User logged in\n"
     ]
    }
   ],
   "source": [
    "# Write a function log_message(msg, level, timestamp) and use partial functions to always log messages with level \"INFO\".\n",
    "\n",
    "from functools import partial\n",
    "from datetime import datetime\n",
    "\n",
    "def logmessage(msg, level, timestamp):\n",
    "    print(f\"[{timestamp}] {level}: {msg}\")\n",
    "\n",
    "loginfo = partial(logmessage, level=\"INFO\")\n",
    "\n",
    "loginfo(\"System started\", timestamp=datetime.now())\n",
    "loginfo(\"User logged in\", timestamp=datetime.now())"
   ]
  },
  {
   "cell_type": "code",
   "execution_count": 19,
   "id": "a429c817",
   "metadata": {},
   "outputs": [
    {
     "name": "stdout",
     "output_type": "stream",
     "text": [
      "13\n",
      "19\n",
      "16\n",
      "25\n"
     ]
    }
   ],
   "source": [
    "# Create a generic multiply_add(a, b, c) function. Use partial functions to generate double_then_add_5 and triple_then_add_10.\n",
    "\n",
    "from functools import partial\n",
    "\n",
    "def multiplyadd(a, b, c):\n",
    "    return a * b + c\n",
    "\n",
    "doublethenadd5 = partial(multiplyadd, b=2, c=5)\n",
    "triplethenadd10 = partial(multiplyadd, b=3, c=10)\n",
    "\n",
    "print(doublethenadd5(4))\n",
    "print(doublethenadd5(7))\n",
    "print(triplethenadd10(2))\n",
    "print(triplethenadd10(5))"
   ]
  },
  {
   "cell_type": "code",
   "execution_count": 21,
   "id": "c04f63dc",
   "metadata": {},
   "outputs": [
    {
     "name": "stdout",
     "output_type": "stream",
     "text": [
      "Attempt 1: Running 'backup_database' with timeout 10s...\n",
      "'backup_database' failed.\n",
      "Attempt 2: Running 'backup_database' with timeout 10s...\n",
      "'backup_database' succeeded!\n",
      "Attempt 1: Running 'sync_files' with timeout 10s...\n",
      "'sync_files' failed.\n",
      "Attempt 2: Running 'sync_files' with timeout 10s...\n",
      "'sync_files' failed.\n",
      "Attempt 3: Running 'sync_files' with timeout 10s...\n",
      "'sync_files' succeeded!\n"
     ]
    },
    {
     "data": {
      "text/plain": [
       "True"
      ]
     },
     "execution_count": 21,
     "metadata": {},
     "output_type": "execute_result"
    }
   ],
   "source": [
    "# Write a function run_command(command, retries, timeout) and create a partial function to fix retries=3 and timeout=10 for repeated use.\n",
    "\n",
    "from functools import partial\n",
    "import time\n",
    "import random\n",
    "\n",
    "def runcommand(command, retries, timeout):\n",
    "    for attempt in range(1, retries + 1):\n",
    "        print(f\"Attempt {attempt}: Running '{command}' with timeout {timeout}s...\")\n",
    "        time.sleep(0.5)\n",
    "        if random.random() < 0.7:\n",
    "            print(f\"'{command}' failed.\")\n",
    "        else:\n",
    "            print(f\"'{command}' succeeded!\")\n",
    "            return True\n",
    "    print(f\"'{command}' failed after {retries} retries.\")\n",
    "    return False\n",
    "\n",
    "runcommanddefault = partial(runcommand, retries=3, timeout=10)\n",
    "\n",
    "runcommanddefault(\"backup_database\")\n",
    "runcommanddefault(\"sync_files\")"
   ]
  },
  {
   "cell_type": "code",
   "execution_count": null,
   "id": "d9eddd38",
   "metadata": {},
   "outputs": [
    {
     "data": {
      "text/plain": [
       "15"
      ]
     },
     "execution_count": 23,
     "metadata": {},
     "output_type": "execute_result"
    }
   ],
   "source": [
    "# Write a function apply_operation(a, b, func) that takes two numbers and a function func as a callback to perform an operation like addition or subtraction.\n",
    "\n",
    "def applyoperation(a, b, func):\n",
    "    return  func(a, b)\n",
    "\n",
    "def add(x, y):\n",
    "    return x+y\n",
    "\n",
    "def subract(x,y):\n",
    "    return x - y\n",
    "\n",
    "def multiply(x, y):\n",
    "    return x * y\n",
    "\n",
    "applyoperation(10, 5, add)\n",
    "applyoperation(10, 5, subract)\n",
    "applyoperation(10, 5, multiply)"
   ]
  },
  {
   "cell_type": "code",
   "execution_count": null,
   "id": "bbb2d165",
   "metadata": {},
   "outputs": [
    {
     "name": "stdout",
     "output_type": "stream",
     "text": [
      "HELLO, ALICE\n",
      "***Hello, Alice***\n"
     ]
    }
   ],
   "source": [
    "# Create a function greet_user(name, formatter) where formatter is a callback that formats the greeting message before printing.\n",
    "\n",
    "def greetuser(name, formatter):\n",
    "    message = f\"Hello, {name}\"\n",
    "    formattedmessage = formatter(message)\n",
    "    print(formattedmessage)\n",
    "\n",
    "def uppercaseformatter(msg):\n",
    "    return msg.upper()\n",
    "\n",
    "def starformatter(msg):\n",
    "    return f\"***{msg}***\"\n",
    "\n",
    "greetuser(\"Alice\", uppercaseformatter)\n",
    "greetuser(\"Alice\", starformatter)\n",
    "\n"
   ]
  },
  {
   "cell_type": "code",
   "execution_count": 27,
   "id": "112841c9",
   "metadata": {},
   "outputs": [
    {
     "name": "stdout",
     "output_type": "stream",
     "text": [
      "[1, 4, 9, 16, 25]\n",
      "['Number: 1', 'Number: 2', 'Number: 3', 'Number: 4', 'Number: 5']\n"
     ]
    }
   ],
   "source": [
    "# Write a function transform_list(lst, func) that applies a callback func to each element of the list and returns the new list.\n",
    "\n",
    "def transformlist(lst, func):\n",
    "    return [func(x) for x in lst]\n",
    "\n",
    "def square(x):\n",
    "    return x ** 2\n",
    "\n",
    "def tostring(x):\n",
    "    return f\"Number: {x}\"\n",
    "\n",
    "number = [1,2,3,4,5]\n",
    "\n",
    "print(transformlist(number, square))\n",
    "print(transformlist(number, tostring))"
   ]
  },
  {
   "cell_type": "code",
   "execution_count": 30,
   "id": "ce2490fd",
   "metadata": {},
   "outputs": [
    {
     "data": {
      "text/plain": [
       "5"
      ]
     },
     "execution_count": 30,
     "metadata": {},
     "output_type": "execute_result"
    }
   ],
   "source": [
    "# Write calculator(a, b, operation) where operation is a callback that could be add, multiply, divide, or subtract. Test with multiple operations.\n",
    "\n",
    "def calculator(a, b, operation):\n",
    "    return operation(a, b)\n",
    "\n",
    "def add(x, y):\n",
    "    return x + y\n",
    "\n",
    "def subract(x, y):\n",
    "    return x - y\n",
    "\n",
    "def multiply(x, y):\n",
    "    return x * y\n",
    "\n",
    "def divide(x, y):\n",
    "    if y == 0:\n",
    "        return \"Error: Division by Zero!\"\n",
    "    return x/y\n",
    "\n",
    "a, b = 10, 5\n",
    "\n",
    "calculator(a, b, add)\n",
    "calculator(a, b, subract)"
   ]
  },
  {
   "cell_type": "code",
   "execution_count": 3,
   "id": "dc1fed45",
   "metadata": {},
   "outputs": [
    {
     "data": {
      "text/plain": [
       "[4, 16, 36]"
      ]
     },
     "execution_count": 3,
     "metadata": {},
     "output_type": "execute_result"
    }
   ],
   "source": [
    "# Create a function filter_and_apply(lst, condition, action) that applies the action callback only to elements satisfying the condition callback.\n",
    "\n",
    "def filterandapply(lst, condition, action):\n",
    "    return [action(x) for x in lst if condition(x)]\n",
    "\n",
    "def iseven(x):\n",
    "    return x % 2 == 0\n",
    "\n",
    "def square(x):\n",
    "    return x ** 2\n",
    "    \n",
    "def double(x):\n",
    "    return x * 2\n",
    "\n",
    "numbers = [1,2,3,4,5,6]\n",
    "\n",
    "filterandapply(numbers, iseven, square)"
   ]
  },
  {
   "cell_type": "code",
   "execution_count": 4,
   "id": "a46ca184",
   "metadata": {},
   "outputs": [
    {
     "data": {
      "text/plain": [
       "24.5"
      ]
     },
     "execution_count": 4,
     "metadata": {},
     "output_type": "execute_result"
    }
   ],
   "source": [
    "# Write a function process_number(num, *callbacks) that accepts multiple callbacks and applies them sequentially on num.\n",
    "\n",
    "def processnumber(num, *callbacks):\n",
    "    result = num\n",
    "    for func in callbacks:\n",
    "        result = func(result)\n",
    "    return result\n",
    "\n",
    "def addfive(x):\n",
    "    return x + 5\n",
    "\n",
    "def square(x):\n",
    "    return x ** 2\n",
    "\n",
    "def half(x):\n",
    "    return x / 2\n",
    "\n",
    "processnumber(2, addfive, square, half)"
   ]
  },
  {
   "cell_type": "code",
   "execution_count": null,
   "id": "5b83572f",
   "metadata": {},
   "outputs": [
    {
     "name": "stdout",
     "output_type": "stream",
     "text": [
      "Event 'click' triggered...\n",
      "Button clicked\n",
      "Event 'click' triggered...\n",
      "Mouse hovered\n",
      "Event 'click' triggered...\n",
      "Key pressed\n"
     ]
    }
   ],
   "source": [
    "def eventtrigger(event, callback):\n",
    "    validevents = {\"click\", \"hover\", \"keypress\"}\n",
    "\n",
    "    if event not in validevents:\n",
    "        print(f\"Unknow event: {event}\")\n",
    "\n",
    "    print(f\"Event '{event}' triggered...\")\n",
    "    callback()\n",
    "\n",
    "def onclick():\n",
    "    print(\"Button clicked\")\n",
    "\n",
    "def onhover():\n",
    "    print(\"Mouse hovered\")\n",
    "\n",
    "def onkeypress():\n",
    "    print(\"Key pressed\")\n",
    "\n",
    "eventtrigger(\"click\", onclick)  \n",
    "eventtrigger(\"click\", onhover)   \n",
    "eventtrigger(\"click\", onkeypress) "
   ]
  },
  {
   "cell_type": "code",
   "execution_count": 8,
   "id": "06c2ef6d",
   "metadata": {},
   "outputs": [
    {
     "name": "stdout",
     "output_type": "stream",
     "text": [
      "Attempt 1...\n",
      "Attempt 1 failed: Random failure\n",
      "Attempt 2...\n",
      "Action succeeded!\n"
     ]
    },
    {
     "data": {
      "text/plain": [
       "'Success!'"
      ]
     },
     "execution_count": 8,
     "metadata": {},
     "output_type": "execute_result"
    }
   ],
   "source": [
    "def retryaction(action, retries, onfail):\n",
    "    for attempt in range(1, retries + 1):\n",
    "        try:\n",
    "            print(f\"Attempt {attempt}...\")\n",
    "            return action()\n",
    "        except Exception as e:\n",
    "            print(f\"Attempt {attempt} failed: {e}\")\n",
    "\n",
    "    print(\"All retries failed. Executing onfail callback.\")\n",
    "    onfail()\n",
    "\n",
    "import random\n",
    "\n",
    "def riskyaction():\n",
    "    if random.choice([True, False]):\n",
    "        print (\"Action succeeded!\")\n",
    "        return \"Success!\"\n",
    "    else:\n",
    "        raise ValueError(\"Random failure\")\n",
    "    \n",
    "def failurehandler():\n",
    "    print(\"Action failed after retries. Handling failure...\")\n",
    "\n",
    "result = retryaction(riskyaction, retries=3, onfail=failurehandler)\n",
    "\n",
    "result"
   ]
  },
  {
   "cell_type": "code",
   "execution_count": null,
   "id": "78caaf60",
   "metadata": {},
   "outputs": [
    {
     "name": "stdout",
     "output_type": "stream",
     "text": [
      "[LOG] Calling add with args=(3,), Kwargs={'b': 4}\n",
      "[CALLBACK] add executed. Result = 7\n",
      "7\n",
      "[LOG] Calling multiply with args=(5,), Kwargs={'b': 6}\n",
      "[CALLBACK] multiply executed. Result = 30\n",
      "30\n"
     ]
    }
   ],
   "source": [
    "# Write a decorator @callback_logger(callback) that logs every call to the decorated function and also executes the callback.\n",
    "\n",
    "import functools\n",
    "\n",
    "def callbacklogger(callback):\n",
    "    def decorator(func):\n",
    "        @functools.wraps(func)\n",
    "        def wrapper(*args, **kwargs):\n",
    "            print(f\"[LOG] Calling {func.__name__} with args={args}, Kwargs={kwargs}\")\n",
    "\n",
    "            result = func(*args, **kwargs)\n",
    "\n",
    "            callback(func.__name__, args, kwargs, result)\n",
    "\n",
    "            return result\n",
    "        return wrapper\n",
    "    return decorator\n",
    "\n",
    "def mycallback(funcname, args, kwargs, result):\n",
    "    print(f\"[CALLBACK] {funcname} executed. Result = {result}\")\n",
    "\n",
    "@callbacklogger(mycallback)\n",
    "def add(a, b):\n",
    "    return a + b\n",
    "\n",
    "@callbacklogger(mycallback)\n",
    "def multiply(a, b):\n",
    "    return a * b\n",
    "\n",
    "print(add(3, b=4))\n",
    "print(multiply(5, b=6))"
   ]
  },
  {
   "cell_type": "code",
   "execution_count": 13,
   "id": "42760b7c",
   "metadata": {},
   "outputs": [
    {
     "name": "stdout",
     "output_type": "stream",
     "text": [
      "8\n",
      "15\n",
      "2\n"
     ]
    }
   ],
   "source": [
    "# Create a function select_operation(a, b, strategy) where strategy is a callback returning which operation (add, multiply, etc.) should be performed on a and b.\n",
    "\n",
    "def selectoperation(a, b, stratergy):\n",
    "    operation = stratergy()\n",
    "\n",
    "    return operation(a, b)\n",
    "\n",
    "def add(x, y):\n",
    "    return x + y\n",
    "\n",
    "def multiply(x, y):\n",
    "    return x * y\n",
    "\n",
    "def subract(x, y):\n",
    "    return x - y\n",
    "\n",
    "def chooseadd():\n",
    "    return add\n",
    "\n",
    "def choosemultiply():\n",
    "    return multiply\n",
    "\n",
    "def choosesubtract():\n",
    "    return subract\n",
    "\n",
    "print(selectoperation(5, 3, chooseadd))\n",
    "print(selectoperation(5, 3, choosemultiply))\n",
    "print(selectoperation(5, 3, choosesubtract))"
   ]
  },
  {
   "cell_type": "code",
   "execution_count": 14,
   "id": "c8c59d8f",
   "metadata": {},
   "outputs": [
    {
     "data": {
      "text/plain": [
       "120"
      ]
     },
     "execution_count": 14,
     "metadata": {},
     "output_type": "execute_result"
    }
   ],
   "source": [
    "# Write a recursive function for factorial. Then, rewrite it in tail-recursive form using an accumulator parameter.\n",
    "\n",
    "def factorialtail(n, acc=1):\n",
    "    if n == 0 or n == 1:\n",
    "        return acc\n",
    "    return factorialtail(n-1, n*acc)\n",
    "\n",
    "factorialtail(5)"
   ]
  },
  {
   "cell_type": "code",
   "execution_count": 16,
   "id": "5034dac7",
   "metadata": {},
   "outputs": [
    {
     "name": "stdout",
     "output_type": "stream",
     "text": [
      "15\n"
     ]
    }
   ],
   "source": [
    "# Implement a recursive function to compute the sum of a list. Then rewrite it to be tail-recursive.\n",
    "\n",
    "def recursivesumtail(lst, acc=0):\n",
    "    if not lst:\n",
    "        return acc\n",
    "    return recursivesumtail(lst[1:], acc + lst[0])\n",
    "\n",
    "print(recursivesumtail([1,2,3,4,5]))"
   ]
  },
  {
   "cell_type": "code",
   "execution_count": null,
   "id": "63a7bb4d",
   "metadata": {},
   "outputs": [],
   "source": []
  }
 ],
 "metadata": {
  "kernelspec": {
   "display_name": "churn-env",
   "language": "python",
   "name": "python3"
  },
  "language_info": {
   "codemirror_mode": {
    "name": "ipython",
    "version": 3
   },
   "file_extension": ".py",
   "mimetype": "text/x-python",
   "name": "python",
   "nbconvert_exporter": "python",
   "pygments_lexer": "ipython3",
   "version": "3.10.18"
  }
 },
 "nbformat": 4,
 "nbformat_minor": 5
}
