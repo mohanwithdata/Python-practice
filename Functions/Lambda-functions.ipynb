{
 "cells": [
  {
   "cell_type": "code",
   "execution_count": 1,
   "id": "4b985701",
   "metadata": {},
   "outputs": [
    {
     "name": "stdout",
     "output_type": "stream",
     "text": [
      "[(2, 1), (4, 2), (1, 3)]\n"
     ]
    }
   ],
   "source": [
    "# 1. Sort tuples by second element\n",
    "\n",
    "pairs = [(1, 3), (2, 1), (4, 2)]\n",
    "\n",
    "sortedpairs =  sorted(pairs, key=lambda x: x[1])\n",
    "\n",
    "print(sortedpairs)"
   ]
  },
  {
   "cell_type": "code",
   "execution_count": 3,
   "id": "5c59de2e",
   "metadata": {},
   "outputs": [
    {
     "name": "stdout",
     "output_type": "stream",
     "text": [
      "['Apple', 'banana', 'cherry']\n"
     ]
    }
   ],
   "source": [
    "# 2. Sort strings ignoring case\n",
    "\n",
    "words = ['banana', 'Apple', 'cherry']\n",
    "\n",
    "sortedwords = sorted(words, key=lambda s: s.lower())\n",
    "\n",
    "print(sortedwords)"
   ]
  },
  {
   "cell_type": "code",
   "execution_count": 4,
   "id": "6993144e",
   "metadata": {},
   "outputs": [
    {
     "name": "stdout",
     "output_type": "stream",
     "text": [
      "45\n"
     ]
    }
   ],
   "source": [
    "# 3. Custom key for max()\n",
    "\n",
    "numbers = [10,21,33,45,50]\n",
    "\n",
    "maxodd = max(numbers, key=lambda x: x if x % 2 else -1)\n",
    "\n",
    "print(maxodd)"
   ]
  },
  {
   "cell_type": "code",
   "execution_count": 5,
   "id": "0062477b",
   "metadata": {},
   "outputs": [
    {
     "name": "stdout",
     "output_type": "stream",
     "text": [
      "[12, 24, 3, 9]\n"
     ]
    }
   ],
   "source": [
    "# 4. Filter with lambda\n",
    "\n",
    "numbers = [5,12,17,24,3,9]\n",
    "\n",
    "filtered = list(filter(lambda x: x % 3 == 0, numbers))\n",
    "\n",
    "print(filtered)"
   ]
  },
  {
   "cell_type": "code",
   "execution_count": 6,
   "id": "3d92e38e",
   "metadata": {},
   "outputs": [
    {
     "name": "stdout",
     "output_type": "stream",
     "text": [
      "[2, 4, 6, 8]\n"
     ]
    }
   ],
   "source": [
    "# 5. Map transformation with lambda\n",
    "\n",
    "nums = [1,2,3,4]\n",
    "\n",
    "doubled = list(map(lambda x: x * 2, nums))\n",
    "\n",
    "print(doubled)"
   ]
  },
  {
   "cell_type": "code",
   "execution_count": 7,
   "id": "d074ab40",
   "metadata": {},
   "outputs": [
    {
     "name": "stdout",
     "output_type": "stream",
     "text": [
      "[1, 4, 9, 16]\n",
      "[1, 4, 9, 16]\n"
     ]
    }
   ],
   "source": [
    "# 6. Inline function for list comprehension (when NOT to use lambda)\n",
    "\n",
    "nums = [1,2,3,4]\n",
    "\n",
    "squared = list(map(lambda x: x**2, nums))\n",
    "\n",
    "squaredlc = [x**2 for x in nums]\n",
    "\n",
    "print(squared)\n",
    "print(squaredlc)"
   ]
  },
  {
   "cell_type": "code",
   "execution_count": 8,
   "id": "48565ab6",
   "metadata": {},
   "outputs": [
    {
     "name": "stdout",
     "output_type": "stream",
     "text": [
      "Pass\n",
      "Fail\n"
     ]
    }
   ],
   "source": [
    "# 7. Conditional logic in lambda\n",
    "\n",
    "grade =  lambda score: \"Pass\" if score >= 50 else \"Fail\"\n",
    "\n",
    "print(grade(65))\n",
    "print(grade(45))"
   ]
  },
  {
   "cell_type": "code",
   "execution_count": 9,
   "id": "f15f781f",
   "metadata": {},
   "outputs": [
    {
     "name": "stdout",
     "output_type": "stream",
     "text": [
      "12\n"
     ]
    }
   ],
   "source": [
    "# 8. Multiple arguments in lambda\n",
    "\n",
    "add = lambda a, b: a + b\n",
    "print(add(5,7))"
   ]
  },
  {
   "cell_type": "code",
   "execution_count": 10,
   "id": "57a5a93c",
   "metadata": {},
   "outputs": [
    {
     "name": "stdout",
     "output_type": "stream",
     "text": [
      "120\n"
     ]
    }
   ],
   "source": [
    "# 9. Use in reduce() for factorial\n",
    "from functools import reduce\n",
    "\n",
    "factorial = reduce(lambda x, y: x * y, range(1,6))\n",
    "\n",
    "print(factorial)"
   ]
  },
  {
   "cell_type": "code",
   "execution_count": 13,
   "id": "567df924",
   "metadata": {},
   "outputs": [
    {
     "name": "stdout",
     "output_type": "stream",
     "text": [
      "676\n"
     ]
    }
   ],
   "source": [
    "# 10. Advanced pipeline with lambdas\n",
    "\n",
    "def runpipline(value, func):\n",
    "    for f in func:\n",
    "        value = f(value)\n",
    "    return value\n",
    "\n",
    "pipeline = [\n",
    "    lambda x: x + 10,\n",
    "    lambda x: x * 2,\n",
    "    lambda x: x ** 2\n",
    "]\n",
    "\n",
    "print(runpipline(3, pipeline))"
   ]
  },
  {
   "cell_type": "code",
   "execution_count": null,
   "id": "f64c3137",
   "metadata": {},
   "outputs": [],
   "source": []
  }
 ],
 "metadata": {
  "kernelspec": {
   "display_name": "churn-env",
   "language": "python",
   "name": "python3"
  },
  "language_info": {
   "codemirror_mode": {
    "name": "ipython",
    "version": 3
   },
   "file_extension": ".py",
   "mimetype": "text/x-python",
   "name": "python",
   "nbconvert_exporter": "python",
   "pygments_lexer": "ipython3",
   "version": "3.10.18"
  }
 },
 "nbformat": 4,
 "nbformat_minor": 5
}
