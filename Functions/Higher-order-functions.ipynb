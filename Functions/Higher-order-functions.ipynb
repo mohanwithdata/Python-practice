{
 "cells": [
  {
   "cell_type": "code",
   "execution_count": null,
   "id": "0d2a6d63",
   "metadata": {},
   "outputs": [
    {
     "data": {
      "text/plain": [
       "[1, 4, 9, 16, 25]"
      ]
     },
     "execution_count": 1,
     "metadata": {},
     "output_type": "execute_result"
    }
   ],
   "source": [
    "# 1. Using map to square numbers\n",
    "\n",
    "numbers = [1,2,3,4,5]\n",
    "\n",
    "squared = list(map(lambda x: x**2, numbers))\n",
    "\n",
    "print(squared)"
   ]
  },
  {
   "cell_type": "code",
   "execution_count": 2,
   "id": "34bea0d2",
   "metadata": {},
   "outputs": [
    {
     "name": "stdout",
     "output_type": "stream",
     "text": [
      "[2, 4, 6]\n"
     ]
    }
   ],
   "source": [
    "# 2. Using filter to get even numbers\n",
    "\n",
    "numbers  = [1,2,3,4,5,6]\n",
    "\n",
    "evennumbers = list(filter(lambda x: x % 2 == 0, numbers))\n",
    "\n",
    "print(evennumbers)"
   ]
  },
  {
   "cell_type": "code",
   "execution_count": 3,
   "id": "a388089d",
   "metadata": {},
   "outputs": [
    {
     "name": "stdout",
     "output_type": "stream",
     "text": [
      "24\n"
     ]
    }
   ],
   "source": [
    "# 3. Using reduce to compute the product of a list\n",
    "\n",
    "from functools import reduce\n",
    "\n",
    "numbers = [1,2,3,4]\n",
    "\n",
    "product = reduce(lambda x, y: x * y, numbers)\n",
    "\n",
    "print(product)"
   ]
  },
  {
   "cell_type": "code",
   "execution_count": 4,
   "id": "e161d83a",
   "metadata": {},
   "outputs": [
    {
     "name": "stdout",
     "output_type": "stream",
     "text": [
      "[4, 16, 36]\n"
     ]
    }
   ],
   "source": [
    "# 4. Combine map and filter\n",
    "\n",
    "numbers = [1,2,3,4,5,6]\n",
    "\n",
    "result = list(map(lambda x: x ** 2, filter(lambda x:x % 2 == 0, numbers)))\n",
    "\n",
    "print(result)\n",
    "\n"
   ]
  },
  {
   "cell_type": "code",
   "execution_count": 5,
   "id": "adde2b85",
   "metadata": {},
   "outputs": [
    {
     "name": "stdout",
     "output_type": "stream",
     "text": [
      "[9, 16, 25]\n"
     ]
    }
   ],
   "source": [
    "# 5. Avoid map/filter for readability (use list comprehensions instead)\n",
    "\n",
    "numbers = [1,2,3,4,5]\n",
    "\n",
    "squared = list(map(lambda x: x ** 2, filter(lambda x: x > 2, numbers)))\n",
    "\n",
    "squaredlc = [x**2 for x in numbers if x > 2]\n",
    "\n",
    "print(squaredlc)"
   ]
  },
  {
   "cell_type": "code",
   "execution_count": 6,
   "id": "6aa853d6",
   "metadata": {},
   "outputs": [
    {
     "name": "stdout",
     "output_type": "stream",
     "text": [
      "7\n"
     ]
    }
   ],
   "source": [
    "# 6. Custom higher-order function\n",
    "\n",
    "def applytwice(func, value):\n",
    "    return func(func(value))\n",
    "\n",
    "def increment(x):\n",
    "    return x + 1\n",
    "\n",
    "print(applytwice(increment, 5))"
   ]
  },
  {
   "cell_type": "code",
   "execution_count": 7,
   "id": "3abaf115",
   "metadata": {},
   "outputs": [
    {
     "name": "stdout",
     "output_type": "stream",
     "text": [
      "36\n"
     ]
    }
   ],
   "source": [
    "# 7. Pipeline using functions\n",
    "\n",
    "def double(x):\n",
    "    return x * 2\n",
    "\n",
    "def square(x):\n",
    "    return x ** 2\n",
    "\n",
    "def pipeline(value, funcs):\n",
    "    for f in funcs:\n",
    "        value = f(value)\n",
    "    return value\n",
    "\n",
    "print(pipeline(3, [double, square]))\n"
   ]
  },
  {
   "cell_type": "code",
   "execution_count": 8,
   "id": "c3510650",
   "metadata": {},
   "outputs": [
    {
     "name": "stdout",
     "output_type": "stream",
     "text": [
      "[1, 27, 125]\n"
     ]
    }
   ],
   "source": [
    "# 8. Higher-order function for filtering and transforming\n",
    "\n",
    "def processlist(lst, condition, transformer):\n",
    "    return [transformer(x) for x in lst if condition(x)]\n",
    "\n",
    "numbers = [1,2,3,4,5]\n",
    "\n",
    "result = processlist(numbers, lambda x: x % 2 == 1, lambda x: x ** 3)\n",
    "\n",
    "print(result)"
   ]
  },
  {
   "cell_type": "code",
   "execution_count": 9,
   "id": "e5f44d75",
   "metadata": {},
   "outputs": [
    {
     "name": "stdout",
     "output_type": "stream",
     "text": [
      "I love Python\n"
     ]
    }
   ],
   "source": [
    "# 9. Reduce with a more complex operation\n",
    "\n",
    "from functools import reduce\n",
    "\n",
    "words = ['I', 'love', 'Python']\n",
    "\n",
    "sentence = reduce(lambda acc, w: acc + \" \" + w, words)\n",
    "print(sentence)"
   ]
  },
  {
   "cell_type": "code",
   "execution_count": 10,
   "id": "3d62863c",
   "metadata": {},
   "outputs": [
    {
     "name": "stdout",
     "output_type": "stream",
     "text": [
      "[3, 6, 9, 15]\n"
     ]
    }
   ],
   "source": [
    "# 10. Custom higher-order function for multiple pipelines\n",
    "\n",
    "def runpipeline(data, *funcs):\n",
    "    for f in funcs:\n",
    "        data = f(data)\n",
    "    return data\n",
    "\n",
    "def removenegative(lst):\n",
    "    return [x for x in lst if x >= 0]\n",
    "\n",
    "def multiplybythree(lst):\n",
    "    return [x*3 for x in lst]\n",
    "\n",
    "numbers = [1,2,3,-4,5] \n",
    "\n",
    "result =  runpipeline(numbers, removenegative, multiplybythree)\n",
    "print(result)"
   ]
  },
  {
   "cell_type": "code",
   "execution_count": null,
   "id": "cfa59bbd",
   "metadata": {},
   "outputs": [],
   "source": []
  }
 ],
 "metadata": {
  "kernelspec": {
   "display_name": "churn-env",
   "language": "python",
   "name": "python3"
  },
  "language_info": {
   "codemirror_mode": {
    "name": "ipython",
    "version": 3
   },
   "file_extension": ".py",
   "mimetype": "text/x-python",
   "name": "python",
   "nbconvert_exporter": "python",
   "pygments_lexer": "ipython3",
   "version": "3.10.18"
  }
 },
 "nbformat": 4,
 "nbformat_minor": 5
}
