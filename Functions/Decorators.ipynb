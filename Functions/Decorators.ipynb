{
 "cells": [
  {
   "cell_type": "code",
   "execution_count": 4,
   "id": "11c4ebe6",
   "metadata": {},
   "outputs": [
    {
     "name": "stdout",
     "output_type": "stream",
     "text": [
      "calling add with (3,) {'b': 7}\n",
      "Result: 10\n"
     ]
    },
    {
     "data": {
      "text/plain": [
       "10"
      ]
     },
     "execution_count": 4,
     "metadata": {},
     "output_type": "execute_result"
    }
   ],
   "source": [
    "# Basic decorator (no arguments)\n",
    "\n",
    "def logger(func):\n",
    "    def wrapper(*args, **kwargs):\n",
    "        print(f\"calling {func.__name__} with {args} {kwargs}\")\n",
    "        result = func(*args, **kwargs)\n",
    "        print(f\"Result: {result}\")\n",
    "        return result\n",
    "    return wrapper\n",
    "\n",
    "@logger\n",
    "def add(a, b):\n",
    "    return a + b\n",
    "\n",
    "add(3, b=7)"
   ]
  },
  {
   "cell_type": "code",
   "execution_count": 5,
   "id": "add9bc4a",
   "metadata": {},
   "outputs": [
    {
     "name": "stdout",
     "output_type": "stream",
     "text": [
      "Hello!\n",
      "Hello!\n",
      "Hello!\n"
     ]
    }
   ],
   "source": [
    "# 2. Decorator with arguments\n",
    "def repeat(n):\n",
    "    def decorator(func):\n",
    "        def wrapper(*args, **kwargs):\n",
    "            for i in range(n):\n",
    "                func(*args, **kwargs)\n",
    "        return wrapper\n",
    "    return decorator\n",
    "\n",
    "@repeat(3)\n",
    "def hello():\n",
    "    print(\"Hello!\")\n",
    "\n",
    "hello()"
   ]
  },
  {
   "cell_type": "code",
   "execution_count": 1,
   "id": "fc077b6e",
   "metadata": {},
   "outputs": [
    {
     "name": "stdout",
     "output_type": "stream",
     "text": [
      "HELLO, MOHAN\n",
      "greet\n",
      "None\n"
     ]
    }
   ],
   "source": [
    "# 3. Decorator preserving function metadata (functools.wraps)\n",
    "\n",
    "from functools import wraps\n",
    "\n",
    "def uppercase(func):\n",
    "    @wraps(func)\n",
    "    def wrapper(*args, **kwargs):\n",
    "        result = func(*args, **kwargs)\n",
    "        return result.upper()\n",
    "    return wrapper\n",
    "\n",
    "@uppercase\n",
    "def greet(name):\n",
    "    return f\"hello, {name}\"\n",
    "\n",
    "print(greet(\"Mohan\"))\n",
    "print(greet.__name__)\n",
    "print(greet.__doc__)"
   ]
  },
  {
   "cell_type": "code",
   "execution_count": 6,
   "id": "b1074a81",
   "metadata": {},
   "outputs": [
    {
     "name": "stdout",
     "output_type": "stream",
     "text": [
      "Hello?!\n"
     ]
    }
   ],
   "source": [
    "# 4. Multiple decorators applied\n",
    "\n",
    "def exlaim(func):\n",
    "    def wrapper(*args, **kwargs):\n",
    "        return func(*args, **kwargs) + \"!\"\n",
    "    return wrapper\n",
    "\n",
    "def question(func):\n",
    "    def wrapper(*args, **kwargs):\n",
    "        return func(*args, **kwargs) + \"?\"\n",
    "    return wrapper\n",
    "\n",
    "@exlaim\n",
    "@question\n",
    "def greet():\n",
    "    return \"Hello\"\n",
    "\n",
    "print(greet())"
   ]
  },
  {
   "cell_type": "code",
   "execution_count": 7,
   "id": "21496f76",
   "metadata": {},
   "outputs": [
    {
     "name": "stdout",
     "output_type": "stream",
     "text": [
      "Args: (10,), kwargs: {'b': 2}\n",
      "5.0\n"
     ]
    }
   ],
   "source": [
    "# 5. Decorator with both positional and keyword arguments\n",
    "\n",
    "def debug(func):\n",
    "    def wrapper(*args, **kwargs):\n",
    "        print(f\"Args: {args}, kwargs: {kwargs}\")\n",
    "        return func(*args, **kwargs)\n",
    "    return wrapper\n",
    "\n",
    "@debug\n",
    "def divide(a, b=1):\n",
    "    return a/b\n",
    "\n",
    "print(divide(10, b=2))"
   ]
  },
  {
   "cell_type": "code",
   "execution_count": 8,
   "id": "fc86337a",
   "metadata": {},
   "outputs": [
    {
     "name": "stdout",
     "output_type": "stream",
     "text": [
      "starting 'greet'...\n",
      "Hello, Mohan\n",
      "Finished 'greet'.\n"
     ]
    }
   ],
   "source": [
    "# 1. Basic Class-based Decorator\n",
    "\n",
    "class logger:\n",
    "    def __init__(self, func):\n",
    "        self.func = func\n",
    "\n",
    "    def __call__(self, *args, **kwargs):\n",
    "        print(f\"starting '{self.func.__name__}'...\")\n",
    "        result = self.func(*args, **kwargs)\n",
    "        print(f\"Finished '{self.func.__name__}'.\")\n",
    "        return result\n",
    "    \n",
    "@logger\n",
    "def greet(name):\n",
    "    print(f\"Hello, {name}\")\n",
    "\n",
    "greet(\"Mohan\")"
   ]
  },
  {
   "cell_type": "code",
   "execution_count": 9,
   "id": "598d0b70",
   "metadata": {},
   "outputs": [
    {
     "name": "stdout",
     "output_type": "stream",
     "text": [
      "DEBUG - Executing add\n",
      "12\n"
     ]
    }
   ],
   "source": [
    "# 2. Class-based Decorator with Arguments\n",
    "\n",
    "class prefixlogger:\n",
    "    def __init__(self, prefix):\n",
    "        self.prefix = prefix\n",
    "\n",
    "    def __call__(self, func):\n",
    "        def wrapper(*args, **kwargs):\n",
    "            print(f\"{self.prefix} - Executing {func.__name__}\")\n",
    "            return func(*args, **kwargs)\n",
    "        return wrapper\n",
    "    \n",
    "@prefixlogger(\"DEBUG\")\n",
    "def add(a, b):\n",
    "    return a + b\n",
    "\n",
    "print(add(5, 7))"
   ]
  },
  {
   "cell_type": "code",
   "execution_count": 10,
   "id": "75fd0de8",
   "metadata": {},
   "outputs": [
    {
     "name": "stdout",
     "output_type": "stream",
     "text": [
      "Computing result...\n",
      "12\n",
      "Fetching from cache...\n",
      "12\n"
     ]
    }
   ],
   "source": [
    "# 3. Caching with Class-based Decorator\n",
    "\n",
    "class cache:\n",
    "    def __init__(self, func):\n",
    "        self.func = func\n",
    "        self.cache = {}\n",
    "\n",
    "    def __call__(self, *args):\n",
    "        if args in self.cache:\n",
    "            print(\"Fetching from cache...\")\n",
    "            return self.cache[args]\n",
    "        print(\"Computing result...\")\n",
    "        result = self.func(*args)\n",
    "        self.cache[args] = result\n",
    "        return result\n",
    "    \n",
    "@cache\n",
    "def multiply(a, b):\n",
    "    return a * b\n",
    "\n",
    "print(multiply(3, 4))\n",
    "print(multiply(3, 4))"
   ]
  },
  {
   "cell_type": "code",
   "execution_count": 19,
   "id": "8e84d961",
   "metadata": {},
   "outputs": [
    {
     "name": "stdout",
     "output_type": "stream",
     "text": [
      "Attempt 1 failed: Random failure\n",
      "Attempt 2 failed: Random failure\n",
      "Success!\n"
     ]
    }
   ],
   "source": [
    "# 4. Retry Logic Decorator\n",
    "\n",
    "import random\n",
    "\n",
    "class retry:\n",
    "    def __init__(self, retries):\n",
    "        self.retries  =  retries\n",
    "\n",
    "    def __call__(self, func):\n",
    "        def wrapper(*args, **kwargs):\n",
    "            for attempt in range(1, self.retries + 1):\n",
    "                try:\n",
    "                    return func(*args, **kwargs)\n",
    "                except Exception as e:\n",
    "                    print(f\"Attempt {attempt} failed: {e}\")\n",
    "            raise RuntimeError(\"All retries failed\")\n",
    "        return wrapper\n",
    "\n",
    "\n",
    "@retry(3)\n",
    "def unstabletask():\n",
    "    if random.random() < 0.7:\n",
    "        raise ValueError(\"Random failure\")\n",
    "    return \"Success!\"\n",
    "\n",
    "print(unstabletask())"
   ]
  },
  {
   "cell_type": "code",
   "execution_count": 21,
   "id": "dafdac0e",
   "metadata": {},
   "outputs": [
    {
     "name": "stdout",
     "output_type": "stream",
     "text": [
      "slowfunction took 1.0152 seconds\n"
     ]
    },
    {
     "data": {
      "text/plain": [
       "'Done!'"
      ]
     },
     "execution_count": 21,
     "metadata": {},
     "output_type": "execute_result"
    }
   ],
   "source": [
    "# 5. Timing Function Execution\n",
    "\n",
    "import time\n",
    "\n",
    "class timer:\n",
    "    def __init__(self, func):\n",
    "        self.func = func\n",
    "\n",
    "    def __call__(self, *args, **kwargs):\n",
    "        start = time.time()\n",
    "        result = self.func(*args, **kwargs)\n",
    "        end = time.time()\n",
    "        print(f\"{self.func.__name__} took {end - start:.4f} seconds\")\n",
    "        return result\n",
    "    \n",
    "@timer\n",
    "def slowfunction():\n",
    "    time.sleep(1)\n",
    "\n",
    "    return \"Done!\"\n",
    "\n",
    "slowfunction()"
   ]
  },
  {
   "cell_type": "code",
   "execution_count": 24,
   "id": "ae229373",
   "metadata": {},
   "outputs": [
    {
     "name": "stdout",
     "output_type": "stream",
     "text": [
      "8\n"
     ]
    }
   ],
   "source": [
    "# 6. Argument Validation\n",
    "\n",
    "class postiveargs:\n",
    "    def __init__(self, func):\n",
    "        self.func = func\n",
    "    \n",
    "    def __call__(self, *args):\n",
    "        if not all(isinstance(a, int) and a > 0 for a in args):\n",
    "            raise ValueError(\"All arguments must be positive integers\")\n",
    "        return self.func(*args)\n",
    "    \n",
    "\n",
    "\n",
    "@postiveargs\n",
    "def add(a, b):\n",
    "    return a + b\n",
    "\n",
    "print(add(3, 5))"
   ]
  },
  {
   "cell_type": "code",
   "execution_count": 29,
   "id": "f57ecf3a",
   "metadata": {},
   "outputs": [
    {
     "name": "stdout",
     "output_type": "stream",
     "text": [
      "User John doe deleted.\n"
     ]
    },
    {
     "ename": "PermissionError",
     "evalue": "User must be an admin",
     "output_type": "error",
     "traceback": [
      "\u001b[1;31m---------------------------------------------------------------------------\u001b[0m",
      "\u001b[1;31mPermissionError\u001b[0m                           Traceback (most recent call last)",
      "Cell \u001b[1;32mIn[29], line 17\u001b[0m\n\u001b[0;32m     14\u001b[0m     \u001b[38;5;28mprint\u001b[39m(\u001b[38;5;124mf\u001b[39m\u001b[38;5;124m\"\u001b[39m\u001b[38;5;124mUser \u001b[39m\u001b[38;5;132;01m{\u001b[39;00musername\u001b[38;5;132;01m}\u001b[39;00m\u001b[38;5;124m deleted.\u001b[39m\u001b[38;5;124m\"\u001b[39m)\n\u001b[0;32m     16\u001b[0m deleteuser(\u001b[38;5;124m\"\u001b[39m\u001b[38;5;124madmin\u001b[39m\u001b[38;5;124m\"\u001b[39m, \u001b[38;5;124m\"\u001b[39m\u001b[38;5;124mJohn doe\u001b[39m\u001b[38;5;124m\"\u001b[39m)\n\u001b[1;32m---> 17\u001b[0m \u001b[43mdeleteuser\u001b[49m\u001b[43m(\u001b[49m\u001b[38;5;124;43m\"\u001b[39;49m\u001b[38;5;124;43muser\u001b[39;49m\u001b[38;5;124;43m\"\u001b[39;49m\u001b[43m,\u001b[49m\u001b[43m \u001b[49m\u001b[38;5;124;43m\"\u001b[39;49m\u001b[38;5;124;43mJohn doe\u001b[39;49m\u001b[38;5;124;43m\"\u001b[39;49m\u001b[43m)\u001b[49m\n",
      "Cell \u001b[1;32mIn[29], line 9\u001b[0m, in \u001b[0;36mrequireadmin.__call__\u001b[1;34m(self, userrole, *args, **kwargs)\u001b[0m\n\u001b[0;32m      7\u001b[0m \u001b[38;5;28;01mdef\u001b[39;00m\u001b[38;5;250m \u001b[39m\u001b[38;5;21m__call__\u001b[39m(\u001b[38;5;28mself\u001b[39m, userrole, \u001b[38;5;241m*\u001b[39margs, \u001b[38;5;241m*\u001b[39m\u001b[38;5;241m*\u001b[39mkwargs):\n\u001b[0;32m      8\u001b[0m     \u001b[38;5;28;01mif\u001b[39;00m userrole \u001b[38;5;241m!=\u001b[39m \u001b[38;5;124m\"\u001b[39m\u001b[38;5;124madmin\u001b[39m\u001b[38;5;124m\"\u001b[39m:\n\u001b[1;32m----> 9\u001b[0m         \u001b[38;5;28;01mraise\u001b[39;00m \u001b[38;5;167;01mPermissionError\u001b[39;00m(\u001b[38;5;124m\"\u001b[39m\u001b[38;5;124mUser must be an admin\u001b[39m\u001b[38;5;124m\"\u001b[39m)\n\u001b[0;32m     10\u001b[0m     \u001b[38;5;28;01mreturn\u001b[39;00m \u001b[38;5;28mself\u001b[39m\u001b[38;5;241m.\u001b[39mfunc(userrole, \u001b[38;5;241m*\u001b[39margs, \u001b[38;5;241m*\u001b[39m\u001b[38;5;241m*\u001b[39mkwargs)\n",
      "\u001b[1;31mPermissionError\u001b[0m: User must be an admin"
     ]
    }
   ],
   "source": [
    "# 7. Access Control Decorator\n",
    "\n",
    "class requireadmin:\n",
    "    def __init__(self, func):\n",
    "        self.func = func\n",
    "\n",
    "    def __call__(self, userrole, *args, **kwargs):\n",
    "        if userrole != \"admin\":\n",
    "            raise PermissionError(\"User must be an admin\")\n",
    "        return self.func(userrole, *args, **kwargs)\n",
    "    \n",
    "@requireadmin\n",
    "def deleteuser(role, username):\n",
    "    print(f\"User {username} deleted.\")\n",
    "\n",
    "deleteuser(\"admin\", \"John doe\")\n",
    "deleteuser(\"user\", \"John doe\")"
   ]
  },
  {
   "cell_type": "code",
   "execution_count": 31,
   "id": "ea53a6fc",
   "metadata": {},
   "outputs": [
    {
     "name": "stdout",
     "output_type": "stream",
     "text": [
      "greet has been called 1 times\n",
      "Hello, Mohan\n",
      "greet has been called 2 times\n",
      "Hello, Balor\n"
     ]
    }
   ],
   "source": [
    "# 8. Class-based Decorator with State Tracking\n",
    "\n",
    "class callcounter:\n",
    "    def __init__(self, func):\n",
    "        self.func = func\n",
    "        self.count = 0\n",
    "\n",
    "    def __call__(self, *args, **kwargs):\n",
    "        self.count += 1\n",
    "        print(f\"{self.func.__name__} has been called {self.count} times\")\n",
    "        return self.func(*args, **kwargs)\n",
    "    \n",
    "@callcounter\n",
    "def greet(name):\n",
    "    print(f\"Hello, {name}\")\n",
    "\n",
    "greet(\"Mohan\")\n",
    "greet(\"Balor\")"
   ]
  },
  {
   "cell_type": "code",
   "execution_count": 32,
   "id": "6ff12bdf",
   "metadata": {},
   "outputs": [
    {
     "name": "stdout",
     "output_type": "stream",
     "text": [
      "Ping!\n"
     ]
    }
   ],
   "source": [
    "# 9. Parameterized Class Decorator for Rate Limiting\n",
    "\n",
    "import time\n",
    "\n",
    "class ratelimit:\n",
    "    def __init__(self, seconds):\n",
    "        self.seconds = seconds\n",
    "        self.lastcalled = 0\n",
    "        \n",
    "    def __call__(self, func):\n",
    "        def wrapper(*args, **kwargs):\n",
    "            now = time.time()\n",
    "            if now - self.lastcalled < self.seconds:\n",
    "                raise RuntimeError(\"Too many calls\")\n",
    "            self.lastcalled = now\n",
    "            return func(*args, **kwargs)\n",
    "        return wrapper\n",
    "    \n",
    "@ratelimit(2)\n",
    "def ping():\n",
    "    print(\"Ping!\")\n",
    "\n",
    "ping()\n"
   ]
  },
  {
   "cell_type": "code",
   "execution_count": null,
   "id": "33826b78",
   "metadata": {},
   "outputs": [
    {
     "data": {
      "text/plain": [
       "'HELLO, ALICE'"
      ]
     },
     "execution_count": 34,
     "metadata": {},
     "output_type": "execute_result"
    }
   ],
   "source": [
    "# 10. Stacking Multiple Class-based Decorators\n",
    "\n",
    "class uppercase:\n",
    "    def __init__(self, func):\n",
    "        self.func = func\n",
    "\n",
    "    def __call__(self, *args, **kwargs):\n",
    "        return self.func(*args, **kwargs).upper()\n",
    "    \n",
    "class exclaim:\n",
    "    def __init__(self, func):\n",
    "        self.func = func\n",
    "\n",
    "    def __call__(self, *args, **kwargs):\n",
    "        return self.func(*args, **kwargs) + \"!!!\"\n",
    "    \n",
    "@exclaim\n",
    "@uppercase\n",
    "def greet(name):\n",
    "    return f\"Hello, {name}\"\n",
    "\n",
    "greet(\"alice\")"
   ]
  },
  {
   "cell_type": "code",
   "execution_count": null,
   "id": "ee1ac506",
   "metadata": {},
   "outputs": [],
   "source": []
  }
 ],
 "metadata": {
  "kernelspec": {
   "display_name": "churn-env",
   "language": "python",
   "name": "python3"
  },
  "language_info": {
   "codemirror_mode": {
    "name": "ipython",
    "version": 3
   },
   "file_extension": ".py",
   "mimetype": "text/x-python",
   "name": "python",
   "nbconvert_exporter": "python",
   "pygments_lexer": "ipython3",
   "version": "3.10.18"
  }
 },
 "nbformat": 4,
 "nbformat_minor": 5
}
