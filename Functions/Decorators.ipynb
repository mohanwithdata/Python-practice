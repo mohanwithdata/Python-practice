{
 "cells": [
  {
   "cell_type": "code",
   "execution_count": 12,
   "id": "11c4ebe6",
   "metadata": {},
   "outputs": [
    {
     "name": "stdout",
     "output_type": "stream",
     "text": [
      "calling add with (3,) {'b': 7}\n",
      "Result: 10\n"
     ]
    },
    {
     "data": {
      "text/plain": [
       "10"
      ]
     },
     "execution_count": 12,
     "metadata": {},
     "output_type": "execute_result"
    }
   ],
   "source": [
    "# Basic decorator (no arguments)\n",
    "\n",
    "def logger(func):\n",
    "    def wrapper(*args, **kwargs):\n",
    "        print(f\"calling {func.__name__} with {args} {kwargs}\")\n",
    "        result = func(*args, **kwargs)\n",
    "        print(f\"Result: {result}\")\n",
    "        return result\n",
    "    return wrapper\n",
    "\n",
    "@logger\n",
    "def add(a, b):\n",
    "    return a + b\n",
    "\n",
    "add(3, b=7)"
   ]
  },
  {
   "cell_type": "code",
   "execution_count": 13,
   "id": "add9bc4a",
   "metadata": {},
   "outputs": [
    {
     "name": "stdout",
     "output_type": "stream",
     "text": [
      "Hello!\n",
      "Hello!\n",
      "Hello!\n"
     ]
    }
   ],
   "source": [
    "# 2. Decorator with arguments\n",
    "def repeat(n):\n",
    "    def decorator(func):\n",
    "        def wrapper(*args, **kwargs):\n",
    "            for i in range(n):\n",
    "                func(*args, **kwargs)\n",
    "        return wrapper\n",
    "    return decorator\n",
    "\n",
    "@repeat(3)\n",
    "def hello():\n",
    "    print(\"Hello!\")\n",
    "\n",
    "hello()"
   ]
  },
  {
   "cell_type": "code",
   "execution_count": 14,
   "id": "fc077b6e",
   "metadata": {},
   "outputs": [
    {
     "name": "stdout",
     "output_type": "stream",
     "text": [
      "HELLO, MOHAN\n",
      "greet\n",
      "None\n"
     ]
    }
   ],
   "source": [
    "# 3. Decorator preserving function metadata (functools.wraps)\n",
    "\n",
    "from functools import wraps\n",
    "\n",
    "def uppercase(func):\n",
    "    @wraps(func)\n",
    "    def wrapper(*args, **kwargs):\n",
    "        result = func(*args, **kwargs)\n",
    "        return result.upper()\n",
    "    return wrapper\n",
    "\n",
    "@uppercase\n",
    "def greet(name):\n",
    "    return f\"hello, {name}\"\n",
    "\n",
    "print(greet(\"Mohan\"))\n",
    "print(greet.__name__)\n",
    "print(greet.__doc__)"
   ]
  },
  {
   "cell_type": "code",
   "execution_count": 15,
   "id": "b1074a81",
   "metadata": {},
   "outputs": [
    {
     "name": "stdout",
     "output_type": "stream",
     "text": [
      "Hello?!\n"
     ]
    }
   ],
   "source": [
    "# 4. Multiple decorators applied\n",
    "\n",
    "def exlaim(func):\n",
    "    def wrapper(*args, **kwargs):\n",
    "        return func(*args, **kwargs) + \"!\"\n",
    "    return wrapper\n",
    "\n",
    "def question(func):\n",
    "    def wrapper(*args, **kwargs):\n",
    "        return func(*args, **kwargs) + \"?\"\n",
    "    return wrapper\n",
    "\n",
    "@exlaim\n",
    "@question\n",
    "def greet():\n",
    "    return \"Hello\"\n",
    "\n",
    "print(greet())"
   ]
  },
  {
   "cell_type": "code",
   "execution_count": 16,
   "id": "21496f76",
   "metadata": {},
   "outputs": [
    {
     "name": "stdout",
     "output_type": "stream",
     "text": [
      "Args: (10,), kwargs: {'b': 2}\n",
      "5.0\n"
     ]
    }
   ],
   "source": [
    "# 5. Decorator with both positional and keyword arguments\n",
    "\n",
    "def debug(func):\n",
    "    def wrapper(*args, **kwargs):\n",
    "        print(f\"Args: {args}, kwargs: {kwargs}\")\n",
    "        return func(*args, **kwargs)\n",
    "    return wrapper\n",
    "\n",
    "@debug\n",
    "def divide(a, b=1):\n",
    "    return a/b\n",
    "\n",
    "print(divide(10, b=2))"
   ]
  },
  {
   "cell_type": "code",
   "execution_count": 17,
   "id": "fc86337a",
   "metadata": {},
   "outputs": [
    {
     "name": "stdout",
     "output_type": "stream",
     "text": [
      "starting 'greet'...\n",
      "Hello, Mohan\n",
      "Finished 'greet'.\n"
     ]
    }
   ],
   "source": [
    "# 1. Basic Class-based Decorator\n",
    "\n",
    "class logger:\n",
    "    def __init__(self, func):\n",
    "        self.func = func\n",
    "\n",
    "    def __call__(self, *args, **kwargs):\n",
    "        print(f\"starting '{self.func.__name__}'...\")\n",
    "        result = self.func(*args, **kwargs)\n",
    "        print(f\"Finished '{self.func.__name__}'.\")\n",
    "        return result\n",
    "    \n",
    "@logger\n",
    "def greet(name):\n",
    "    print(f\"Hello, {name}\")\n",
    "\n",
    "greet(\"Mohan\")"
   ]
  },
  {
   "cell_type": "code",
   "execution_count": 18,
   "id": "598d0b70",
   "metadata": {},
   "outputs": [
    {
     "name": "stdout",
     "output_type": "stream",
     "text": [
      "DEBUG - Executing add\n",
      "12\n"
     ]
    }
   ],
   "source": [
    "# 2. Class-based Decorator with Arguments\n",
    "\n",
    "class prefixlogger:\n",
    "    def __init__(self, prefix):\n",
    "        self.prefix = prefix\n",
    "\n",
    "    def __call__(self, func):\n",
    "        def wrapper(*args, **kwargs):\n",
    "            print(f\"{self.prefix} - Executing {func.__name__}\")\n",
    "            return func(*args, **kwargs)\n",
    "        return wrapper\n",
    "    \n",
    "@prefixlogger(\"DEBUG\")\n",
    "def add(a, b):\n",
    "    return a + b\n",
    "\n",
    "print(add(5, 7))"
   ]
  },
  {
   "cell_type": "code",
   "execution_count": 19,
   "id": "75fd0de8",
   "metadata": {},
   "outputs": [
    {
     "name": "stdout",
     "output_type": "stream",
     "text": [
      "Computing result...\n",
      "12\n",
      "Fetching from cache...\n",
      "12\n"
     ]
    }
   ],
   "source": [
    "# 3. Caching with Class-based Decorator\n",
    "\n",
    "class cache:\n",
    "    def __init__(self, func):\n",
    "        self.func = func\n",
    "        self.cache = {}\n",
    "\n",
    "    def __call__(self, *args):\n",
    "        if args in self.cache:\n",
    "            print(\"Fetching from cache...\")\n",
    "            return self.cache[args]\n",
    "        print(\"Computing result...\")\n",
    "        result = self.func(*args)\n",
    "        self.cache[args] = result\n",
    "        return result\n",
    "    \n",
    "@cache\n",
    "def multiply(a, b):\n",
    "    return a * b\n",
    "\n",
    "print(multiply(3, 4))\n",
    "print(multiply(3, 4))"
   ]
  },
  {
   "cell_type": "code",
   "execution_count": 20,
   "id": "8e84d961",
   "metadata": {},
   "outputs": [
    {
     "name": "stdout",
     "output_type": "stream",
     "text": [
      "Success!\n"
     ]
    }
   ],
   "source": [
    "# 4. Retry Logic Decorator\n",
    "\n",
    "import random\n",
    "\n",
    "class retry:\n",
    "    def __init__(self, retries):\n",
    "        self.retries  =  retries\n",
    "\n",
    "    def __call__(self, func):\n",
    "        def wrapper(*args, **kwargs):\n",
    "            for attempt in range(1, self.retries + 1):\n",
    "                try:\n",
    "                    return func(*args, **kwargs)\n",
    "                except Exception as e:\n",
    "                    print(f\"Attempt {attempt} failed: {e}\")\n",
    "            raise RuntimeError(\"All retries failed\")\n",
    "        return wrapper\n",
    "\n",
    "\n",
    "@retry(3)\n",
    "def unstabletask():\n",
    "    if random.random() < 0.7:\n",
    "        raise ValueError(\"Random failure\")\n",
    "    return \"Success!\"\n",
    "\n",
    "print(unstabletask())"
   ]
  },
  {
   "cell_type": "code",
   "execution_count": 21,
   "id": "dafdac0e",
   "metadata": {},
   "outputs": [
    {
     "name": "stdout",
     "output_type": "stream",
     "text": [
      "slowfunction took 1.0082 seconds\n"
     ]
    },
    {
     "data": {
      "text/plain": [
       "'Done!'"
      ]
     },
     "execution_count": 21,
     "metadata": {},
     "output_type": "execute_result"
    }
   ],
   "source": [
    "# 5. Timing Function Execution\n",
    "\n",
    "import time\n",
    "\n",
    "class timer:\n",
    "    def __init__(self, func):\n",
    "        self.func = func\n",
    "\n",
    "    def __call__(self, *args, **kwargs):\n",
    "        start = time.time()\n",
    "        result = self.func(*args, **kwargs)\n",
    "        end = time.time()\n",
    "        print(f\"{self.func.__name__} took {end - start:.4f} seconds\")\n",
    "        return result\n",
    "    \n",
    "@timer\n",
    "def slowfunction():\n",
    "    time.sleep(1)\n",
    "\n",
    "    return \"Done!\"\n",
    "\n",
    "slowfunction()"
   ]
  },
  {
   "cell_type": "code",
   "execution_count": 22,
   "id": "ae229373",
   "metadata": {},
   "outputs": [
    {
     "name": "stdout",
     "output_type": "stream",
     "text": [
      "8\n"
     ]
    }
   ],
   "source": [
    "# 6. Argument Validation\n",
    "\n",
    "class postiveargs:\n",
    "    def __init__(self, func):\n",
    "        self.func = func\n",
    "    \n",
    "    def __call__(self, *args):\n",
    "        if not all(isinstance(a, int) and a > 0 for a in args):\n",
    "            raise ValueError(\"All arguments must be positive integers\")\n",
    "        return self.func(*args)\n",
    "    \n",
    "\n",
    "\n",
    "@postiveargs\n",
    "def add(a, b):\n",
    "    return a + b\n",
    "\n",
    "print(add(3, 5))"
   ]
  },
  {
   "cell_type": "code",
   "execution_count": 23,
   "id": "f57ecf3a",
   "metadata": {},
   "outputs": [
    {
     "name": "stdout",
     "output_type": "stream",
     "text": [
      "User John doe deleted.\n"
     ]
    },
    {
     "ename": "PermissionError",
     "evalue": "User must be an admin",
     "output_type": "error",
     "traceback": [
      "\u001b[1;31m---------------------------------------------------------------------------\u001b[0m",
      "\u001b[1;31mPermissionError\u001b[0m                           Traceback (most recent call last)",
      "Cell \u001b[1;32mIn[23], line 17\u001b[0m\n\u001b[0;32m     14\u001b[0m     \u001b[38;5;28mprint\u001b[39m(\u001b[38;5;124mf\u001b[39m\u001b[38;5;124m\"\u001b[39m\u001b[38;5;124mUser \u001b[39m\u001b[38;5;132;01m{\u001b[39;00musername\u001b[38;5;132;01m}\u001b[39;00m\u001b[38;5;124m deleted.\u001b[39m\u001b[38;5;124m\"\u001b[39m)\n\u001b[0;32m     16\u001b[0m deleteuser(\u001b[38;5;124m\"\u001b[39m\u001b[38;5;124madmin\u001b[39m\u001b[38;5;124m\"\u001b[39m, \u001b[38;5;124m\"\u001b[39m\u001b[38;5;124mJohn doe\u001b[39m\u001b[38;5;124m\"\u001b[39m)\n\u001b[1;32m---> 17\u001b[0m \u001b[43mdeleteuser\u001b[49m\u001b[43m(\u001b[49m\u001b[38;5;124;43m\"\u001b[39;49m\u001b[38;5;124;43muser\u001b[39;49m\u001b[38;5;124;43m\"\u001b[39;49m\u001b[43m,\u001b[49m\u001b[43m \u001b[49m\u001b[38;5;124;43m\"\u001b[39;49m\u001b[38;5;124;43mJohn doe\u001b[39;49m\u001b[38;5;124;43m\"\u001b[39;49m\u001b[43m)\u001b[49m\n",
      "Cell \u001b[1;32mIn[23], line 9\u001b[0m, in \u001b[0;36mrequireadmin.__call__\u001b[1;34m(self, userrole, *args, **kwargs)\u001b[0m\n\u001b[0;32m      7\u001b[0m \u001b[38;5;28;01mdef\u001b[39;00m\u001b[38;5;250m \u001b[39m\u001b[38;5;21m__call__\u001b[39m(\u001b[38;5;28mself\u001b[39m, userrole, \u001b[38;5;241m*\u001b[39margs, \u001b[38;5;241m*\u001b[39m\u001b[38;5;241m*\u001b[39mkwargs):\n\u001b[0;32m      8\u001b[0m     \u001b[38;5;28;01mif\u001b[39;00m userrole \u001b[38;5;241m!=\u001b[39m \u001b[38;5;124m\"\u001b[39m\u001b[38;5;124madmin\u001b[39m\u001b[38;5;124m\"\u001b[39m:\n\u001b[1;32m----> 9\u001b[0m         \u001b[38;5;28;01mraise\u001b[39;00m \u001b[38;5;167;01mPermissionError\u001b[39;00m(\u001b[38;5;124m\"\u001b[39m\u001b[38;5;124mUser must be an admin\u001b[39m\u001b[38;5;124m\"\u001b[39m)\n\u001b[0;32m     10\u001b[0m     \u001b[38;5;28;01mreturn\u001b[39;00m \u001b[38;5;28mself\u001b[39m\u001b[38;5;241m.\u001b[39mfunc(userrole, \u001b[38;5;241m*\u001b[39margs, \u001b[38;5;241m*\u001b[39m\u001b[38;5;241m*\u001b[39mkwargs)\n",
      "\u001b[1;31mPermissionError\u001b[0m: User must be an admin"
     ]
    }
   ],
   "source": [
    "# 7. Access Control Decorator\n",
    "\n",
    "class requireadmin:\n",
    "    def __init__(self, func):\n",
    "        self.func = func\n",
    "\n",
    "    def __call__(self, userrole, *args, **kwargs):\n",
    "        if userrole != \"admin\":\n",
    "            raise PermissionError(\"User must be an admin\")\n",
    "        return self.func(userrole, *args, **kwargs)\n",
    "    \n",
    "@requireadmin\n",
    "def deleteuser(role, username):\n",
    "    print(f\"User {username} deleted.\")\n",
    "\n",
    "deleteuser(\"admin\", \"John doe\")\n",
    "deleteuser(\"user\", \"John doe\")"
   ]
  },
  {
   "cell_type": "code",
   "execution_count": null,
   "id": "ea53a6fc",
   "metadata": {},
   "outputs": [
    {
     "name": "stdout",
     "output_type": "stream",
     "text": [
      "greet has been called 1 times\n",
      "Hello, Mohan\n",
      "greet has been called 2 times\n",
      "Hello, Balor\n"
     ]
    }
   ],
   "source": [
    "# 8. Class-based Decorator with State Tracking\n",
    "\n",
    "class callcounter:\n",
    "    def __init__(self, func):\n",
    "        self.func = func\n",
    "        self.count = 0\n",
    "\n",
    "    def __call__(self, *args, **kwargs):\n",
    "        self.count += 1\n",
    "        print(f\"{self.func.__name__} has been called {self.count} times\")\n",
    "        return self.func(*args, **kwargs)\n",
    "    \n",
    "@callcounter\n",
    "def greet(name):\n",
    "    print(f\"Hello, {name}\")\n",
    "\n",
    "greet(\"Mohan\")\n",
    "greet(\"Balor\")"
   ]
  },
  {
   "cell_type": "code",
   "execution_count": null,
   "id": "6ff12bdf",
   "metadata": {},
   "outputs": [
    {
     "name": "stdout",
     "output_type": "stream",
     "text": [
      "Ping!\n"
     ]
    }
   ],
   "source": [
    "# 9. Parameterized Class Decorator for Rate Limiting\n",
    "\n",
    "import time\n",
    "\n",
    "class ratelimit:\n",
    "    def __init__(self, seconds):\n",
    "        self.seconds = seconds\n",
    "        self.lastcalled = 0\n",
    "        \n",
    "    def __call__(self, func):\n",
    "        def wrapper(*args, **kwargs):\n",
    "            now = time.time()\n",
    "            if now - self.lastcalled < self.seconds:\n",
    "                raise RuntimeError(\"Too many calls\")\n",
    "            self.lastcalled = now\n",
    "            return func(*args, **kwargs)\n",
    "        return wrapper\n",
    "    \n",
    "@ratelimit(2)\n",
    "def ping():\n",
    "    print(\"Ping!\")\n",
    "\n",
    "ping()\n"
   ]
  },
  {
   "cell_type": "code",
   "execution_count": null,
   "id": "33826b78",
   "metadata": {},
   "outputs": [
    {
     "data": {
      "text/plain": [
       "'HELLO, ALICE!!!'"
      ]
     },
     "execution_count": 35,
     "metadata": {},
     "output_type": "execute_result"
    }
   ],
   "source": [
    "# 10. Stacking Multiple Class-based Decorators\n",
    "\n",
    "class uppercase:\n",
    "    def __init__(self, func):\n",
    "        self.func = func\n",
    "\n",
    "    def __call__(self, *args, **kwargs):\n",
    "        return self.func(*args, **kwargs).upper()\n",
    "    \n",
    "class exclaim:\n",
    "    def __init__(self, func):\n",
    "        self.func = func\n",
    "\n",
    "    def __call__(self, *args, **kwargs):\n",
    "        return self.func(*args, **kwargs) + \"!!!\"\n",
    "    \n",
    "@exclaim\n",
    "@uppercase\n",
    "def greet(name):\n",
    "    return f\"Hello, {name}\"\n",
    "\n",
    "greet(\"alice\")"
   ]
  },
  {
   "cell_type": "code",
   "execution_count": null,
   "id": "ee1ac506",
   "metadata": {},
   "outputs": [
    {
     "name": "stdout",
     "output_type": "stream",
     "text": [
      "HELLO\n"
     ]
    }
   ],
   "source": [
    "# Basic Definition: Write a function greet() that returns \"hello\". Apply the @uppercase decorator to make its output uppercase.\n",
    "\n",
    "def uppercase(func):\n",
    "    def wrapper(*args, **kwargs):\n",
    "        result = func(*args, **kwargs)\n",
    "        return result.upper() if isinstance(result, str) else result \n",
    "    return wrapper\n",
    "\n",
    "@uppercase\n",
    "def greet():\n",
    "    return \"hello\"\n",
    "\n",
    "print(greet())"
   ]
  },
  {
   "cell_type": "code",
   "execution_count": null,
   "id": "fc0e8d15",
   "metadata": {},
   "outputs": [
    {
     "name": "stdout",
     "output_type": "stream",
     "text": [
      "HELLO!!!\n",
      "HELLO!!!\n"
     ]
    }
   ],
   "source": [
    "# Decorator Chaining: Apply both @uppercase and @exclaim to the greet() function. Try both orders:\n",
    "\n",
    "def uppercase(func):\n",
    "    def wrapper(*args, **kwargs):\n",
    "        result = func(*args, **kwargs)\n",
    "        return result.upper() if isinstance(result, str) else result\n",
    "    return wrapper\n",
    "\n",
    "def exlaim(func):\n",
    "    def wrapper(*args, **kwargs):\n",
    "        result = func(*args, **kwargs)\n",
    "        return result + \"!!!\" if isinstance(result, str) else result\n",
    "    return wrapper\n",
    "\n",
    "@uppercase\n",
    "@exlaim\n",
    "def greet():\n",
    "    return \"hello\"\n",
    "\n",
    "print(greet())\n",
    "\n",
    "@exlaim\n",
    "@uppercase\n",
    "def greet():\n",
    "    return \"hello\"\n",
    "\n",
    "print(greet())"
   ]
  },
  {
   "cell_type": "code",
   "execution_count": 3,
   "id": "ce170d92",
   "metadata": {},
   "outputs": [
    {
     "name": "stdout",
     "output_type": "stream",
     "text": [
      "olleh\n"
     ]
    }
   ],
   "source": [
    "# Basic Definition: Write a @reverse decorator that reverses the string returned by a function greet() which outputs \"hello\".\n",
    "\n",
    "def reverse(func):\n",
    "    def wrapper(*args, **kwargs):\n",
    "        result = func(*args, **kwargs)\n",
    "        return result[::-1] if isinstance(result, str) else result\n",
    "    return wrapper\n",
    "\n",
    "@reverse\n",
    "def greet():\n",
    "    return \"hello\"\n",
    "\n",
    "print(greet())"
   ]
  },
  {
   "cell_type": "code",
   "execution_count": 5,
   "id": "8f1043fe",
   "metadata": {},
   "outputs": [
    {
     "name": "stdout",
     "output_type": "stream",
     "text": [
      "***olleh***\n",
      "***olleh***\n"
     ]
    }
   ],
   "source": [
    "def reverse(func):\n",
    "    def wrapper(*args, **kwargs):\n",
    "        result = func(*args, **kwargs)\n",
    "        return result[::-1] if isinstance(result, str) else result\n",
    "    return wrapper\n",
    "\n",
    "def starborder(func):\n",
    "    def wrapper(*args, **kwargs):\n",
    "        result = func(*args, **kwargs)\n",
    "        return f\"***{result}***\" if isinstance(result, str) else result\n",
    "    return wrapper\n",
    "\n",
    "@starborder\n",
    "@reverse\n",
    "def greet():\n",
    "    return \"hello\"\n",
    "\n",
    "@reverse\n",
    "@starborder\n",
    "def greet2():\n",
    "    return \"hello\"\n",
    "\n",
    "print(greet())\n",
    "print(greet2())"
   ]
  },
  {
   "cell_type": "code",
   "execution_count": null,
   "id": "874ee768",
   "metadata": {},
   "outputs": [
    {
     "name": "stdout",
     "output_type": "stream",
     "text": [
      "first\n",
      "second\n",
      "hello\n",
      "\n",
      "\n",
      "second\n",
      "first\n",
      "Hello\n"
     ]
    }
   ],
   "source": [
    "def first(func):\n",
    "    def wrapper(*args, **kwargs):\n",
    "        print(\"first\")\n",
    "        return func(*args, **kwargs)\n",
    "    return wrapper\n",
    "\n",
    "def second(func):\n",
    "    def wrapper(*args, **kwargs):\n",
    "        print(\"second\")\n",
    "        return func(*args, **kwargs)\n",
    "    return wrapper\n",
    "\n",
    "@first\n",
    "@second\n",
    "def greet():\n",
    "    print(\"hello\")\n",
    "\n",
    "greet()\n",
    "\n",
    "print('\\n')\n",
    "\n",
    "@second\n",
    "@first\n",
    "def greet1():\n",
    "    print(\"Hello\")\n",
    "\n",
    "greet1()"
   ]
  },
  {
   "cell_type": "code",
   "execution_count": 13,
   "id": "738438ae",
   "metadata": {},
   "outputs": [
    {
     "name": "stdout",
     "output_type": "stream",
     "text": [
      "-36\n",
      "-32\n",
      "16\n"
     ]
    }
   ],
   "source": [
    "def double(func):\n",
    "    def wrapper(*args, **kwargs):\n",
    "        return func(*args, **kwargs) * 2\n",
    "    return wrapper\n",
    "\n",
    "def square(func):\n",
    "    def wrapper(*args, **kwargs):\n",
    "        return func(*args, **kwargs) ** 2\n",
    "    return wrapper\n",
    "\n",
    "def negate(func):\n",
    "    def wrapper(*args, **kwargs):\n",
    "        return -func(*args, **kwargs)\n",
    "    return wrapper\n",
    "\n",
    "def getnumber():\n",
    "    return 3\n",
    "\n",
    "@negate\n",
    "@square\n",
    "@double\n",
    "def num1():\n",
    "    return 3\n",
    "\n",
    "@negate\n",
    "@double\n",
    "@square\n",
    "def num2():\n",
    "    return 4\n",
    "\n",
    "@square\n",
    "@double\n",
    "@negate\n",
    "def num3():\n",
    "    return 2\n",
    "\n",
    "print(num1())\n",
    "print(num2())\n",
    "print(num3())"
   ]
  },
  {
   "cell_type": "code",
   "execution_count": 15,
   "id": "116897f8",
   "metadata": {},
   "outputs": [
    {
     "name": "stdout",
     "output_type": "stream",
     "text": [
      "Argument: args=(5,), kwargs={'b': 7}\n",
      "Result: 12\n",
      "Argument: args=(3,), kwargs={'b': 4}\n",
      "Result: 12\n"
     ]
    },
    {
     "data": {
      "text/plain": [
       "12"
      ]
     },
     "execution_count": 15,
     "metadata": {},
     "output_type": "execute_result"
    }
   ],
   "source": [
    "def logargs(func):\n",
    "    def wrapper(*args, **kwargs):\n",
    "        print(f\"Argument: args={args}, kwargs={kwargs}\")\n",
    "        return func(*args, **kwargs)\n",
    "    return wrapper\n",
    "\n",
    "def logresult(func):\n",
    "    def wrapper(*args, **kwargs):\n",
    "        result = func(*args, **kwargs)\n",
    "        print(f\"Result: {result}\")\n",
    "        return result\n",
    "    return wrapper\n",
    "\n",
    "@logresult\n",
    "@logargs\n",
    "def add(a, b):\n",
    "    return a + b\n",
    "\n",
    "add(5,b=7)\n",
    "\n",
    "@logargs\n",
    "@logresult\n",
    "def multiply(a, b):\n",
    "    return a * b\n",
    "\n",
    "multiply(3, b=4)"
   ]
  },
  {
   "cell_type": "code",
   "execution_count": 23,
   "id": "d3eb2a90",
   "metadata": {},
   "outputs": [
    {
     "name": "stdout",
     "output_type": "stream",
     "text": [
      "Execution time for fib1((1,)): 0.000000s\n",
      "Execution time for fib1((0,)): 0.000000s\n",
      "Execution time for fib1((2,)): 0.000000s\n",
      "Execution time for fib1((1,)): 0.000000s\n",
      "Execution time for fib1((3,)): 0.000000s\n",
      "Execution time for fib1((2,)): 0.000000s\n",
      "Execution time for fib1((4,)): 0.000000s\n",
      "Execution time for fib1((3,)): 0.000000s\n",
      "Execution time for fib1((5,)): 0.000000s\n",
      "Execution time for fib1((4,)): 0.000000s\n",
      "Execution time for fib1((6,)): 0.000000s\n",
      "Execution time for fib1((5,)): 0.000000s\n",
      "Execution time for fib1((7,)): 0.000000s\n",
      "Execution time for fib1((6,)): 0.000000s\n",
      "Execution time for fib1((8,)): 0.000000s\n",
      "Execution time for fib1((7,)): 0.000000s\n",
      "Execution time for fib1((9,)): 0.000000s\n",
      "Execution time for fib1((8,)): 0.000000s\n",
      "Execution time for fib1((10,)): 0.000000s\n",
      "\n",
      "\n",
      "Execution time for fib2((1,)): 0.000000s\n",
      "Execution time for fib2((0,)): 0.000000s\n",
      "Execution time for fib2((2,)): 0.000000s\n",
      "Execution time for fib2((3,)): 0.000000s\n",
      "Execution time for fib2((4,)): 0.000000s\n",
      "Execution time for fib2((5,)): 0.000000s\n",
      "Execution time for fib2((6,)): 0.000000s\n",
      "Execution time for fib2((7,)): 0.000000s\n",
      "Execution time for fib2((8,)): 0.000000s\n"
     ]
    },
    {
     "data": {
      "text/plain": [
       "21"
      ]
     },
     "execution_count": 23,
     "metadata": {},
     "output_type": "execute_result"
    }
   ],
   "source": [
    "import time\n",
    "from functools import wraps\n",
    "\n",
    "def timings(func):\n",
    "    @wraps(func)\n",
    "    def wrapper(*args, **kwargs):\n",
    "        start = time.time()\n",
    "        result = func(*args, **kwargs)\n",
    "        end = time.time()\n",
    "        print(f\"Execution time for {func.__name__}({args}): {end -start:.6f}s\")\n",
    "        return result\n",
    "    return wrapper\n",
    "\n",
    "def cache(func):\n",
    "    memo = {}\n",
    "    @wraps(func)\n",
    "    def wrapper(n):\n",
    "        if n in memo:\n",
    "            return memo[n]\n",
    "        result = func(n)\n",
    "        memo[n] = result\n",
    "        return result\n",
    "    return wrapper\n",
    "\n",
    "@timings\n",
    "@cache\n",
    "def fib1(n):\n",
    "    if n <= 1:\n",
    "        return n\n",
    "    return fib1(n-1) + fib1(n - 2)\n",
    "\n",
    "fib1(10)\n",
    "print(\"\\n\")\n",
    "\n",
    "@cache\n",
    "@timings\n",
    "def fib2(n):\n",
    "    if n<= 1:\n",
    "        return n\n",
    "    return fib2(n-1) + fib2(n-2)\n",
    "\n",
    "fib2(8)"
   ]
  },
  {
   "cell_type": "code",
   "execution_count": 28,
   "id": "49d14dee",
   "metadata": {},
   "outputs": [
    {
     "name": "stdout",
     "output_type": "stream",
     "text": [
      "Function 'getdata1' called at 2025-08-18 20:27:34\n",
      "Fetching senstive data...\n",
      "{'data': [1, 2, 3]}\n",
      "\n",
      "\n",
      "Function 'getdata2' called at 2025-08-18 20:27:34\n",
      "Fetching sensitive data...\n",
      "{'data': [1, 2, 3]}\n"
     ]
    }
   ],
   "source": [
    "import time\n",
    "from functools import wraps\n",
    "\n",
    "userloggedin = True\n",
    "\n",
    "def requirelogin(func):\n",
    "    @wraps(func)\n",
    "    def wrapper(*args, **kwargs):\n",
    "        if not userloggedin:\n",
    "            print(\"Access denied: User not logged in!\")\n",
    "            return None\n",
    "        return func(*args, **kwargs)\n",
    "    return wrapper\n",
    "\n",
    "def logcall(func):\n",
    "    @wraps(func)\n",
    "    def wrapper(*args, **kwargs):\n",
    "        print(f\"Function '{func.__name__}' called at {time.strftime('%Y-%m-%d %H:%M:%S')}\")\n",
    "        return func(*args, **kwargs)\n",
    "    return wrapper\n",
    "\n",
    "@logcall\n",
    "@requirelogin\n",
    "def getdata1():\n",
    "    print(\"Fetching senstive data...\")\n",
    "    return {\"data\": [1,2,3]}\n",
    "\n",
    "@requirelogin\n",
    "@logcall\n",
    "def getdata2():\n",
    "    print(\"Fetching sensitive data...\")\n",
    "    return {\"data\": [1,2,3]}\n",
    "\n",
    "\n",
    "\n",
    "print(getdata1())\n",
    "print('\\n')\n",
    "\n",
    "print(getdata2())"
   ]
  },
  {
   "cell_type": "code",
   "execution_count": null,
   "id": "1651f56e",
   "metadata": {},
   "outputs": [
    {
     "name": "stdout",
     "output_type": "stream",
     "text": [
      "Final Exception:  module 'signal' has no attribute 'SIGALRM'\n",
      "\n",
      "\n",
      "Attempt 1 failed: module 'signal' has no attribute 'SIGALRM'\n",
      "Attempt 2 failed: module 'signal' has no attribute 'SIGALRM'\n",
      "Attempt 3 failed: module 'signal' has no attribute 'SIGALRM'\n",
      "Attempt 4 failed: module 'signal' has no attribute 'SIGALRM'\n",
      "Attempt 5 failed: module 'signal' has no attribute 'SIGALRM'\n",
      "Final Exception:  Function failed after 5 retries\n"
     ]
    }
   ],
   "source": [
    "import time\n",
    "import random\n",
    "import signal\n",
    "from functools import wraps\n",
    "\n",
    "def retry(n):\n",
    "    def decorator(func):\n",
    "        @wraps(func)\n",
    "        def wrapper(*args, **kwargs):\n",
    "            for attempt in range(1, n + 1):\n",
    "                try:\n",
    "                    return func(*args, **kwargs)\n",
    "                except Exception as e:\n",
    "                    print(f\"Attempt {attempt} failed: {e}\")\n",
    "            raise RuntimeError(f\"Function failed after {n} retries\")\n",
    "        return wrapper\n",
    "    return decorator\n",
    "\n",
    "def timeout(t):\n",
    "    def decorator(func):\n",
    "        @wraps(func)\n",
    "        def wrapper(*args, **kwargs):\n",
    "            def handler(signum, frame):\n",
    "                raise TimeoutError(f\"function timed out after {t} seconds\")\n",
    "            signal.signal(signal.SIGALRM, handler)\n",
    "            signal.alarm(t)\n",
    "            try:\n",
    "                return func(*args, **kwargs)\n",
    "            finally:\n",
    "                signal.alarm(0)\n",
    "        return wrapper\n",
    "    return decorator\n",
    "    \n",
    "def unstablefunction():\n",
    "    delay = random.uniform(0, 3)\n",
    "    print(f\"Running unstable function (delay={delay:.2f}s)...\")\n",
    "    time.sleep(delay)\n",
    "    if random.random() < 0.5:\n",
    "        raise ValueError(\"Random failure!\")\n",
    "    return \"Success!\"\n",
    "\n",
    "@timeout(2)\n",
    "@retry(5)\n",
    "def test1():\n",
    "    return unstablefunction()\n",
    "\n",
    "@retry(5)\n",
    "@timeout(2)\n",
    "def test2():\n",
    "    return unstablefunction()\n",
    "\n",
    "try:\n",
    "    print(\"Result: \", test1())\n",
    "except Exception as e:\n",
    "    print(\"Final Exception: \", e)\n",
    "\n",
    "print('\\n')\n",
    "\n"
   ]
  },
  {
   "cell_type": "code",
   "execution_count": 32,
   "id": "3a5a1595",
   "metadata": {},
   "outputs": [
    {
     "name": "stdout",
     "output_type": "stream",
     "text": [
      "Attempt 1 failed: module 'signal' has no attribute 'SIGALRM'\n",
      "Attempt 2 failed: module 'signal' has no attribute 'SIGALRM'\n",
      "Attempt 3 failed: module 'signal' has no attribute 'SIGALRM'\n",
      "Attempt 4 failed: module 'signal' has no attribute 'SIGALRM'\n",
      "Attempt 5 failed: module 'signal' has no attribute 'SIGALRM'\n",
      "Final Exception:  Function failed after 5 retries\n"
     ]
    }
   ],
   "source": [
    "try:\n",
    "    print(\"Result: \", test2())\n",
    "except Exception as e:\n",
    "    print(\"Final Exception: \", e)"
   ]
  },
  {
   "cell_type": "code",
   "execution_count": 35,
   "id": "da7fa727",
   "metadata": {},
   "outputs": [
    {
     "name": "stdout",
     "output_type": "stream",
     "text": [
      "[greet] call count: 1\n",
      "[greet] call count: 2\n",
      "[greet] call count: 3\n"
     ]
    },
    {
     "data": {
      "text/plain": [
       "'HELLO FINN'"
      ]
     },
     "execution_count": 35,
     "metadata": {},
     "output_type": "execute_result"
    }
   ],
   "source": [
    "from functools import wraps\n",
    "\n",
    "def countcall(decoratorfunc):\n",
    "    @wraps(decoratorfunc)\n",
    "    def wrapper(*dargs, **dkwargs):\n",
    "        decoratedfunc = decoratorfunc(*dargs, **dkwargs)\n",
    "        decoratedfunc.call_count = 0\n",
    "\n",
    "        @wraps(decoratedfunc)\n",
    "        def inner(*args, **kwargs):\n",
    "            decoratedfunc.call_count += 1\n",
    "            print(f\"[{decoratedfunc.__name__}] call count: {decoratedfunc.call_count}\")\n",
    "            return decoratedfunc(*args, **kwargs)\n",
    "        return inner\n",
    "    return wrapper\n",
    "\n",
    "def uppercase(func):\n",
    "    @wraps(func)\n",
    "    def wrapper(*args, **kwargs):\n",
    "        result = func(*args, **kwargs)\n",
    "        return result.upper() if isinstance(result, str) else result\n",
    "    return wrapper\n",
    "\n",
    "@countcall\n",
    "def greetdecorator(func):\n",
    "    @wraps(func)\n",
    "    def wrapper(*args, **kwargs):\n",
    "        return func(*args, **kwargs)\n",
    "    return wrapper\n",
    "\n",
    "@greetdecorator\n",
    "@uppercase\n",
    "def greet(name):\n",
    "    return f\"hello {name}\"\n",
    "\n",
    "greet(\"Monan\")\n",
    "greet(\"Balor\")\n",
    "greet(\"Finn\")"
   ]
  },
  {
   "cell_type": "code",
   "execution_count": null,
   "id": "211dff3a",
   "metadata": {},
   "outputs": [],
   "source": []
  }
 ],
 "metadata": {
  "kernelspec": {
   "display_name": "churn-env",
   "language": "python",
   "name": "python3"
  },
  "language_info": {
   "codemirror_mode": {
    "name": "ipython",
    "version": 3
   },
   "file_extension": ".py",
   "mimetype": "text/x-python",
   "name": "python",
   "nbconvert_exporter": "python",
   "pygments_lexer": "ipython3",
   "version": "3.10.18"
  }
 },
 "nbformat": 4,
 "nbformat_minor": 5
}
